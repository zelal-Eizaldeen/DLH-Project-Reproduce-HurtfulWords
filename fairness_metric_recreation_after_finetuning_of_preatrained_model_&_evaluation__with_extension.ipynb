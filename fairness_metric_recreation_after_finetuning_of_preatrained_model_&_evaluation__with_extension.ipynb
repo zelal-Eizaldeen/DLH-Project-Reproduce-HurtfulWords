{
  "cells": [
    {
      "cell_type": "markdown",
      "metadata": {
        "id": "view-in-github",
        "colab_type": "text"
      },
      "source": [
        "<a href=\"https://colab.research.google.com/github/zelal-Eizaldeen/DLH-Project-Reproduce-HurtfulWords/blob/main/fairness_metric_recreation_after_finetuning_of_preatrained_model_%26_evaluation__with_extension.ipynb\" target=\"_parent\"><img src=\"https://colab.research.google.com/assets/colab-badge.svg\" alt=\"Open In Colab\"/></a>"
      ]
    },
    {
      "cell_type": "markdown",
      "source": [
        "Names:\n",
        "Payel Chakraborty &&  Zilal Eiz Al Din\n",
        "\n",
        "NetIDs:\n",
        "payelc2 && zelalae2\n",
        "\n",
        "Purpose:\n",
        "This file contains Paper Name, their Pretrained Models, Environment and Prerequisites and Script usage.\n",
        "\n",
        "Dataset:\n",
        "HurtfulWordsDataset (MIMIC3)\n",
        "\n",
        "Paper Reference:\n",
        "Hurtful Words: Quantifying Biases in Clinical Contextual Word Embeddings\n",
        "\n",
        "The paper: https://arxiv.org/abs/2003.11515\n",
        "Github Repo of the paper: https://github.com/MLforHealth/HurtfulWords\n",
        "Github Repo of the Reproduction: https://github.com/zelal-Eizaldeen/DLH-Project-Reproduce-HurtfulWords\n",
        "\n",
        "Prerequisite: the cleaned demographic dataset from \"data.csv\" and the listfile.csv within phenotyping folder in mimic3-benchmark folder.\n",
        "\n",
        "Usage:\n",
        "This script is used to merge the demographic data (subject, language, ethnicity, gender, insurance, and cleaned up clinical notes) with the 25 labels from the \"phenotyping\" folder in mimic3-benchmark. Phenotyping folder has both train and test datasets, so this will tokenize both datasets, fine-tune the pretrained baseline model with the train dataset and evaluate the test dataset for performance gaps within each demog subgroup. Also, evaluate the test dataset for performance gaps within intersectional demographic groups."
      ],
      "metadata": {
        "id": "9VWQLJ35BYgf"
      }
    },
    {
      "cell_type": "markdown",
      "source": [
        "# Mounting the Google Drive and importing necessary packages and libraries"
      ],
      "metadata": {
        "id": "6JTWx5jODea3"
      }
    },
    {
      "cell_type": "code",
      "execution_count": null,
      "metadata": {
        "colab": {
          "base_uri": "https://localhost:8080/"
        },
        "id": "f7ceuhxCuJLZ",
        "outputId": "ca97ccb0-9334-488f-ff8a-99ec479d8177"
      },
      "outputs": [
        {
          "output_type": "stream",
          "name": "stdout",
          "text": [
            "Mounted at /content/drive\n"
          ]
        }
      ],
      "source": [
        "from google.colab import drive\n",
        "drive.mount('/content/drive', force_remount=True)"
      ]
    },
    {
      "cell_type": "code",
      "execution_count": null,
      "metadata": {
        "id": "gUiVkXXkGCyO"
      },
      "outputs": [],
      "source": [
        "#Import modules\n",
        "import sys\n",
        "sys.path.append('/content/drive/MyDrive/Payel-DLH-related/Colab Notebooks')\n",
        "import pandas as pd\n",
        "from pathlib import Path\n",
        "import os\n",
        "from transformers import BertForMaskedLM, BertModel, BertTokenizer,AutoModelForMaskedLM, AutoTokenizer\n",
        "import torch\n",
        "import pandas as pd"
      ]
    },
    {
      "cell_type": "code",
      "source": [
        "# import torch\n",
        "\n",
        "# device = torch.device(\"cuda\" if torch.cuda.is_available() else \"cpu\")\n",
        "# print(\"Using device:\", device)\n",
        "\n",
        "# model.to(device)\n"
      ],
      "metadata": {
        "id": "LEdM1ifrpegV"
      },
      "execution_count": null,
      "outputs": []
    },
    {
      "cell_type": "markdown",
      "source": [
        "# Pretrained Clinical BERT Model that was downloaded from the Original paper Github repository"
      ],
      "metadata": {
        "id": "YpXPabWODkna"
      }
    },
    {
      "cell_type": "code",
      "execution_count": null,
      "metadata": {
        "id": "XJpPcEINeHPP"
      },
      "outputs": [],
      "source": [
        "SCIBERT_DIR = Path('/content/drive/MyDrive/Payel-DLH-related/HurtfulWords/pretrainedModels') #point to wherever you have uploaded the pretrained models"
      ]
    },
    {
      "cell_type": "code",
      "execution_count": null,
      "metadata": {
        "id": "IFw2mFC5eHSd"
      },
      "outputs": [],
      "source": [
        "baseline_model_path = SCIBERT_DIR / 'Baseline_Clinical_BERT/baseline_clinical_BERT_1_epoch_512'"
      ]
    },
    {
      "cell_type": "code",
      "execution_count": null,
      "metadata": {
        "colab": {
          "base_uri": "https://localhost:8080/"
        },
        "id": "4UHNP6NPPu0m",
        "outputId": "6c1600a4-20ea-4956-c00f-01f61e21df30"
      },
      "outputs": [
        {
          "output_type": "stream",
          "name": "stdout",
          "text": [
            "/content/drive/MyDrive/Payel-DLH-related/HurtfulWords/pretrainedModels/Baseline_Clinical_BERT/baseline_clinical_BERT_1_epoch_512\n"
          ]
        }
      ],
      "source": [
        "print(baseline_model_path)"
      ]
    },
    {
      "cell_type": "markdown",
      "source": [
        "# There are two kinds of input files: the demog file (data.csv) is the file with notes per subject anf the mimic files are the files with phenotype labels(25 of them) originally downloaded using the mimic-benchmark build steps. The latter have both train and test of files."
      ],
      "metadata": {
        "id": "SHlBE7kkDy-P"
      }
    },
    {
      "cell_type": "code",
      "execution_count": null,
      "metadata": {
        "id": "PzayBo9Ycjjf"
      },
      "outputs": [],
      "source": [
        "# DEMOG_FILE = Path('/content/drive/MyDrive/Payel-DLH-related/DataFiles/sampled_files')\n",
        "DEMOG_FILE = Path('/content/drive/MyDrive/Payel-DLH-related/DataFiles/cleaned_data/data.csv') #output from \"filtering_tokenizing_notes.ipynb\"\n",
        "MIMIC_FILE = Path('/content/drive/MyDrive/Payel-DLH-related/mimic3-benchmarks/data/phenotyping/train') #point to the mimic3-benchmarks folder you created in \"mimic3_benchmark_preprocessing.ipynb\", and the data/phenotyping/train folder within\n",
        "MIMIC_FILE_TEST = Path('/content/drive/MyDrive/Payel-DLH-related/mimic3-benchmarks/data/phenotyping/test') #point to the mimic3-benchmarks folder you created in \"mimic3_benchmark_preprocessing.ipynb\", and the data/phenotyping/test folder within"
      ]
    },
    {
      "cell_type": "code",
      "execution_count": null,
      "metadata": {
        "id": "uNH7KBcNfeeY"
      },
      "outputs": [],
      "source": [
        "df_demog = pd.read_csv(DEMOG_FILE)"
      ]
    },
    {
      "cell_type": "code",
      "execution_count": null,
      "metadata": {
        "colab": {
          "base_uri": "https://localhost:8080/"
        },
        "id": "FXBFGVYcUdMZ",
        "outputId": "6dc8aec9-b04b-49cb-e21e-349d9a772bdb"
      },
      "outputs": [
        {
          "output_type": "stream",
          "name": "stdout",
          "text": [
            "5018\n"
          ]
        }
      ],
      "source": [
        "print(len(df_demog))"
      ]
    },
    {
      "cell_type": "code",
      "execution_count": null,
      "metadata": {
        "colab": {
          "base_uri": "https://localhost:8080/"
        },
        "id": "C5lLd45wFeWx",
        "outputId": "e37a7680-c959-48ec-c3e3-f209e96a5368"
      },
      "outputs": [
        {
          "output_type": "execute_result",
          "data": {
            "text/plain": [
              "Index(['row_id', 'subject_id', 'hadm_id', 'chartdate', 'charttime',\n",
              "       'storetime', 'category', 'description', 'cgid', 'iserror', 'text',\n",
              "       'row_id_x', 'gender', 'dob', 'dod', 'dod_hosp', 'dod_ssn',\n",
              "       'expire_flag', 'fold', 'row_id_y', 'admittime', 'dischtime',\n",
              "       'deathtime', 'admission_type', 'admission_location',\n",
              "       'discharge_location', 'insurance', 'language', 'religion',\n",
              "       'marital_status', 'ethnicity', 'edregtime', 'edouttime', 'diagnosis',\n",
              "       'hospital_expire_flag', 'has_chartevents_data', 'dod_merged',\n",
              "       'ethnicity_to_use', 'age', 'icd9_code', 'language_to_use', 'icustay_id',\n",
              "       'intime', 'hours_from_icu_admit', 'concat_notes', 'cleaned_sent',\n",
              "       'bert_input'],\n",
              "      dtype='object')"
            ]
          },
          "metadata": {},
          "execution_count": 12
        }
      ],
      "source": [
        "df_demog.columns"
      ]
    },
    {
      "cell_type": "markdown",
      "source": [
        "# Renaming the correct note field from row_id to note_id in the demog file"
      ],
      "metadata": {
        "id": "Zjyp_D4rD217"
      }
    },
    {
      "cell_type": "code",
      "execution_count": null,
      "metadata": {
        "colab": {
          "base_uri": "https://localhost:8080/",
          "height": 241
        },
        "id": "0E_vw7RTYFxV",
        "outputId": "f9f772c0-d7c8-4f72-8323-f1aeb90c3f94"
      },
      "outputs": [
        {
          "output_type": "execute_result",
          "data": {
            "text/plain": [
              "0    Patient made CMO last night, bradycardic 20-30...\n",
              "1    Patient made CMO last night, bradycardic 20-30...\n",
              "2    PHIAGEPHI yr old female admitted to the micu s...\n",
              "3    PHIAGEPHI yr old female admitted to the micu s...\n",
              "4    Comfort care (CMO, Comfort Measures)    Assess...\n",
              "Name: bert_input, dtype: object"
            ],
            "text/html": [
              "<div>\n",
              "<style scoped>\n",
              "    .dataframe tbody tr th:only-of-type {\n",
              "        vertical-align: middle;\n",
              "    }\n",
              "\n",
              "    .dataframe tbody tr th {\n",
              "        vertical-align: top;\n",
              "    }\n",
              "\n",
              "    .dataframe thead th {\n",
              "        text-align: right;\n",
              "    }\n",
              "</style>\n",
              "<table border=\"1\" class=\"dataframe\">\n",
              "  <thead>\n",
              "    <tr style=\"text-align: right;\">\n",
              "      <th></th>\n",
              "      <th>bert_input</th>\n",
              "    </tr>\n",
              "  </thead>\n",
              "  <tbody>\n",
              "    <tr>\n",
              "      <th>0</th>\n",
              "      <td>Patient made CMO last night, bradycardic 20-30...</td>\n",
              "    </tr>\n",
              "    <tr>\n",
              "      <th>1</th>\n",
              "      <td>Patient made CMO last night, bradycardic 20-30...</td>\n",
              "    </tr>\n",
              "    <tr>\n",
              "      <th>2</th>\n",
              "      <td>PHIAGEPHI yr old female admitted to the micu s...</td>\n",
              "    </tr>\n",
              "    <tr>\n",
              "      <th>3</th>\n",
              "      <td>PHIAGEPHI yr old female admitted to the micu s...</td>\n",
              "    </tr>\n",
              "    <tr>\n",
              "      <th>4</th>\n",
              "      <td>Comfort care (CMO, Comfort Measures)    Assess...</td>\n",
              "    </tr>\n",
              "  </tbody>\n",
              "</table>\n",
              "</div><br><label><b>dtype:</b> object</label>"
            ]
          },
          "metadata": {},
          "execution_count": 13
        }
      ],
      "source": [
        "# df_demog=df_demog.reset_index()()\n",
        "df_demog=df_demog.rename(columns={'row_id':'note_id'})\n",
        "df_demog['bert_input'].head()"
      ]
    },
    {
      "cell_type": "code",
      "execution_count": null,
      "metadata": {
        "colab": {
          "base_uri": "https://localhost:8080/",
          "height": 109
        },
        "id": "_csGCKQ8U9f1",
        "outputId": "376162eb-ea63-40c0-b9a2-5db7c38eaa1a"
      },
      "outputs": [
        {
          "output_type": "execute_result",
          "data": {
            "text/plain": [
              "'Patient made CMO last night, bradycardic 20-30 bpm when I came in,    apneic, appears comfortable. Family at bedside with patient, emotional    support given. Went into asystole, house officer intormed. Pronounced    dead by doctor PHINAMEPHI at  Family offered for autopsy which they    refused to be done to the patient. Post mortem care done, after family    have spent time with patient. Patient s wife not at bedside, children    will inform their mother personally. PHINAMEPHI rites  sacrament of sick    done yesterday. Patient was brought to PHINAMEPHI with name band intact. Comfort care (CMO, Comfort Measures)    Assessment:    Throughout shift pt. became increasingly hypotensive despite being    given blood and albumin. Sats progressively worsened on 100% FIO    Family called and MDs conformed CMO status. Action:    PRN morphine as needed. Morphine gtt ordered but not hung as pt. unresponsive and appears comfortable. Emotional support to family. Response:    Pt. appears comfortable. Breathing no longer labored. Family all at    bedside. Plan:    Continue with morphine for pt. comfort.'"
            ],
            "application/vnd.google.colaboratory.intrinsic+json": {
              "type": "string"
            }
          },
          "metadata": {},
          "execution_count": 14
        }
      ],
      "source": [
        "df_demog['bert_input'][1]"
      ]
    },
    {
      "cell_type": "markdown",
      "source": [
        "# Dataframe creation for the mimic files- the listfile.csv contains the subject and the 5 labels. There are two of them, on for train and the other for test. The subject_id has been extracted from the fist field in the listfile.csv which was actually contaning the episode timeseries filenames."
      ],
      "metadata": {
        "id": "cyDC1jxeEG92"
      }
    },
    {
      "cell_type": "code",
      "execution_count": null,
      "metadata": {
        "id": "L0Q1RrDEhnNo"
      },
      "outputs": [],
      "source": [
        "df_mimic = pd.read_csv(MIMIC_FILE/'listfile.csv',index_col=0)\n",
        "df_mimic = df_mimic.reset_index()"
      ]
    },
    {
      "cell_type": "code",
      "execution_count": null,
      "metadata": {
        "colab": {
          "base_uri": "https://localhost:8080/",
          "height": 359
        },
        "collapsed": true,
        "id": "LrK94AY-cjmS",
        "outputId": "8c528ff7-9458-4032-a423-132f753ee42a"
      },
      "outputs": [
        {
          "output_type": "execute_result",
          "data": {
            "text/plain": [
              "                            stay  period_length  \\\n",
              "0  10036_episode1_timeseries.csv        43.3632   \n",
              "1   1004_episode1_timeseries.csv       144.9864   \n",
              "2   1004_episode2_timeseries.csv        53.8656   \n",
              "3  10064_episode1_timeseries.csv         4.9680   \n",
              "4  10093_episode1_timeseries.csv        21.6408   \n",
              "\n",
              "   Acute and unspecified renal failure  Acute cerebrovascular disease  \\\n",
              "0                                    1                              0   \n",
              "1                                    0                              0   \n",
              "2                                    1                              1   \n",
              "3                                    0                              0   \n",
              "4                                    1                              0   \n",
              "\n",
              "   Acute myocardial infarction  Cardiac dysrhythmias  Chronic kidney disease  \\\n",
              "0                            0                     0                       0   \n",
              "1                            0                     0                       0   \n",
              "2                            0                     0                       0   \n",
              "3                            0                     1                       0   \n",
              "4                            1                     0                       0   \n",
              "\n",
              "   Chronic obstructive pulmonary disease and bronchiectasis  \\\n",
              "0                                                  0          \n",
              "1                                                  0          \n",
              "2                                                  0          \n",
              "3                                                  0          \n",
              "4                                                  0          \n",
              "\n",
              "   Complications of surgical procedures or medical care  Conduction disorders  \\\n",
              "0                                                  0                        0   \n",
              "1                                                  1                        0   \n",
              "2                                                  1                        0   \n",
              "3                                                  0                        0   \n",
              "4                                                  0                        0   \n",
              "\n",
              "   ...  Gastrointestinal hemorrhage  \\\n",
              "0  ...                            0   \n",
              "1  ...                            0   \n",
              "2  ...                            0   \n",
              "3  ...                            0   \n",
              "4  ...                            1   \n",
              "\n",
              "   Hypertension with complications and secondary hypertension  \\\n",
              "0                                                  0            \n",
              "1                                                  1            \n",
              "2                                                  0            \n",
              "3                                                  0            \n",
              "4                                                  0            \n",
              "\n",
              "   Other liver diseases  Other lower respiratory disease  \\\n",
              "0                     0                                0   \n",
              "1                     0                                0   \n",
              "2                     1                                0   \n",
              "3                     0                                0   \n",
              "4                     0                                0   \n",
              "\n",
              "   Other upper respiratory disease  \\\n",
              "0                                0   \n",
              "1                                0   \n",
              "2                                0   \n",
              "3                                0   \n",
              "4                                0   \n",
              "\n",
              "   Pleurisy; pneumothorax; pulmonary collapse  \\\n",
              "0                                           0   \n",
              "1                                           0   \n",
              "2                                           0   \n",
              "3                                           0   \n",
              "4                                           0   \n",
              "\n",
              "   Pneumonia (except that caused by tuberculosis or sexually transmitted disease)  \\\n",
              "0                                                  0                                \n",
              "1                                                  0                                \n",
              "2                                                  0                                \n",
              "3                                                  0                                \n",
              "4                                                  0                                \n",
              "\n",
              "   Respiratory failure; insufficiency; arrest (adult)  \\\n",
              "0                                                  0    \n",
              "1                                                  0    \n",
              "2                                                  0    \n",
              "3                                                  0    \n",
              "4                                                  0    \n",
              "\n",
              "   Septicemia (except in labor)  Shock  \n",
              "0                             1      1  \n",
              "1                             0      0  \n",
              "2                             0      0  \n",
              "3                             0      0  \n",
              "4                             0      1  \n",
              "\n",
              "[5 rows x 27 columns]"
            ],
            "text/html": [
              "\n",
              "  <div id=\"df-54d8371b-454c-4fd6-99e0-ffe3457e59af\" class=\"colab-df-container\">\n",
              "    <div>\n",
              "<style scoped>\n",
              "    .dataframe tbody tr th:only-of-type {\n",
              "        vertical-align: middle;\n",
              "    }\n",
              "\n",
              "    .dataframe tbody tr th {\n",
              "        vertical-align: top;\n",
              "    }\n",
              "\n",
              "    .dataframe thead th {\n",
              "        text-align: right;\n",
              "    }\n",
              "</style>\n",
              "<table border=\"1\" class=\"dataframe\">\n",
              "  <thead>\n",
              "    <tr style=\"text-align: right;\">\n",
              "      <th></th>\n",
              "      <th>stay</th>\n",
              "      <th>period_length</th>\n",
              "      <th>Acute and unspecified renal failure</th>\n",
              "      <th>Acute cerebrovascular disease</th>\n",
              "      <th>Acute myocardial infarction</th>\n",
              "      <th>Cardiac dysrhythmias</th>\n",
              "      <th>Chronic kidney disease</th>\n",
              "      <th>Chronic obstructive pulmonary disease and bronchiectasis</th>\n",
              "      <th>Complications of surgical procedures or medical care</th>\n",
              "      <th>Conduction disorders</th>\n",
              "      <th>...</th>\n",
              "      <th>Gastrointestinal hemorrhage</th>\n",
              "      <th>Hypertension with complications and secondary hypertension</th>\n",
              "      <th>Other liver diseases</th>\n",
              "      <th>Other lower respiratory disease</th>\n",
              "      <th>Other upper respiratory disease</th>\n",
              "      <th>Pleurisy; pneumothorax; pulmonary collapse</th>\n",
              "      <th>Pneumonia (except that caused by tuberculosis or sexually transmitted disease)</th>\n",
              "      <th>Respiratory failure; insufficiency; arrest (adult)</th>\n",
              "      <th>Septicemia (except in labor)</th>\n",
              "      <th>Shock</th>\n",
              "    </tr>\n",
              "  </thead>\n",
              "  <tbody>\n",
              "    <tr>\n",
              "      <th>0</th>\n",
              "      <td>10036_episode1_timeseries.csv</td>\n",
              "      <td>43.3632</td>\n",
              "      <td>1</td>\n",
              "      <td>0</td>\n",
              "      <td>0</td>\n",
              "      <td>0</td>\n",
              "      <td>0</td>\n",
              "      <td>0</td>\n",
              "      <td>0</td>\n",
              "      <td>0</td>\n",
              "      <td>...</td>\n",
              "      <td>0</td>\n",
              "      <td>0</td>\n",
              "      <td>0</td>\n",
              "      <td>0</td>\n",
              "      <td>0</td>\n",
              "      <td>0</td>\n",
              "      <td>0</td>\n",
              "      <td>0</td>\n",
              "      <td>1</td>\n",
              "      <td>1</td>\n",
              "    </tr>\n",
              "    <tr>\n",
              "      <th>1</th>\n",
              "      <td>1004_episode1_timeseries.csv</td>\n",
              "      <td>144.9864</td>\n",
              "      <td>0</td>\n",
              "      <td>0</td>\n",
              "      <td>0</td>\n",
              "      <td>0</td>\n",
              "      <td>0</td>\n",
              "      <td>0</td>\n",
              "      <td>1</td>\n",
              "      <td>0</td>\n",
              "      <td>...</td>\n",
              "      <td>0</td>\n",
              "      <td>1</td>\n",
              "      <td>0</td>\n",
              "      <td>0</td>\n",
              "      <td>0</td>\n",
              "      <td>0</td>\n",
              "      <td>0</td>\n",
              "      <td>0</td>\n",
              "      <td>0</td>\n",
              "      <td>0</td>\n",
              "    </tr>\n",
              "    <tr>\n",
              "      <th>2</th>\n",
              "      <td>1004_episode2_timeseries.csv</td>\n",
              "      <td>53.8656</td>\n",
              "      <td>1</td>\n",
              "      <td>1</td>\n",
              "      <td>0</td>\n",
              "      <td>0</td>\n",
              "      <td>0</td>\n",
              "      <td>0</td>\n",
              "      <td>1</td>\n",
              "      <td>0</td>\n",
              "      <td>...</td>\n",
              "      <td>0</td>\n",
              "      <td>0</td>\n",
              "      <td>1</td>\n",
              "      <td>0</td>\n",
              "      <td>0</td>\n",
              "      <td>0</td>\n",
              "      <td>0</td>\n",
              "      <td>0</td>\n",
              "      <td>0</td>\n",
              "      <td>0</td>\n",
              "    </tr>\n",
              "    <tr>\n",
              "      <th>3</th>\n",
              "      <td>10064_episode1_timeseries.csv</td>\n",
              "      <td>4.9680</td>\n",
              "      <td>0</td>\n",
              "      <td>0</td>\n",
              "      <td>0</td>\n",
              "      <td>1</td>\n",
              "      <td>0</td>\n",
              "      <td>0</td>\n",
              "      <td>0</td>\n",
              "      <td>0</td>\n",
              "      <td>...</td>\n",
              "      <td>0</td>\n",
              "      <td>0</td>\n",
              "      <td>0</td>\n",
              "      <td>0</td>\n",
              "      <td>0</td>\n",
              "      <td>0</td>\n",
              "      <td>0</td>\n",
              "      <td>0</td>\n",
              "      <td>0</td>\n",
              "      <td>0</td>\n",
              "    </tr>\n",
              "    <tr>\n",
              "      <th>4</th>\n",
              "      <td>10093_episode1_timeseries.csv</td>\n",
              "      <td>21.6408</td>\n",
              "      <td>1</td>\n",
              "      <td>0</td>\n",
              "      <td>1</td>\n",
              "      <td>0</td>\n",
              "      <td>0</td>\n",
              "      <td>0</td>\n",
              "      <td>0</td>\n",
              "      <td>0</td>\n",
              "      <td>...</td>\n",
              "      <td>1</td>\n",
              "      <td>0</td>\n",
              "      <td>0</td>\n",
              "      <td>0</td>\n",
              "      <td>0</td>\n",
              "      <td>0</td>\n",
              "      <td>0</td>\n",
              "      <td>0</td>\n",
              "      <td>0</td>\n",
              "      <td>1</td>\n",
              "    </tr>\n",
              "  </tbody>\n",
              "</table>\n",
              "<p>5 rows × 27 columns</p>\n",
              "</div>\n",
              "    <div class=\"colab-df-buttons\">\n",
              "\n",
              "  <div class=\"colab-df-container\">\n",
              "    <button class=\"colab-df-convert\" onclick=\"convertToInteractive('df-54d8371b-454c-4fd6-99e0-ffe3457e59af')\"\n",
              "            title=\"Convert this dataframe to an interactive table.\"\n",
              "            style=\"display:none;\">\n",
              "\n",
              "  <svg xmlns=\"http://www.w3.org/2000/svg\" height=\"24px\" viewBox=\"0 -960 960 960\">\n",
              "    <path d=\"M120-120v-720h720v720H120Zm60-500h600v-160H180v160Zm220 220h160v-160H400v160Zm0 220h160v-160H400v160ZM180-400h160v-160H180v160Zm440 0h160v-160H620v160ZM180-180h160v-160H180v160Zm440 0h160v-160H620v160Z\"/>\n",
              "  </svg>\n",
              "    </button>\n",
              "\n",
              "  <style>\n",
              "    .colab-df-container {\n",
              "      display:flex;\n",
              "      gap: 12px;\n",
              "    }\n",
              "\n",
              "    .colab-df-convert {\n",
              "      background-color: #E8F0FE;\n",
              "      border: none;\n",
              "      border-radius: 50%;\n",
              "      cursor: pointer;\n",
              "      display: none;\n",
              "      fill: #1967D2;\n",
              "      height: 32px;\n",
              "      padding: 0 0 0 0;\n",
              "      width: 32px;\n",
              "    }\n",
              "\n",
              "    .colab-df-convert:hover {\n",
              "      background-color: #E2EBFA;\n",
              "      box-shadow: 0px 1px 2px rgba(60, 64, 67, 0.3), 0px 1px 3px 1px rgba(60, 64, 67, 0.15);\n",
              "      fill: #174EA6;\n",
              "    }\n",
              "\n",
              "    .colab-df-buttons div {\n",
              "      margin-bottom: 4px;\n",
              "    }\n",
              "\n",
              "    [theme=dark] .colab-df-convert {\n",
              "      background-color: #3B4455;\n",
              "      fill: #D2E3FC;\n",
              "    }\n",
              "\n",
              "    [theme=dark] .colab-df-convert:hover {\n",
              "      background-color: #434B5C;\n",
              "      box-shadow: 0px 1px 3px 1px rgba(0, 0, 0, 0.15);\n",
              "      filter: drop-shadow(0px 1px 2px rgba(0, 0, 0, 0.3));\n",
              "      fill: #FFFFFF;\n",
              "    }\n",
              "  </style>\n",
              "\n",
              "    <script>\n",
              "      const buttonEl =\n",
              "        document.querySelector('#df-54d8371b-454c-4fd6-99e0-ffe3457e59af button.colab-df-convert');\n",
              "      buttonEl.style.display =\n",
              "        google.colab.kernel.accessAllowed ? 'block' : 'none';\n",
              "\n",
              "      async function convertToInteractive(key) {\n",
              "        const element = document.querySelector('#df-54d8371b-454c-4fd6-99e0-ffe3457e59af');\n",
              "        const dataTable =\n",
              "          await google.colab.kernel.invokeFunction('convertToInteractive',\n",
              "                                                    [key], {});\n",
              "        if (!dataTable) return;\n",
              "\n",
              "        const docLinkHtml = 'Like what you see? Visit the ' +\n",
              "          '<a target=\"_blank\" href=https://colab.research.google.com/notebooks/data_table.ipynb>data table notebook</a>'\n",
              "          + ' to learn more about interactive tables.';\n",
              "        element.innerHTML = '';\n",
              "        dataTable['output_type'] = 'display_data';\n",
              "        await google.colab.output.renderOutput(dataTable, element);\n",
              "        const docLink = document.createElement('div');\n",
              "        docLink.innerHTML = docLinkHtml;\n",
              "        element.appendChild(docLink);\n",
              "      }\n",
              "    </script>\n",
              "  </div>\n",
              "\n",
              "\n",
              "<div id=\"df-00442169-51c5-41d1-b8e6-46923affb9c2\">\n",
              "  <button class=\"colab-df-quickchart\" onclick=\"quickchart('df-00442169-51c5-41d1-b8e6-46923affb9c2')\"\n",
              "            title=\"Suggest charts\"\n",
              "            style=\"display:none;\">\n",
              "\n",
              "<svg xmlns=\"http://www.w3.org/2000/svg\" height=\"24px\"viewBox=\"0 0 24 24\"\n",
              "     width=\"24px\">\n",
              "    <g>\n",
              "        <path d=\"M19 3H5c-1.1 0-2 .9-2 2v14c0 1.1.9 2 2 2h14c1.1 0 2-.9 2-2V5c0-1.1-.9-2-2-2zM9 17H7v-7h2v7zm4 0h-2V7h2v10zm4 0h-2v-4h2v4z\"/>\n",
              "    </g>\n",
              "</svg>\n",
              "  </button>\n",
              "\n",
              "<style>\n",
              "  .colab-df-quickchart {\n",
              "      --bg-color: #E8F0FE;\n",
              "      --fill-color: #1967D2;\n",
              "      --hover-bg-color: #E2EBFA;\n",
              "      --hover-fill-color: #174EA6;\n",
              "      --disabled-fill-color: #AAA;\n",
              "      --disabled-bg-color: #DDD;\n",
              "  }\n",
              "\n",
              "  [theme=dark] .colab-df-quickchart {\n",
              "      --bg-color: #3B4455;\n",
              "      --fill-color: #D2E3FC;\n",
              "      --hover-bg-color: #434B5C;\n",
              "      --hover-fill-color: #FFFFFF;\n",
              "      --disabled-bg-color: #3B4455;\n",
              "      --disabled-fill-color: #666;\n",
              "  }\n",
              "\n",
              "  .colab-df-quickchart {\n",
              "    background-color: var(--bg-color);\n",
              "    border: none;\n",
              "    border-radius: 50%;\n",
              "    cursor: pointer;\n",
              "    display: none;\n",
              "    fill: var(--fill-color);\n",
              "    height: 32px;\n",
              "    padding: 0;\n",
              "    width: 32px;\n",
              "  }\n",
              "\n",
              "  .colab-df-quickchart:hover {\n",
              "    background-color: var(--hover-bg-color);\n",
              "    box-shadow: 0 1px 2px rgba(60, 64, 67, 0.3), 0 1px 3px 1px rgba(60, 64, 67, 0.15);\n",
              "    fill: var(--button-hover-fill-color);\n",
              "  }\n",
              "\n",
              "  .colab-df-quickchart-complete:disabled,\n",
              "  .colab-df-quickchart-complete:disabled:hover {\n",
              "    background-color: var(--disabled-bg-color);\n",
              "    fill: var(--disabled-fill-color);\n",
              "    box-shadow: none;\n",
              "  }\n",
              "\n",
              "  .colab-df-spinner {\n",
              "    border: 2px solid var(--fill-color);\n",
              "    border-color: transparent;\n",
              "    border-bottom-color: var(--fill-color);\n",
              "    animation:\n",
              "      spin 1s steps(1) infinite;\n",
              "  }\n",
              "\n",
              "  @keyframes spin {\n",
              "    0% {\n",
              "      border-color: transparent;\n",
              "      border-bottom-color: var(--fill-color);\n",
              "      border-left-color: var(--fill-color);\n",
              "    }\n",
              "    20% {\n",
              "      border-color: transparent;\n",
              "      border-left-color: var(--fill-color);\n",
              "      border-top-color: var(--fill-color);\n",
              "    }\n",
              "    30% {\n",
              "      border-color: transparent;\n",
              "      border-left-color: var(--fill-color);\n",
              "      border-top-color: var(--fill-color);\n",
              "      border-right-color: var(--fill-color);\n",
              "    }\n",
              "    40% {\n",
              "      border-color: transparent;\n",
              "      border-right-color: var(--fill-color);\n",
              "      border-top-color: var(--fill-color);\n",
              "    }\n",
              "    60% {\n",
              "      border-color: transparent;\n",
              "      border-right-color: var(--fill-color);\n",
              "    }\n",
              "    80% {\n",
              "      border-color: transparent;\n",
              "      border-right-color: var(--fill-color);\n",
              "      border-bottom-color: var(--fill-color);\n",
              "    }\n",
              "    90% {\n",
              "      border-color: transparent;\n",
              "      border-bottom-color: var(--fill-color);\n",
              "    }\n",
              "  }\n",
              "</style>\n",
              "\n",
              "  <script>\n",
              "    async function quickchart(key) {\n",
              "      const quickchartButtonEl =\n",
              "        document.querySelector('#' + key + ' button');\n",
              "      quickchartButtonEl.disabled = true;  // To prevent multiple clicks.\n",
              "      quickchartButtonEl.classList.add('colab-df-spinner');\n",
              "      try {\n",
              "        const charts = await google.colab.kernel.invokeFunction(\n",
              "            'suggestCharts', [key], {});\n",
              "      } catch (error) {\n",
              "        console.error('Error during call to suggestCharts:', error);\n",
              "      }\n",
              "      quickchartButtonEl.classList.remove('colab-df-spinner');\n",
              "      quickchartButtonEl.classList.add('colab-df-quickchart-complete');\n",
              "    }\n",
              "    (() => {\n",
              "      let quickchartButtonEl =\n",
              "        document.querySelector('#df-00442169-51c5-41d1-b8e6-46923affb9c2 button');\n",
              "      quickchartButtonEl.style.display =\n",
              "        google.colab.kernel.accessAllowed ? 'block' : 'none';\n",
              "    })();\n",
              "  </script>\n",
              "</div>\n",
              "\n",
              "    </div>\n",
              "  </div>\n"
            ],
            "application/vnd.google.colaboratory.intrinsic+json": {
              "type": "dataframe",
              "variable_name": "df_mimic"
            }
          },
          "metadata": {},
          "execution_count": 16
        }
      ],
      "source": [
        "df_mimic.head(5)"
      ]
    },
    {
      "cell_type": "code",
      "execution_count": null,
      "metadata": {
        "id": "tjzQqPPBcjrT"
      },
      "outputs": [],
      "source": [
        "\n",
        "df_mimic['subject_id'] = df_mimic['stay'].str.split('_').str[0]"
      ]
    },
    {
      "cell_type": "code",
      "execution_count": null,
      "metadata": {
        "id": "WOKZvQgMO3ro"
      },
      "outputs": [],
      "source": [
        "df_mimic_test = pd.read_csv(MIMIC_FILE_TEST/'listfile.csv',index_col=0)\n",
        "df_mimic_test = df_mimic_test.reset_index()\n",
        "\n",
        "df_mimic_test['subject_id'] = df_mimic_test['stay'].str.split('_').str[0]"
      ]
    },
    {
      "cell_type": "code",
      "execution_count": null,
      "metadata": {
        "colab": {
          "base_uri": "https://localhost:8080/"
        },
        "id": "sbp-kUltPD9Z",
        "outputId": "786924b0-1f13-461f-f56a-f2381f94e617"
      },
      "outputs": [
        {
          "output_type": "stream",
          "name": "stdout",
          "text": [
            "225\n",
            "1261\n"
          ]
        }
      ],
      "source": [
        "print(len(df_mimic_test))\n",
        "print(len(df_mimic))"
      ]
    },
    {
      "cell_type": "code",
      "execution_count": null,
      "metadata": {
        "colab": {
          "base_uri": "https://localhost:8080/"
        },
        "collapsed": true,
        "id": "EOuGHQEC_Wkm",
        "outputId": "4fa8b54f-5c16-4d56-d522-f8c6d8cf8a79"
      },
      "outputs": [
        {
          "output_type": "execute_result",
          "data": {
            "text/plain": [
              "Index(['note_id', 'subject_id', 'hadm_id', 'chartdate', 'charttime',\n",
              "       'storetime', 'category', 'description', 'cgid', 'iserror', 'text',\n",
              "       'row_id_x', 'gender', 'dob', 'dod', 'dod_hosp', 'dod_ssn',\n",
              "       'expire_flag', 'fold', 'row_id_y', 'admittime', 'dischtime',\n",
              "       'deathtime', 'admission_type', 'admission_location',\n",
              "       'discharge_location', 'insurance', 'language', 'religion',\n",
              "       'marital_status', 'ethnicity', 'edregtime', 'edouttime', 'diagnosis',\n",
              "       'hospital_expire_flag', 'has_chartevents_data', 'dod_merged',\n",
              "       'ethnicity_to_use', 'age', 'icd9_code', 'language_to_use', 'icustay_id',\n",
              "       'intime', 'hours_from_icu_admit', 'concat_notes', 'cleaned_sent',\n",
              "       'bert_input'],\n",
              "      dtype='object')"
            ]
          },
          "metadata": {},
          "execution_count": 20
        }
      ],
      "source": [
        "df_demog.columns"
      ]
    },
    {
      "cell_type": "markdown",
      "source": [
        "# Merging the demog file and the miic file (create one merged cop for train and the other for test)"
      ],
      "metadata": {
        "id": "7m8kRJOHEROo"
      }
    },
    {
      "cell_type": "code",
      "execution_count": null,
      "metadata": {
        "colab": {
          "base_uri": "https://localhost:8080/",
          "height": 568
        },
        "id": "YXCzXM6sPPtG",
        "outputId": "a6f0f1b7-a90e-4766-b433-85c224de8c95"
      },
      "outputs": [
        {
          "output_type": "execute_result",
          "data": {
            "text/plain": [
              "   note_id  subject_id   hadm_id   chartdate            charttime  \\\n",
              "0   316599       29080  181664.0  2163-02-23  2163-02-23 09:11:00   \n",
              "1   316573       29080  181664.0  2163-02-23  2163-02-23 04:31:00   \n",
              "2   315769       29548  182189.0  2195-01-18  2195-01-18 16:24:00   \n",
              "3   315777       29548  182189.0  2195-01-18  2195-01-18 16:50:00   \n",
              "4   317118       30699  108670.0  2121-01-07  2121-01-07 05:50:00   \n",
              "\n",
              "             storetime   category                         description  \\\n",
              "0  2163-02-23 09:11:59    Nursing               Nursing Progress Note   \n",
              "1  2163-02-23 04:31:07    Nursing               Nursing Progress Note   \n",
              "2  2195-01-18 16:25:03  Physician   Physician Resident Admission Note   \n",
              "3  2195-01-18 16:50:40  Physician  Physician Attending Admission Note   \n",
              "4  2121-01-07 05:50:42    Nursing               Nursing Progress Note   \n",
              "\n",
              "      cgid  iserror  ... Gastrointestinal hemorrhage  \\\n",
              "0  21297.0      NaN  ...                           1   \n",
              "1  20706.0      NaN  ...                           1   \n",
              "2  15235.0      NaN  ...                           0   \n",
              "3  20047.0      NaN  ...                           0   \n",
              "4  21290.0      NaN  ...                           0   \n",
              "\n",
              "   Hypertension with complications and secondary hypertension  \\\n",
              "0                                                  1            \n",
              "1                                                  1            \n",
              "2                                                  1            \n",
              "3                                                  1            \n",
              "4                                                  0            \n",
              "\n",
              "  Other liver diseases Other lower respiratory disease  \\\n",
              "0                    0                               0   \n",
              "1                    0                               0   \n",
              "2                    0                               1   \n",
              "3                    0                               1   \n",
              "4                    0                               0   \n",
              "\n",
              "  Other upper respiratory disease Pleurisy; pneumothorax; pulmonary collapse  \\\n",
              "0                               0                                          0   \n",
              "1                               0                                          0   \n",
              "2                               0                                          0   \n",
              "3                               0                                          0   \n",
              "4                               0                                          0   \n",
              "\n",
              "  Pneumonia (except that caused by tuberculosis or sexually transmitted disease)  \\\n",
              "0                                                  1                               \n",
              "1                                                  1                               \n",
              "2                                                  0                               \n",
              "3                                                  0                               \n",
              "4                                                  0                               \n",
              "\n",
              "   Respiratory failure; insufficiency; arrest (adult)  \\\n",
              "0                                                  0    \n",
              "1                                                  0    \n",
              "2                                                  1    \n",
              "3                                                  1    \n",
              "4                                                  1    \n",
              "\n",
              "   Septicemia (except in labor)  Shock  \n",
              "0                             0      0  \n",
              "1                             0      0  \n",
              "2                             0      0  \n",
              "3                             0      0  \n",
              "4                             0      0  \n",
              "\n",
              "[5 rows x 74 columns]"
            ],
            "text/html": [
              "\n",
              "  <div id=\"df-5ac2f314-b01a-48e3-a150-e1eeaa11fe67\" class=\"colab-df-container\">\n",
              "    <div>\n",
              "<style scoped>\n",
              "    .dataframe tbody tr th:only-of-type {\n",
              "        vertical-align: middle;\n",
              "    }\n",
              "\n",
              "    .dataframe tbody tr th {\n",
              "        vertical-align: top;\n",
              "    }\n",
              "\n",
              "    .dataframe thead th {\n",
              "        text-align: right;\n",
              "    }\n",
              "</style>\n",
              "<table border=\"1\" class=\"dataframe\">\n",
              "  <thead>\n",
              "    <tr style=\"text-align: right;\">\n",
              "      <th></th>\n",
              "      <th>note_id</th>\n",
              "      <th>subject_id</th>\n",
              "      <th>hadm_id</th>\n",
              "      <th>chartdate</th>\n",
              "      <th>charttime</th>\n",
              "      <th>storetime</th>\n",
              "      <th>category</th>\n",
              "      <th>description</th>\n",
              "      <th>cgid</th>\n",
              "      <th>iserror</th>\n",
              "      <th>...</th>\n",
              "      <th>Gastrointestinal hemorrhage</th>\n",
              "      <th>Hypertension with complications and secondary hypertension</th>\n",
              "      <th>Other liver diseases</th>\n",
              "      <th>Other lower respiratory disease</th>\n",
              "      <th>Other upper respiratory disease</th>\n",
              "      <th>Pleurisy; pneumothorax; pulmonary collapse</th>\n",
              "      <th>Pneumonia (except that caused by tuberculosis or sexually transmitted disease)</th>\n",
              "      <th>Respiratory failure; insufficiency; arrest (adult)</th>\n",
              "      <th>Septicemia (except in labor)</th>\n",
              "      <th>Shock</th>\n",
              "    </tr>\n",
              "  </thead>\n",
              "  <tbody>\n",
              "    <tr>\n",
              "      <th>0</th>\n",
              "      <td>316599</td>\n",
              "      <td>29080</td>\n",
              "      <td>181664.0</td>\n",
              "      <td>2163-02-23</td>\n",
              "      <td>2163-02-23 09:11:00</td>\n",
              "      <td>2163-02-23 09:11:59</td>\n",
              "      <td>Nursing</td>\n",
              "      <td>Nursing Progress Note</td>\n",
              "      <td>21297.0</td>\n",
              "      <td>NaN</td>\n",
              "      <td>...</td>\n",
              "      <td>1</td>\n",
              "      <td>1</td>\n",
              "      <td>0</td>\n",
              "      <td>0</td>\n",
              "      <td>0</td>\n",
              "      <td>0</td>\n",
              "      <td>1</td>\n",
              "      <td>0</td>\n",
              "      <td>0</td>\n",
              "      <td>0</td>\n",
              "    </tr>\n",
              "    <tr>\n",
              "      <th>1</th>\n",
              "      <td>316573</td>\n",
              "      <td>29080</td>\n",
              "      <td>181664.0</td>\n",
              "      <td>2163-02-23</td>\n",
              "      <td>2163-02-23 04:31:00</td>\n",
              "      <td>2163-02-23 04:31:07</td>\n",
              "      <td>Nursing</td>\n",
              "      <td>Nursing Progress Note</td>\n",
              "      <td>20706.0</td>\n",
              "      <td>NaN</td>\n",
              "      <td>...</td>\n",
              "      <td>1</td>\n",
              "      <td>1</td>\n",
              "      <td>0</td>\n",
              "      <td>0</td>\n",
              "      <td>0</td>\n",
              "      <td>0</td>\n",
              "      <td>1</td>\n",
              "      <td>0</td>\n",
              "      <td>0</td>\n",
              "      <td>0</td>\n",
              "    </tr>\n",
              "    <tr>\n",
              "      <th>2</th>\n",
              "      <td>315769</td>\n",
              "      <td>29548</td>\n",
              "      <td>182189.0</td>\n",
              "      <td>2195-01-18</td>\n",
              "      <td>2195-01-18 16:24:00</td>\n",
              "      <td>2195-01-18 16:25:03</td>\n",
              "      <td>Physician</td>\n",
              "      <td>Physician Resident Admission Note</td>\n",
              "      <td>15235.0</td>\n",
              "      <td>NaN</td>\n",
              "      <td>...</td>\n",
              "      <td>0</td>\n",
              "      <td>1</td>\n",
              "      <td>0</td>\n",
              "      <td>1</td>\n",
              "      <td>0</td>\n",
              "      <td>0</td>\n",
              "      <td>0</td>\n",
              "      <td>1</td>\n",
              "      <td>0</td>\n",
              "      <td>0</td>\n",
              "    </tr>\n",
              "    <tr>\n",
              "      <th>3</th>\n",
              "      <td>315777</td>\n",
              "      <td>29548</td>\n",
              "      <td>182189.0</td>\n",
              "      <td>2195-01-18</td>\n",
              "      <td>2195-01-18 16:50:00</td>\n",
              "      <td>2195-01-18 16:50:40</td>\n",
              "      <td>Physician</td>\n",
              "      <td>Physician Attending Admission Note</td>\n",
              "      <td>20047.0</td>\n",
              "      <td>NaN</td>\n",
              "      <td>...</td>\n",
              "      <td>0</td>\n",
              "      <td>1</td>\n",
              "      <td>0</td>\n",
              "      <td>1</td>\n",
              "      <td>0</td>\n",
              "      <td>0</td>\n",
              "      <td>0</td>\n",
              "      <td>1</td>\n",
              "      <td>0</td>\n",
              "      <td>0</td>\n",
              "    </tr>\n",
              "    <tr>\n",
              "      <th>4</th>\n",
              "      <td>317118</td>\n",
              "      <td>30699</td>\n",
              "      <td>108670.0</td>\n",
              "      <td>2121-01-07</td>\n",
              "      <td>2121-01-07 05:50:00</td>\n",
              "      <td>2121-01-07 05:50:42</td>\n",
              "      <td>Nursing</td>\n",
              "      <td>Nursing Progress Note</td>\n",
              "      <td>21290.0</td>\n",
              "      <td>NaN</td>\n",
              "      <td>...</td>\n",
              "      <td>0</td>\n",
              "      <td>0</td>\n",
              "      <td>0</td>\n",
              "      <td>0</td>\n",
              "      <td>0</td>\n",
              "      <td>0</td>\n",
              "      <td>0</td>\n",
              "      <td>1</td>\n",
              "      <td>0</td>\n",
              "      <td>0</td>\n",
              "    </tr>\n",
              "  </tbody>\n",
              "</table>\n",
              "<p>5 rows × 74 columns</p>\n",
              "</div>\n",
              "    <div class=\"colab-df-buttons\">\n",
              "\n",
              "  <div class=\"colab-df-container\">\n",
              "    <button class=\"colab-df-convert\" onclick=\"convertToInteractive('df-5ac2f314-b01a-48e3-a150-e1eeaa11fe67')\"\n",
              "            title=\"Convert this dataframe to an interactive table.\"\n",
              "            style=\"display:none;\">\n",
              "\n",
              "  <svg xmlns=\"http://www.w3.org/2000/svg\" height=\"24px\" viewBox=\"0 -960 960 960\">\n",
              "    <path d=\"M120-120v-720h720v720H120Zm60-500h600v-160H180v160Zm220 220h160v-160H400v160Zm0 220h160v-160H400v160ZM180-400h160v-160H180v160Zm440 0h160v-160H620v160ZM180-180h160v-160H180v160Zm440 0h160v-160H620v160Z\"/>\n",
              "  </svg>\n",
              "    </button>\n",
              "\n",
              "  <style>\n",
              "    .colab-df-container {\n",
              "      display:flex;\n",
              "      gap: 12px;\n",
              "    }\n",
              "\n",
              "    .colab-df-convert {\n",
              "      background-color: #E8F0FE;\n",
              "      border: none;\n",
              "      border-radius: 50%;\n",
              "      cursor: pointer;\n",
              "      display: none;\n",
              "      fill: #1967D2;\n",
              "      height: 32px;\n",
              "      padding: 0 0 0 0;\n",
              "      width: 32px;\n",
              "    }\n",
              "\n",
              "    .colab-df-convert:hover {\n",
              "      background-color: #E2EBFA;\n",
              "      box-shadow: 0px 1px 2px rgba(60, 64, 67, 0.3), 0px 1px 3px 1px rgba(60, 64, 67, 0.15);\n",
              "      fill: #174EA6;\n",
              "    }\n",
              "\n",
              "    .colab-df-buttons div {\n",
              "      margin-bottom: 4px;\n",
              "    }\n",
              "\n",
              "    [theme=dark] .colab-df-convert {\n",
              "      background-color: #3B4455;\n",
              "      fill: #D2E3FC;\n",
              "    }\n",
              "\n",
              "    [theme=dark] .colab-df-convert:hover {\n",
              "      background-color: #434B5C;\n",
              "      box-shadow: 0px 1px 3px 1px rgba(0, 0, 0, 0.15);\n",
              "      filter: drop-shadow(0px 1px 2px rgba(0, 0, 0, 0.3));\n",
              "      fill: #FFFFFF;\n",
              "    }\n",
              "  </style>\n",
              "\n",
              "    <script>\n",
              "      const buttonEl =\n",
              "        document.querySelector('#df-5ac2f314-b01a-48e3-a150-e1eeaa11fe67 button.colab-df-convert');\n",
              "      buttonEl.style.display =\n",
              "        google.colab.kernel.accessAllowed ? 'block' : 'none';\n",
              "\n",
              "      async function convertToInteractive(key) {\n",
              "        const element = document.querySelector('#df-5ac2f314-b01a-48e3-a150-e1eeaa11fe67');\n",
              "        const dataTable =\n",
              "          await google.colab.kernel.invokeFunction('convertToInteractive',\n",
              "                                                    [key], {});\n",
              "        if (!dataTable) return;\n",
              "\n",
              "        const docLinkHtml = 'Like what you see? Visit the ' +\n",
              "          '<a target=\"_blank\" href=https://colab.research.google.com/notebooks/data_table.ipynb>data table notebook</a>'\n",
              "          + ' to learn more about interactive tables.';\n",
              "        element.innerHTML = '';\n",
              "        dataTable['output_type'] = 'display_data';\n",
              "        await google.colab.output.renderOutput(dataTable, element);\n",
              "        const docLink = document.createElement('div');\n",
              "        docLink.innerHTML = docLinkHtml;\n",
              "        element.appendChild(docLink);\n",
              "      }\n",
              "    </script>\n",
              "  </div>\n",
              "\n",
              "\n",
              "<div id=\"df-fc15b978-4015-49c9-944f-7d2fdf3521f4\">\n",
              "  <button class=\"colab-df-quickchart\" onclick=\"quickchart('df-fc15b978-4015-49c9-944f-7d2fdf3521f4')\"\n",
              "            title=\"Suggest charts\"\n",
              "            style=\"display:none;\">\n",
              "\n",
              "<svg xmlns=\"http://www.w3.org/2000/svg\" height=\"24px\"viewBox=\"0 0 24 24\"\n",
              "     width=\"24px\">\n",
              "    <g>\n",
              "        <path d=\"M19 3H5c-1.1 0-2 .9-2 2v14c0 1.1.9 2 2 2h14c1.1 0 2-.9 2-2V5c0-1.1-.9-2-2-2zM9 17H7v-7h2v7zm4 0h-2V7h2v10zm4 0h-2v-4h2v4z\"/>\n",
              "    </g>\n",
              "</svg>\n",
              "  </button>\n",
              "\n",
              "<style>\n",
              "  .colab-df-quickchart {\n",
              "      --bg-color: #E8F0FE;\n",
              "      --fill-color: #1967D2;\n",
              "      --hover-bg-color: #E2EBFA;\n",
              "      --hover-fill-color: #174EA6;\n",
              "      --disabled-fill-color: #AAA;\n",
              "      --disabled-bg-color: #DDD;\n",
              "  }\n",
              "\n",
              "  [theme=dark] .colab-df-quickchart {\n",
              "      --bg-color: #3B4455;\n",
              "      --fill-color: #D2E3FC;\n",
              "      --hover-bg-color: #434B5C;\n",
              "      --hover-fill-color: #FFFFFF;\n",
              "      --disabled-bg-color: #3B4455;\n",
              "      --disabled-fill-color: #666;\n",
              "  }\n",
              "\n",
              "  .colab-df-quickchart {\n",
              "    background-color: var(--bg-color);\n",
              "    border: none;\n",
              "    border-radius: 50%;\n",
              "    cursor: pointer;\n",
              "    display: none;\n",
              "    fill: var(--fill-color);\n",
              "    height: 32px;\n",
              "    padding: 0;\n",
              "    width: 32px;\n",
              "  }\n",
              "\n",
              "  .colab-df-quickchart:hover {\n",
              "    background-color: var(--hover-bg-color);\n",
              "    box-shadow: 0 1px 2px rgba(60, 64, 67, 0.3), 0 1px 3px 1px rgba(60, 64, 67, 0.15);\n",
              "    fill: var(--button-hover-fill-color);\n",
              "  }\n",
              "\n",
              "  .colab-df-quickchart-complete:disabled,\n",
              "  .colab-df-quickchart-complete:disabled:hover {\n",
              "    background-color: var(--disabled-bg-color);\n",
              "    fill: var(--disabled-fill-color);\n",
              "    box-shadow: none;\n",
              "  }\n",
              "\n",
              "  .colab-df-spinner {\n",
              "    border: 2px solid var(--fill-color);\n",
              "    border-color: transparent;\n",
              "    border-bottom-color: var(--fill-color);\n",
              "    animation:\n",
              "      spin 1s steps(1) infinite;\n",
              "  }\n",
              "\n",
              "  @keyframes spin {\n",
              "    0% {\n",
              "      border-color: transparent;\n",
              "      border-bottom-color: var(--fill-color);\n",
              "      border-left-color: var(--fill-color);\n",
              "    }\n",
              "    20% {\n",
              "      border-color: transparent;\n",
              "      border-left-color: var(--fill-color);\n",
              "      border-top-color: var(--fill-color);\n",
              "    }\n",
              "    30% {\n",
              "      border-color: transparent;\n",
              "      border-left-color: var(--fill-color);\n",
              "      border-top-color: var(--fill-color);\n",
              "      border-right-color: var(--fill-color);\n",
              "    }\n",
              "    40% {\n",
              "      border-color: transparent;\n",
              "      border-right-color: var(--fill-color);\n",
              "      border-top-color: var(--fill-color);\n",
              "    }\n",
              "    60% {\n",
              "      border-color: transparent;\n",
              "      border-right-color: var(--fill-color);\n",
              "    }\n",
              "    80% {\n",
              "      border-color: transparent;\n",
              "      border-right-color: var(--fill-color);\n",
              "      border-bottom-color: var(--fill-color);\n",
              "    }\n",
              "    90% {\n",
              "      border-color: transparent;\n",
              "      border-bottom-color: var(--fill-color);\n",
              "    }\n",
              "  }\n",
              "</style>\n",
              "\n",
              "  <script>\n",
              "    async function quickchart(key) {\n",
              "      const quickchartButtonEl =\n",
              "        document.querySelector('#' + key + ' button');\n",
              "      quickchartButtonEl.disabled = true;  // To prevent multiple clicks.\n",
              "      quickchartButtonEl.classList.add('colab-df-spinner');\n",
              "      try {\n",
              "        const charts = await google.colab.kernel.invokeFunction(\n",
              "            'suggestCharts', [key], {});\n",
              "      } catch (error) {\n",
              "        console.error('Error during call to suggestCharts:', error);\n",
              "      }\n",
              "      quickchartButtonEl.classList.remove('colab-df-spinner');\n",
              "      quickchartButtonEl.classList.add('colab-df-quickchart-complete');\n",
              "    }\n",
              "    (() => {\n",
              "      let quickchartButtonEl =\n",
              "        document.querySelector('#df-fc15b978-4015-49c9-944f-7d2fdf3521f4 button');\n",
              "      quickchartButtonEl.style.display =\n",
              "        google.colab.kernel.accessAllowed ? 'block' : 'none';\n",
              "    })();\n",
              "  </script>\n",
              "</div>\n",
              "\n",
              "    </div>\n",
              "  </div>\n"
            ],
            "application/vnd.google.colaboratory.intrinsic+json": {
              "type": "dataframe",
              "variable_name": "merged_df"
            }
          },
          "metadata": {},
          "execution_count": 21
        }
      ],
      "source": [
        "# df_demog=df_demog.rename(columns={'subject_id_x':'subject_id'})\n",
        "df_demog['subject_id'] = df_demog['subject_id'].astype(int)\n",
        "# df_demog = df_demog[['subject_id_x','gender','ethnicity','language_to_use','insurance']]\n",
        "df_mimic['subject_id'] = df_mimic['subject_id'].astype(int)\n",
        "df_mimic_test['subject_id'] = df_mimic_test['subject_id'].astype(int)\n",
        "merged_df = pd.merge(df_demog, df_mimic, on='subject_id', how='inner')\n",
        "merged_df.head()\n"
      ]
    },
    {
      "cell_type": "code",
      "execution_count": null,
      "metadata": {
        "colab": {
          "base_uri": "https://localhost:8080/",
          "height": 550
        },
        "id": "o0TR9OaZhUV-",
        "outputId": "203d0e04-9284-4cbe-d00d-ceb63f92178e"
      },
      "outputs": [
        {
          "output_type": "execute_result",
          "data": {
            "text/plain": [
              "   note_id  subject_id   hadm_id   chartdate            charttime  \\\n",
              "0   325855       28313  156864.0  2117-04-04  2117-04-04 01:30:00   \n",
              "1   325855       28313  156864.0  2117-04-04  2117-04-04 01:30:00   \n",
              "2   325844       28313  156864.0  2117-04-04  2117-04-04 01:30:00   \n",
              "3   325844       28313  156864.0  2117-04-04  2117-04-04 01:30:00   \n",
              "4   325847       28313  156864.0  2117-04-04  2117-04-04 03:15:00   \n",
              "\n",
              "             storetime   category                        description     cgid  \\\n",
              "0  2117-04-04 05:23:20    Nursing              Nursing Progress Note  18469.0   \n",
              "1  2117-04-04 05:23:20    Nursing              Nursing Progress Note  18469.0   \n",
              "2  2117-04-04 01:30:36    Nursing              Nursing Progress Note  18469.0   \n",
              "3  2117-04-04 01:30:36    Nursing              Nursing Progress Note  18469.0   \n",
              "4  2117-04-04 03:15:16  Physician  Physician Resident Admission Note  18767.0   \n",
              "\n",
              "   iserror  ... Gastrointestinal hemorrhage  \\\n",
              "0      NaN  ...                           0   \n",
              "1      NaN  ...                           1   \n",
              "2      NaN  ...                           0   \n",
              "3      NaN  ...                           1   \n",
              "4      NaN  ...                           0   \n",
              "\n",
              "   Hypertension with complications and secondary hypertension  \\\n",
              "0                                                  0            \n",
              "1                                                  0            \n",
              "2                                                  0            \n",
              "3                                                  0            \n",
              "4                                                  0            \n",
              "\n",
              "  Other liver diseases Other lower respiratory disease  \\\n",
              "0                    0                               0   \n",
              "1                    0                               0   \n",
              "2                    0                               0   \n",
              "3                    0                               0   \n",
              "4                    0                               0   \n",
              "\n",
              "  Other upper respiratory disease Pleurisy; pneumothorax; pulmonary collapse  \\\n",
              "0                               0                                          0   \n",
              "1                               0                                          0   \n",
              "2                               0                                          0   \n",
              "3                               0                                          0   \n",
              "4                               0                                          0   \n",
              "\n",
              "  Pneumonia (except that caused by tuberculosis or sexually transmitted disease)  \\\n",
              "0                                                  0                               \n",
              "1                                                  0                               \n",
              "2                                                  0                               \n",
              "3                                                  0                               \n",
              "4                                                  0                               \n",
              "\n",
              "   Respiratory failure; insufficiency; arrest (adult)  \\\n",
              "0                                                  0    \n",
              "1                                                  1    \n",
              "2                                                  0    \n",
              "3                                                  1    \n",
              "4                                                  0    \n",
              "\n",
              "   Septicemia (except in labor)  Shock  \n",
              "0                             0      0  \n",
              "1                             1      1  \n",
              "2                             0      0  \n",
              "3                             1      1  \n",
              "4                             0      0  \n",
              "\n",
              "[5 rows x 74 columns]"
            ],
            "text/html": [
              "\n",
              "  <div id=\"df-f7cfa97c-415a-4478-a8b1-f23442a9fc8a\" class=\"colab-df-container\">\n",
              "    <div>\n",
              "<style scoped>\n",
              "    .dataframe tbody tr th:only-of-type {\n",
              "        vertical-align: middle;\n",
              "    }\n",
              "\n",
              "    .dataframe tbody tr th {\n",
              "        vertical-align: top;\n",
              "    }\n",
              "\n",
              "    .dataframe thead th {\n",
              "        text-align: right;\n",
              "    }\n",
              "</style>\n",
              "<table border=\"1\" class=\"dataframe\">\n",
              "  <thead>\n",
              "    <tr style=\"text-align: right;\">\n",
              "      <th></th>\n",
              "      <th>note_id</th>\n",
              "      <th>subject_id</th>\n",
              "      <th>hadm_id</th>\n",
              "      <th>chartdate</th>\n",
              "      <th>charttime</th>\n",
              "      <th>storetime</th>\n",
              "      <th>category</th>\n",
              "      <th>description</th>\n",
              "      <th>cgid</th>\n",
              "      <th>iserror</th>\n",
              "      <th>...</th>\n",
              "      <th>Gastrointestinal hemorrhage</th>\n",
              "      <th>Hypertension with complications and secondary hypertension</th>\n",
              "      <th>Other liver diseases</th>\n",
              "      <th>Other lower respiratory disease</th>\n",
              "      <th>Other upper respiratory disease</th>\n",
              "      <th>Pleurisy; pneumothorax; pulmonary collapse</th>\n",
              "      <th>Pneumonia (except that caused by tuberculosis or sexually transmitted disease)</th>\n",
              "      <th>Respiratory failure; insufficiency; arrest (adult)</th>\n",
              "      <th>Septicemia (except in labor)</th>\n",
              "      <th>Shock</th>\n",
              "    </tr>\n",
              "  </thead>\n",
              "  <tbody>\n",
              "    <tr>\n",
              "      <th>0</th>\n",
              "      <td>325855</td>\n",
              "      <td>28313</td>\n",
              "      <td>156864.0</td>\n",
              "      <td>2117-04-04</td>\n",
              "      <td>2117-04-04 01:30:00</td>\n",
              "      <td>2117-04-04 05:23:20</td>\n",
              "      <td>Nursing</td>\n",
              "      <td>Nursing Progress Note</td>\n",
              "      <td>18469.0</td>\n",
              "      <td>NaN</td>\n",
              "      <td>...</td>\n",
              "      <td>0</td>\n",
              "      <td>0</td>\n",
              "      <td>0</td>\n",
              "      <td>0</td>\n",
              "      <td>0</td>\n",
              "      <td>0</td>\n",
              "      <td>0</td>\n",
              "      <td>0</td>\n",
              "      <td>0</td>\n",
              "      <td>0</td>\n",
              "    </tr>\n",
              "    <tr>\n",
              "      <th>1</th>\n",
              "      <td>325855</td>\n",
              "      <td>28313</td>\n",
              "      <td>156864.0</td>\n",
              "      <td>2117-04-04</td>\n",
              "      <td>2117-04-04 01:30:00</td>\n",
              "      <td>2117-04-04 05:23:20</td>\n",
              "      <td>Nursing</td>\n",
              "      <td>Nursing Progress Note</td>\n",
              "      <td>18469.0</td>\n",
              "      <td>NaN</td>\n",
              "      <td>...</td>\n",
              "      <td>1</td>\n",
              "      <td>0</td>\n",
              "      <td>0</td>\n",
              "      <td>0</td>\n",
              "      <td>0</td>\n",
              "      <td>0</td>\n",
              "      <td>0</td>\n",
              "      <td>1</td>\n",
              "      <td>1</td>\n",
              "      <td>1</td>\n",
              "    </tr>\n",
              "    <tr>\n",
              "      <th>2</th>\n",
              "      <td>325844</td>\n",
              "      <td>28313</td>\n",
              "      <td>156864.0</td>\n",
              "      <td>2117-04-04</td>\n",
              "      <td>2117-04-04 01:30:00</td>\n",
              "      <td>2117-04-04 01:30:36</td>\n",
              "      <td>Nursing</td>\n",
              "      <td>Nursing Progress Note</td>\n",
              "      <td>18469.0</td>\n",
              "      <td>NaN</td>\n",
              "      <td>...</td>\n",
              "      <td>0</td>\n",
              "      <td>0</td>\n",
              "      <td>0</td>\n",
              "      <td>0</td>\n",
              "      <td>0</td>\n",
              "      <td>0</td>\n",
              "      <td>0</td>\n",
              "      <td>0</td>\n",
              "      <td>0</td>\n",
              "      <td>0</td>\n",
              "    </tr>\n",
              "    <tr>\n",
              "      <th>3</th>\n",
              "      <td>325844</td>\n",
              "      <td>28313</td>\n",
              "      <td>156864.0</td>\n",
              "      <td>2117-04-04</td>\n",
              "      <td>2117-04-04 01:30:00</td>\n",
              "      <td>2117-04-04 01:30:36</td>\n",
              "      <td>Nursing</td>\n",
              "      <td>Nursing Progress Note</td>\n",
              "      <td>18469.0</td>\n",
              "      <td>NaN</td>\n",
              "      <td>...</td>\n",
              "      <td>1</td>\n",
              "      <td>0</td>\n",
              "      <td>0</td>\n",
              "      <td>0</td>\n",
              "      <td>0</td>\n",
              "      <td>0</td>\n",
              "      <td>0</td>\n",
              "      <td>1</td>\n",
              "      <td>1</td>\n",
              "      <td>1</td>\n",
              "    </tr>\n",
              "    <tr>\n",
              "      <th>4</th>\n",
              "      <td>325847</td>\n",
              "      <td>28313</td>\n",
              "      <td>156864.0</td>\n",
              "      <td>2117-04-04</td>\n",
              "      <td>2117-04-04 03:15:00</td>\n",
              "      <td>2117-04-04 03:15:16</td>\n",
              "      <td>Physician</td>\n",
              "      <td>Physician Resident Admission Note</td>\n",
              "      <td>18767.0</td>\n",
              "      <td>NaN</td>\n",
              "      <td>...</td>\n",
              "      <td>0</td>\n",
              "      <td>0</td>\n",
              "      <td>0</td>\n",
              "      <td>0</td>\n",
              "      <td>0</td>\n",
              "      <td>0</td>\n",
              "      <td>0</td>\n",
              "      <td>0</td>\n",
              "      <td>0</td>\n",
              "      <td>0</td>\n",
              "    </tr>\n",
              "  </tbody>\n",
              "</table>\n",
              "<p>5 rows × 74 columns</p>\n",
              "</div>\n",
              "    <div class=\"colab-df-buttons\">\n",
              "\n",
              "  <div class=\"colab-df-container\">\n",
              "    <button class=\"colab-df-convert\" onclick=\"convertToInteractive('df-f7cfa97c-415a-4478-a8b1-f23442a9fc8a')\"\n",
              "            title=\"Convert this dataframe to an interactive table.\"\n",
              "            style=\"display:none;\">\n",
              "\n",
              "  <svg xmlns=\"http://www.w3.org/2000/svg\" height=\"24px\" viewBox=\"0 -960 960 960\">\n",
              "    <path d=\"M120-120v-720h720v720H120Zm60-500h600v-160H180v160Zm220 220h160v-160H400v160Zm0 220h160v-160H400v160ZM180-400h160v-160H180v160Zm440 0h160v-160H620v160ZM180-180h160v-160H180v160Zm440 0h160v-160H620v160Z\"/>\n",
              "  </svg>\n",
              "    </button>\n",
              "\n",
              "  <style>\n",
              "    .colab-df-container {\n",
              "      display:flex;\n",
              "      gap: 12px;\n",
              "    }\n",
              "\n",
              "    .colab-df-convert {\n",
              "      background-color: #E8F0FE;\n",
              "      border: none;\n",
              "      border-radius: 50%;\n",
              "      cursor: pointer;\n",
              "      display: none;\n",
              "      fill: #1967D2;\n",
              "      height: 32px;\n",
              "      padding: 0 0 0 0;\n",
              "      width: 32px;\n",
              "    }\n",
              "\n",
              "    .colab-df-convert:hover {\n",
              "      background-color: #E2EBFA;\n",
              "      box-shadow: 0px 1px 2px rgba(60, 64, 67, 0.3), 0px 1px 3px 1px rgba(60, 64, 67, 0.15);\n",
              "      fill: #174EA6;\n",
              "    }\n",
              "\n",
              "    .colab-df-buttons div {\n",
              "      margin-bottom: 4px;\n",
              "    }\n",
              "\n",
              "    [theme=dark] .colab-df-convert {\n",
              "      background-color: #3B4455;\n",
              "      fill: #D2E3FC;\n",
              "    }\n",
              "\n",
              "    [theme=dark] .colab-df-convert:hover {\n",
              "      background-color: #434B5C;\n",
              "      box-shadow: 0px 1px 3px 1px rgba(0, 0, 0, 0.15);\n",
              "      filter: drop-shadow(0px 1px 2px rgba(0, 0, 0, 0.3));\n",
              "      fill: #FFFFFF;\n",
              "    }\n",
              "  </style>\n",
              "\n",
              "    <script>\n",
              "      const buttonEl =\n",
              "        document.querySelector('#df-f7cfa97c-415a-4478-a8b1-f23442a9fc8a button.colab-df-convert');\n",
              "      buttonEl.style.display =\n",
              "        google.colab.kernel.accessAllowed ? 'block' : 'none';\n",
              "\n",
              "      async function convertToInteractive(key) {\n",
              "        const element = document.querySelector('#df-f7cfa97c-415a-4478-a8b1-f23442a9fc8a');\n",
              "        const dataTable =\n",
              "          await google.colab.kernel.invokeFunction('convertToInteractive',\n",
              "                                                    [key], {});\n",
              "        if (!dataTable) return;\n",
              "\n",
              "        const docLinkHtml = 'Like what you see? Visit the ' +\n",
              "          '<a target=\"_blank\" href=https://colab.research.google.com/notebooks/data_table.ipynb>data table notebook</a>'\n",
              "          + ' to learn more about interactive tables.';\n",
              "        element.innerHTML = '';\n",
              "        dataTable['output_type'] = 'display_data';\n",
              "        await google.colab.output.renderOutput(dataTable, element);\n",
              "        const docLink = document.createElement('div');\n",
              "        docLink.innerHTML = docLinkHtml;\n",
              "        element.appendChild(docLink);\n",
              "      }\n",
              "    </script>\n",
              "  </div>\n",
              "\n",
              "\n",
              "<div id=\"df-22ffe829-bc77-4bf8-a170-77df5b3e13d1\">\n",
              "  <button class=\"colab-df-quickchart\" onclick=\"quickchart('df-22ffe829-bc77-4bf8-a170-77df5b3e13d1')\"\n",
              "            title=\"Suggest charts\"\n",
              "            style=\"display:none;\">\n",
              "\n",
              "<svg xmlns=\"http://www.w3.org/2000/svg\" height=\"24px\"viewBox=\"0 0 24 24\"\n",
              "     width=\"24px\">\n",
              "    <g>\n",
              "        <path d=\"M19 3H5c-1.1 0-2 .9-2 2v14c0 1.1.9 2 2 2h14c1.1 0 2-.9 2-2V5c0-1.1-.9-2-2-2zM9 17H7v-7h2v7zm4 0h-2V7h2v10zm4 0h-2v-4h2v4z\"/>\n",
              "    </g>\n",
              "</svg>\n",
              "  </button>\n",
              "\n",
              "<style>\n",
              "  .colab-df-quickchart {\n",
              "      --bg-color: #E8F0FE;\n",
              "      --fill-color: #1967D2;\n",
              "      --hover-bg-color: #E2EBFA;\n",
              "      --hover-fill-color: #174EA6;\n",
              "      --disabled-fill-color: #AAA;\n",
              "      --disabled-bg-color: #DDD;\n",
              "  }\n",
              "\n",
              "  [theme=dark] .colab-df-quickchart {\n",
              "      --bg-color: #3B4455;\n",
              "      --fill-color: #D2E3FC;\n",
              "      --hover-bg-color: #434B5C;\n",
              "      --hover-fill-color: #FFFFFF;\n",
              "      --disabled-bg-color: #3B4455;\n",
              "      --disabled-fill-color: #666;\n",
              "  }\n",
              "\n",
              "  .colab-df-quickchart {\n",
              "    background-color: var(--bg-color);\n",
              "    border: none;\n",
              "    border-radius: 50%;\n",
              "    cursor: pointer;\n",
              "    display: none;\n",
              "    fill: var(--fill-color);\n",
              "    height: 32px;\n",
              "    padding: 0;\n",
              "    width: 32px;\n",
              "  }\n",
              "\n",
              "  .colab-df-quickchart:hover {\n",
              "    background-color: var(--hover-bg-color);\n",
              "    box-shadow: 0 1px 2px rgba(60, 64, 67, 0.3), 0 1px 3px 1px rgba(60, 64, 67, 0.15);\n",
              "    fill: var(--button-hover-fill-color);\n",
              "  }\n",
              "\n",
              "  .colab-df-quickchart-complete:disabled,\n",
              "  .colab-df-quickchart-complete:disabled:hover {\n",
              "    background-color: var(--disabled-bg-color);\n",
              "    fill: var(--disabled-fill-color);\n",
              "    box-shadow: none;\n",
              "  }\n",
              "\n",
              "  .colab-df-spinner {\n",
              "    border: 2px solid var(--fill-color);\n",
              "    border-color: transparent;\n",
              "    border-bottom-color: var(--fill-color);\n",
              "    animation:\n",
              "      spin 1s steps(1) infinite;\n",
              "  }\n",
              "\n",
              "  @keyframes spin {\n",
              "    0% {\n",
              "      border-color: transparent;\n",
              "      border-bottom-color: var(--fill-color);\n",
              "      border-left-color: var(--fill-color);\n",
              "    }\n",
              "    20% {\n",
              "      border-color: transparent;\n",
              "      border-left-color: var(--fill-color);\n",
              "      border-top-color: var(--fill-color);\n",
              "    }\n",
              "    30% {\n",
              "      border-color: transparent;\n",
              "      border-left-color: var(--fill-color);\n",
              "      border-top-color: var(--fill-color);\n",
              "      border-right-color: var(--fill-color);\n",
              "    }\n",
              "    40% {\n",
              "      border-color: transparent;\n",
              "      border-right-color: var(--fill-color);\n",
              "      border-top-color: var(--fill-color);\n",
              "    }\n",
              "    60% {\n",
              "      border-color: transparent;\n",
              "      border-right-color: var(--fill-color);\n",
              "    }\n",
              "    80% {\n",
              "      border-color: transparent;\n",
              "      border-right-color: var(--fill-color);\n",
              "      border-bottom-color: var(--fill-color);\n",
              "    }\n",
              "    90% {\n",
              "      border-color: transparent;\n",
              "      border-bottom-color: var(--fill-color);\n",
              "    }\n",
              "  }\n",
              "</style>\n",
              "\n",
              "  <script>\n",
              "    async function quickchart(key) {\n",
              "      const quickchartButtonEl =\n",
              "        document.querySelector('#' + key + ' button');\n",
              "      quickchartButtonEl.disabled = true;  // To prevent multiple clicks.\n",
              "      quickchartButtonEl.classList.add('colab-df-spinner');\n",
              "      try {\n",
              "        const charts = await google.colab.kernel.invokeFunction(\n",
              "            'suggestCharts', [key], {});\n",
              "      } catch (error) {\n",
              "        console.error('Error during call to suggestCharts:', error);\n",
              "      }\n",
              "      quickchartButtonEl.classList.remove('colab-df-spinner');\n",
              "      quickchartButtonEl.classList.add('colab-df-quickchart-complete');\n",
              "    }\n",
              "    (() => {\n",
              "      let quickchartButtonEl =\n",
              "        document.querySelector('#df-22ffe829-bc77-4bf8-a170-77df5b3e13d1 button');\n",
              "      quickchartButtonEl.style.display =\n",
              "        google.colab.kernel.accessAllowed ? 'block' : 'none';\n",
              "    })();\n",
              "  </script>\n",
              "</div>\n",
              "\n",
              "    </div>\n",
              "  </div>\n"
            ],
            "application/vnd.google.colaboratory.intrinsic+json": {
              "type": "dataframe",
              "variable_name": "merged_df_test"
            }
          },
          "metadata": {},
          "execution_count": 22
        }
      ],
      "source": [
        "merged_df_test = pd.merge(df_demog, df_mimic_test, on='subject_id', how='inner')\n",
        "merged_df_test.head()"
      ]
    },
    {
      "cell_type": "code",
      "execution_count": null,
      "metadata": {
        "colab": {
          "base_uri": "https://localhost:8080/"
        },
        "id": "plkSP7iuQCub",
        "outputId": "fdd9db82-3b67-4fb3-a925-d8f00c5670b4"
      },
      "outputs": [
        {
          "output_type": "stream",
          "name": "stdout",
          "text": [
            "945\n",
            "4490\n"
          ]
        }
      ],
      "source": [
        "print(len(merged_df_test))\n",
        "print(len(merged_df))"
      ]
    },
    {
      "cell_type": "markdown",
      "metadata": {
        "id": "SXwn9KbTmeTu"
      },
      "source": [
        "# Preparation for Tokenization"
      ]
    },
    {
      "cell_type": "code",
      "execution_count": null,
      "metadata": {
        "colab": {
          "base_uri": "https://localhost:8080/"
        },
        "id": "WC-cvf-jqpq0",
        "outputId": "ce35072d-b483-47e2-d9fe-501561442731"
      },
      "outputs": [
        {
          "output_type": "stream",
          "name": "stdout",
          "text": [
            "Requirement already satisfied: nltk in /usr/local/lib/python3.11/dist-packages (3.9.1)\n",
            "Requirement already satisfied: click in /usr/local/lib/python3.11/dist-packages (from nltk) (8.1.8)\n",
            "Requirement already satisfied: joblib in /usr/local/lib/python3.11/dist-packages (from nltk) (1.4.2)\n",
            "Requirement already satisfied: regex>=2021.8.3 in /usr/local/lib/python3.11/dist-packages (from nltk) (2024.11.6)\n",
            "Requirement already satisfied: tqdm in /usr/local/lib/python3.11/dist-packages (from nltk) (4.67.1)\n"
          ]
        }
      ],
      "source": [
        "!pip install nltk"
      ]
    },
    {
      "cell_type": "code",
      "execution_count": null,
      "metadata": {
        "colab": {
          "base_uri": "https://localhost:8080/"
        },
        "id": "vs2wmjbRrWPC",
        "outputId": "4d07942b-3f96-4214-805f-29038caa1ce6"
      },
      "outputs": [
        {
          "output_type": "stream",
          "name": "stderr",
          "text": [
            "[nltk_data] Downloading package punkt to /root/nltk_data...\n",
            "[nltk_data]   Unzipping tokenizers/punkt.zip.\n",
            "[nltk_data] Downloading package punkt_tab to /root/nltk_data...\n",
            "[nltk_data]   Unzipping tokenizers/punkt_tab.zip.\n"
          ]
        },
        {
          "output_type": "execute_result",
          "data": {
            "text/plain": [
              "True"
            ]
          },
          "metadata": {},
          "execution_count": 25
        }
      ],
      "source": [
        "import nltk\n",
        "nltk.data.path.append('/root/nltk_data')\n",
        "nltk.download('punkt')\n",
        "nltk.download('punkt_tab')"
      ]
    },
    {
      "cell_type": "code",
      "execution_count": null,
      "metadata": {
        "id": "PvQ8fJakrt-t"
      },
      "outputs": [],
      "source": [
        "nltk.data.path.append('/root/nltk_data')"
      ]
    },
    {
      "cell_type": "code",
      "execution_count": null,
      "metadata": {
        "colab": {
          "base_uri": "https://localhost:8080/"
        },
        "id": "nMr3bQAGtMKd",
        "outputId": "94ba5ab9-e389-44f6-c816-80b6186aaa1c"
      },
      "outputs": [
        {
          "output_type": "stream",
          "name": "stdout",
          "text": [
            "['punkt_tab', 'punkt_tab.zip', 'punkt', 'punkt.zip']\n"
          ]
        }
      ],
      "source": [
        "import os\n",
        "print(os.listdir('/root/nltk_data/tokenizers'))"
      ]
    },
    {
      "cell_type": "markdown",
      "source": [
        "# Just creating copies of train and test dataframes as merged_df_copy and meregd_df_test_copy with which we'll work henceforth"
      ],
      "metadata": {
        "id": "7_BljmwdEe2u"
      }
    },
    {
      "cell_type": "code",
      "execution_count": null,
      "metadata": {
        "id": "pcpsktP8_-Sz"
      },
      "outputs": [],
      "source": [
        "merged_df_copy=merged_df"
      ]
    },
    {
      "cell_type": "code",
      "execution_count": null,
      "metadata": {
        "id": "fC0OXVnfQYgN"
      },
      "outputs": [],
      "source": [
        "merged_df_test_copy=merged_df_test"
      ]
    },
    {
      "cell_type": "code",
      "execution_count": null,
      "metadata": {
        "colab": {
          "base_uri": "https://localhost:8080/"
        },
        "id": "6e70jW_yI6Zb",
        "outputId": "e10d17ea-bbc0-4d7c-d87d-c22bde6b2633"
      },
      "outputs": [
        {
          "output_type": "stream",
          "name": "stdout",
          "text": [
            "4490\n"
          ]
        }
      ],
      "source": [
        "print(len(merged_df))"
      ]
    },
    {
      "cell_type": "code",
      "execution_count": null,
      "metadata": {
        "colab": {
          "base_uri": "https://localhost:8080/"
        },
        "id": "P3ztrkw3QbxD",
        "outputId": "5676ab07-6a5d-4b3f-cd83-1746271a078f"
      },
      "outputs": [
        {
          "output_type": "stream",
          "name": "stdout",
          "text": [
            "945\n"
          ]
        }
      ],
      "source": [
        "print(len(merged_df_test))"
      ]
    },
    {
      "cell_type": "code",
      "execution_count": null,
      "metadata": {
        "colab": {
          "base_uri": "https://localhost:8080/"
        },
        "id": "KsgZWDdDhMeO",
        "outputId": "0557c367-a856-4db4-9e64-c9191f9f1ab9"
      },
      "outputs": [
        {
          "output_type": "execute_result",
          "data": {
            "text/plain": [
              "Index(['note_id', 'subject_id', 'hadm_id', 'chartdate', 'charttime',\n",
              "       'storetime', 'category', 'description', 'cgid', 'iserror', 'text',\n",
              "       'row_id_x', 'gender', 'dob', 'dod', 'dod_hosp', 'dod_ssn',\n",
              "       'expire_flag', 'fold', 'row_id_y', 'admittime', 'dischtime',\n",
              "       'deathtime', 'admission_type', 'admission_location',\n",
              "       'discharge_location', 'insurance', 'language', 'religion',\n",
              "       'marital_status', 'ethnicity', 'edregtime', 'edouttime', 'diagnosis',\n",
              "       'hospital_expire_flag', 'has_chartevents_data', 'dod_merged',\n",
              "       'ethnicity_to_use', 'age', 'icd9_code', 'language_to_use', 'icustay_id',\n",
              "       'intime', 'hours_from_icu_admit', 'concat_notes', 'cleaned_sent',\n",
              "       'bert_input', 'stay', 'period_length',\n",
              "       'Acute and unspecified renal failure', 'Acute cerebrovascular disease',\n",
              "       'Acute myocardial infarction', 'Cardiac dysrhythmias',\n",
              "       'Chronic kidney disease',\n",
              "       'Chronic obstructive pulmonary disease and bronchiectasis',\n",
              "       'Complications of surgical procedures or medical care',\n",
              "       'Conduction disorders', 'Congestive heart failure; nonhypertensive',\n",
              "       'Coronary atherosclerosis and other heart disease',\n",
              "       'Diabetes mellitus with complications',\n",
              "       'Diabetes mellitus without complication',\n",
              "       'Disorders of lipid metabolism', 'Essential hypertension',\n",
              "       'Fluid and electrolyte disorders', 'Gastrointestinal hemorrhage',\n",
              "       'Hypertension with complications and secondary hypertension',\n",
              "       'Other liver diseases', 'Other lower respiratory disease',\n",
              "       'Other upper respiratory disease',\n",
              "       'Pleurisy; pneumothorax; pulmonary collapse',\n",
              "       'Pneumonia (except that caused by tuberculosis or sexually transmitted disease)',\n",
              "       'Respiratory failure; insufficiency; arrest (adult)',\n",
              "       'Septicemia (except in labor)', 'Shock'],\n",
              "      dtype='object')"
            ]
          },
          "metadata": {},
          "execution_count": 32
        }
      ],
      "source": [
        "merged_df_copy.columns"
      ]
    },
    {
      "cell_type": "code",
      "source": [
        "merged_df_test_copy.columns"
      ],
      "metadata": {
        "colab": {
          "base_uri": "https://localhost:8080/"
        },
        "id": "BoaodVIDcUhf",
        "outputId": "53c6ff01-848a-41c8-8efd-48e8ca3ac8d4"
      },
      "execution_count": null,
      "outputs": [
        {
          "output_type": "execute_result",
          "data": {
            "text/plain": [
              "Index(['note_id', 'subject_id', 'hadm_id', 'chartdate', 'charttime',\n",
              "       'storetime', 'category', 'description', 'cgid', 'iserror', 'text',\n",
              "       'row_id_x', 'gender', 'dob', 'dod', 'dod_hosp', 'dod_ssn',\n",
              "       'expire_flag', 'fold', 'row_id_y', 'admittime', 'dischtime',\n",
              "       'deathtime', 'admission_type', 'admission_location',\n",
              "       'discharge_location', 'insurance', 'language', 'religion',\n",
              "       'marital_status', 'ethnicity', 'edregtime', 'edouttime', 'diagnosis',\n",
              "       'hospital_expire_flag', 'has_chartevents_data', 'dod_merged',\n",
              "       'ethnicity_to_use', 'age', 'icd9_code', 'language_to_use', 'icustay_id',\n",
              "       'intime', 'hours_from_icu_admit', 'concat_notes', 'cleaned_sent',\n",
              "       'bert_input', 'stay', 'period_length',\n",
              "       'Acute and unspecified renal failure', 'Acute cerebrovascular disease',\n",
              "       'Acute myocardial infarction', 'Cardiac dysrhythmias',\n",
              "       'Chronic kidney disease',\n",
              "       'Chronic obstructive pulmonary disease and bronchiectasis',\n",
              "       'Complications of surgical procedures or medical care',\n",
              "       'Conduction disorders', 'Congestive heart failure; nonhypertensive',\n",
              "       'Coronary atherosclerosis and other heart disease',\n",
              "       'Diabetes mellitus with complications',\n",
              "       'Diabetes mellitus without complication',\n",
              "       'Disorders of lipid metabolism', 'Essential hypertension',\n",
              "       'Fluid and electrolyte disorders', 'Gastrointestinal hemorrhage',\n",
              "       'Hypertension with complications and secondary hypertension',\n",
              "       'Other liver diseases', 'Other lower respiratory disease',\n",
              "       'Other upper respiratory disease',\n",
              "       'Pleurisy; pneumothorax; pulmonary collapse',\n",
              "       'Pneumonia (except that caused by tuberculosis or sexually transmitted disease)',\n",
              "       'Respiratory failure; insufficiency; arrest (adult)',\n",
              "       'Septicemia (except in labor)', 'Shock'],\n",
              "      dtype='object')"
            ]
          },
          "metadata": {},
          "execution_count": 33
        }
      ]
    },
    {
      "cell_type": "markdown",
      "metadata": {
        "id": "tDvEEiTEkavD"
      },
      "source": [
        "# Tokenization of our datasets (both test and train datadsets, we will finetune the pretrained model with the train dataset and evaluate with the test dataset)."
      ]
    },
    {
      "cell_type": "code",
      "execution_count": null,
      "metadata": {
        "colab": {
          "base_uri": "https://localhost:8080/"
        },
        "id": "C7GAxp3uv4zO",
        "outputId": "1924db33-629c-4528-f2ee-e387be97b6a1"
      },
      "outputs": [
        {
          "output_type": "stream",
          "name": "stderr",
          "text": [
            "100%|██████████| 4490/4490 [08:02<00:00,  9.30it/s]\n"
          ]
        }
      ],
      "source": [
        "from transformers import BertTokenizer\n",
        "from tqdm import tqdm\n",
        "import torch\n",
        "\n",
        "# Setup\n",
        "tqdm.pandas()\n",
        "tokenizer = BertTokenizer.from_pretrained(baseline_model_path)\n",
        "\n",
        "# Sliding Window Tokenization Function\n",
        "def sliding_window_tokenize(text, tokenizer, max_len=512, stride=64):\n",
        "    encoded = tokenizer(\n",
        "        text,\n",
        "        truncation=True,\n",
        "        padding='max_length',\n",
        "        max_length=max_len,\n",
        "        stride=stride,\n",
        "        return_overflowing_tokens=True,\n",
        "        return_tensors='pt'\n",
        "    )\n",
        "    return {\n",
        "        \"input_ids\": encoded[\"input_ids\"],              # Shape: [num_chunks, max_len]\n",
        "        \"attention_mask\": encoded[\"attention_mask\"]\n",
        "    }\n",
        "\n",
        "# Apply per note (from cleaned sentences)\n",
        "def process_note_with_sliding_window(row, tokenizer, max_len=512, stride=64):\n",
        "    note = \" \".join(row['cleaned_sent'])  # Join all cleaned sentences into one string\n",
        "    return sliding_window_tokenize(note, tokenizer, max_len=max_len, stride=stride)\n",
        "\n",
        "# Apply to the DataFrame\n",
        "merged_df_copy['tokenized_notes'] = merged_df_copy.progress_apply(\n",
        "    lambda row: process_note_with_sliding_window(row, tokenizer, max_len=512, stride=64),\n",
        "    axis=1\n",
        ")\n"
      ]
    },
    {
      "cell_type": "code",
      "source": [
        "from transformers import BertTokenizer\n",
        "from tqdm import tqdm\n",
        "import torch\n",
        "\n",
        "# Setup\n",
        "tqdm.pandas()\n",
        "tokenizer = BertTokenizer.from_pretrained(baseline_model_path)\n",
        "\n",
        "# Sliding Window Tokenization Function\n",
        "def sliding_window_tokenize(text, tokenizer, max_len=512, stride=64):\n",
        "    encoded = tokenizer(\n",
        "        text,\n",
        "        truncation=True,\n",
        "        padding='max_length',\n",
        "        max_length=max_len,\n",
        "        stride=stride,\n",
        "        return_overflowing_tokens=True,\n",
        "        return_tensors='pt'\n",
        "    )\n",
        "    return {\n",
        "        \"input_ids\": encoded[\"input_ids\"],              # Shape: [num_chunks, max_len]\n",
        "        \"attention_mask\": encoded[\"attention_mask\"]\n",
        "    }\n",
        "\n",
        "# Apply per note (from cleaned sentences)\n",
        "def process_note_with_sliding_window(row, tokenizer, max_len=512, stride=64):\n",
        "    note = \" \".join(row['cleaned_sent'])  # Join all cleaned sentences into one string\n",
        "    return sliding_window_tokenize(note, tokenizer, max_len=max_len, stride=stride)\n",
        "\n",
        "# Apply to the DataFrame\n",
        "merged_df_test_copy['tokenized_notes'] = merged_df_test_copy.progress_apply(\n",
        "    lambda row: process_note_with_sliding_window(row, tokenizer, max_len=512, stride=64),\n",
        "    axis=1\n",
        ")\n"
      ],
      "metadata": {
        "colab": {
          "base_uri": "https://localhost:8080/"
        },
        "id": "C-eGhNQBcZeE",
        "outputId": "b2c2aca7-c278-42ee-afd3-f69cb61bd090"
      },
      "execution_count": null,
      "outputs": [
        {
          "output_type": "stream",
          "name": "stderr",
          "text": [
            "100%|██████████| 945/945 [02:25<00:00,  6.50it/s]\n"
          ]
        }
      ]
    },
    {
      "cell_type": "code",
      "execution_count": null,
      "metadata": {
        "colab": {
          "base_uri": "https://localhost:8080/"
        },
        "id": "7MAyS4K6wTpd",
        "outputId": "30e3cbb5-6d94-4947-89bf-4fcf7e0944a1"
      },
      "outputs": [
        {
          "output_type": "execute_result",
          "data": {
            "text/plain": [
              "Index(['note_id', 'subject_id', 'hadm_id', 'chartdate', 'charttime',\n",
              "       'storetime', 'category', 'description', 'cgid', 'iserror', 'text',\n",
              "       'row_id_x', 'gender', 'dob', 'dod', 'dod_hosp', 'dod_ssn',\n",
              "       'expire_flag', 'fold', 'row_id_y', 'admittime', 'dischtime',\n",
              "       'deathtime', 'admission_type', 'admission_location',\n",
              "       'discharge_location', 'insurance', 'language', 'religion',\n",
              "       'marital_status', 'ethnicity', 'edregtime', 'edouttime', 'diagnosis',\n",
              "       'hospital_expire_flag', 'has_chartevents_data', 'dod_merged',\n",
              "       'ethnicity_to_use', 'age', 'icd9_code', 'language_to_use', 'icustay_id',\n",
              "       'intime', 'hours_from_icu_admit', 'concat_notes', 'cleaned_sent',\n",
              "       'bert_input', 'stay', 'period_length',\n",
              "       'Acute and unspecified renal failure', 'Acute cerebrovascular disease',\n",
              "       'Acute myocardial infarction', 'Cardiac dysrhythmias',\n",
              "       'Chronic kidney disease',\n",
              "       'Chronic obstructive pulmonary disease and bronchiectasis',\n",
              "       'Complications of surgical procedures or medical care',\n",
              "       'Conduction disorders', 'Congestive heart failure; nonhypertensive',\n",
              "       'Coronary atherosclerosis and other heart disease',\n",
              "       'Diabetes mellitus with complications',\n",
              "       'Diabetes mellitus without complication',\n",
              "       'Disorders of lipid metabolism', 'Essential hypertension',\n",
              "       'Fluid and electrolyte disorders', 'Gastrointestinal hemorrhage',\n",
              "       'Hypertension with complications and secondary hypertension',\n",
              "       'Other liver diseases', 'Other lower respiratory disease',\n",
              "       'Other upper respiratory disease',\n",
              "       'Pleurisy; pneumothorax; pulmonary collapse',\n",
              "       'Pneumonia (except that caused by tuberculosis or sexually transmitted disease)',\n",
              "       'Respiratory failure; insufficiency; arrest (adult)',\n",
              "       'Septicemia (except in labor)', 'Shock', 'tokenized_notes'],\n",
              "      dtype='object')"
            ]
          },
          "metadata": {},
          "execution_count": 36
        }
      ],
      "source": [
        "merged_df_copy.columns"
      ]
    },
    {
      "cell_type": "code",
      "source": [
        "merged_df_test_copy.columns"
      ],
      "metadata": {
        "colab": {
          "base_uri": "https://localhost:8080/"
        },
        "id": "9JcVn0-_fPj0",
        "outputId": "ba74a6cc-2e6a-4334-90c1-dd47b03863f7"
      },
      "execution_count": null,
      "outputs": [
        {
          "output_type": "execute_result",
          "data": {
            "text/plain": [
              "Index(['note_id', 'subject_id', 'hadm_id', 'chartdate', 'charttime',\n",
              "       'storetime', 'category', 'description', 'cgid', 'iserror', 'text',\n",
              "       'row_id_x', 'gender', 'dob', 'dod', 'dod_hosp', 'dod_ssn',\n",
              "       'expire_flag', 'fold', 'row_id_y', 'admittime', 'dischtime',\n",
              "       'deathtime', 'admission_type', 'admission_location',\n",
              "       'discharge_location', 'insurance', 'language', 'religion',\n",
              "       'marital_status', 'ethnicity', 'edregtime', 'edouttime', 'diagnosis',\n",
              "       'hospital_expire_flag', 'has_chartevents_data', 'dod_merged',\n",
              "       'ethnicity_to_use', 'age', 'icd9_code', 'language_to_use', 'icustay_id',\n",
              "       'intime', 'hours_from_icu_admit', 'concat_notes', 'cleaned_sent',\n",
              "       'bert_input', 'stay', 'period_length',\n",
              "       'Acute and unspecified renal failure', 'Acute cerebrovascular disease',\n",
              "       'Acute myocardial infarction', 'Cardiac dysrhythmias',\n",
              "       'Chronic kidney disease',\n",
              "       'Chronic obstructive pulmonary disease and bronchiectasis',\n",
              "       'Complications of surgical procedures or medical care',\n",
              "       'Conduction disorders', 'Congestive heart failure; nonhypertensive',\n",
              "       'Coronary atherosclerosis and other heart disease',\n",
              "       'Diabetes mellitus with complications',\n",
              "       'Diabetes mellitus without complication',\n",
              "       'Disorders of lipid metabolism', 'Essential hypertension',\n",
              "       'Fluid and electrolyte disorders', 'Gastrointestinal hemorrhage',\n",
              "       'Hypertension with complications and secondary hypertension',\n",
              "       'Other liver diseases', 'Other lower respiratory disease',\n",
              "       'Other upper respiratory disease',\n",
              "       'Pleurisy; pneumothorax; pulmonary collapse',\n",
              "       'Pneumonia (except that caused by tuberculosis or sexually transmitted disease)',\n",
              "       'Respiratory failure; insufficiency; arrest (adult)',\n",
              "       'Septicemia (except in labor)', 'Shock', 'tokenized_notes'],\n",
              "      dtype='object')"
            ]
          },
          "metadata": {},
          "execution_count": 37
        }
      ]
    },
    {
      "cell_type": "markdown",
      "metadata": {
        "id": "VXr3ype7MM7Y"
      },
      "source": [
        "# Creating one list column called labels having all the 25 labels as the list elements."
      ]
    },
    {
      "cell_type": "code",
      "execution_count": null,
      "metadata": {
        "id": "P_qNOU82cj0y"
      },
      "outputs": [],
      "source": [
        "label_col = ['Acute and unspecified renal failure',\n",
        "       'Acute cerebrovascular disease', 'Acute myocardial infarction',\n",
        "       'Cardiac dysrhythmias', 'Chronic kidney disease',\n",
        "       'Chronic obstructive pulmonary disease and bronchiectasis',\n",
        "       'Complications of surgical procedures or medical care',\n",
        "       'Conduction disorders', 'Congestive heart failure; nonhypertensive',\n",
        "       'Coronary atherosclerosis and other heart disease',\n",
        "       'Diabetes mellitus with complications',\n",
        "       'Diabetes mellitus without complication',\n",
        "       'Disorders of lipid metabolism', 'Essential hypertension',\n",
        "       'Fluid and electrolyte disorders', 'Gastrointestinal hemorrhage',\n",
        "       'Hypertension with complications and secondary hypertension',\n",
        "       'Other liver diseases', 'Other lower respiratory disease',\n",
        "       'Other upper respiratory disease',\n",
        "       'Pleurisy; pneumothorax; pulmonary collapse',\n",
        "       'Pneumonia (except that caused by tuberculosis or sexually transmitted disease)',\n",
        "       'Respiratory failure; insufficiency; arrest (adult)',\n",
        "       'Septicemia (except in labor)', 'Shock']"
      ]
    },
    {
      "cell_type": "code",
      "execution_count": null,
      "metadata": {
        "id": "R_kIikUkCpzV"
      },
      "outputs": [],
      "source": [
        "merged_df_copy['labels'] = merged_df_copy[label_col].values.tolist()"
      ]
    },
    {
      "cell_type": "code",
      "execution_count": null,
      "metadata": {
        "colab": {
          "base_uri": "https://localhost:8080/"
        },
        "id": "6HFmMWHaCp1n",
        "outputId": "02e57c8e-f553-42d9-f9fb-3bd9332db8cf"
      },
      "outputs": [
        {
          "output_type": "execute_result",
          "data": {
            "text/plain": [
              "Index(['note_id', 'subject_id', 'hadm_id', 'chartdate', 'charttime',\n",
              "       'storetime', 'category', 'description', 'cgid', 'iserror', 'text',\n",
              "       'row_id_x', 'gender', 'dob', 'dod', 'dod_hosp', 'dod_ssn',\n",
              "       'expire_flag', 'fold', 'row_id_y', 'admittime', 'dischtime',\n",
              "       'deathtime', 'admission_type', 'admission_location',\n",
              "       'discharge_location', 'insurance', 'language', 'religion',\n",
              "       'marital_status', 'ethnicity', 'edregtime', 'edouttime', 'diagnosis',\n",
              "       'hospital_expire_flag', 'has_chartevents_data', 'dod_merged',\n",
              "       'ethnicity_to_use', 'age', 'icd9_code', 'language_to_use', 'icustay_id',\n",
              "       'intime', 'hours_from_icu_admit', 'concat_notes', 'cleaned_sent',\n",
              "       'bert_input', 'stay', 'period_length',\n",
              "       'Acute and unspecified renal failure', 'Acute cerebrovascular disease',\n",
              "       'Acute myocardial infarction', 'Cardiac dysrhythmias',\n",
              "       'Chronic kidney disease',\n",
              "       'Chronic obstructive pulmonary disease and bronchiectasis',\n",
              "       'Complications of surgical procedures or medical care',\n",
              "       'Conduction disorders', 'Congestive heart failure; nonhypertensive',\n",
              "       'Coronary atherosclerosis and other heart disease',\n",
              "       'Diabetes mellitus with complications',\n",
              "       'Diabetes mellitus without complication',\n",
              "       'Disorders of lipid metabolism', 'Essential hypertension',\n",
              "       'Fluid and electrolyte disorders', 'Gastrointestinal hemorrhage',\n",
              "       'Hypertension with complications and secondary hypertension',\n",
              "       'Other liver diseases', 'Other lower respiratory disease',\n",
              "       'Other upper respiratory disease',\n",
              "       'Pleurisy; pneumothorax; pulmonary collapse',\n",
              "       'Pneumonia (except that caused by tuberculosis or sexually transmitted disease)',\n",
              "       'Respiratory failure; insufficiency; arrest (adult)',\n",
              "       'Septicemia (except in labor)', 'Shock', 'tokenized_notes', 'labels'],\n",
              "      dtype='object')"
            ]
          },
          "metadata": {},
          "execution_count": 40
        }
      ],
      "source": [
        "merged_df_copy.columns"
      ]
    },
    {
      "cell_type": "code",
      "execution_count": null,
      "metadata": {
        "colab": {
          "base_uri": "https://localhost:8080/"
        },
        "id": "STus-UEAf7mW",
        "outputId": "5d453ac8-8cbd-4b6b-ccd3-645c1dd34bc0"
      },
      "outputs": [
        {
          "output_type": "execute_result",
          "data": {
            "text/plain": [
              "[1, 0, 1, 0, 1, 1, 0, 0, 1, 0, 0, 0, 0, 0, 1, 1, 1, 0, 0, 0, 0, 1, 0, 0, 0]"
            ]
          },
          "metadata": {},
          "execution_count": 41
        }
      ],
      "source": [
        "merged_df_copy['labels'][1]"
      ]
    },
    {
      "cell_type": "code",
      "source": [
        "merged_df_test_copy['labels'] = merged_df_test_copy[label_col].values.tolist()\n",
        "merged_df_test_copy.columns"
      ],
      "metadata": {
        "colab": {
          "base_uri": "https://localhost:8080/"
        },
        "id": "2qyJPth3fWOQ",
        "outputId": "5b42b889-efbe-42e1-964b-c6c7ced8339d"
      },
      "execution_count": null,
      "outputs": [
        {
          "output_type": "execute_result",
          "data": {
            "text/plain": [
              "Index(['note_id', 'subject_id', 'hadm_id', 'chartdate', 'charttime',\n",
              "       'storetime', 'category', 'description', 'cgid', 'iserror', 'text',\n",
              "       'row_id_x', 'gender', 'dob', 'dod', 'dod_hosp', 'dod_ssn',\n",
              "       'expire_flag', 'fold', 'row_id_y', 'admittime', 'dischtime',\n",
              "       'deathtime', 'admission_type', 'admission_location',\n",
              "       'discharge_location', 'insurance', 'language', 'religion',\n",
              "       'marital_status', 'ethnicity', 'edregtime', 'edouttime', 'diagnosis',\n",
              "       'hospital_expire_flag', 'has_chartevents_data', 'dod_merged',\n",
              "       'ethnicity_to_use', 'age', 'icd9_code', 'language_to_use', 'icustay_id',\n",
              "       'intime', 'hours_from_icu_admit', 'concat_notes', 'cleaned_sent',\n",
              "       'bert_input', 'stay', 'period_length',\n",
              "       'Acute and unspecified renal failure', 'Acute cerebrovascular disease',\n",
              "       'Acute myocardial infarction', 'Cardiac dysrhythmias',\n",
              "       'Chronic kidney disease',\n",
              "       'Chronic obstructive pulmonary disease and bronchiectasis',\n",
              "       'Complications of surgical procedures or medical care',\n",
              "       'Conduction disorders', 'Congestive heart failure; nonhypertensive',\n",
              "       'Coronary atherosclerosis and other heart disease',\n",
              "       'Diabetes mellitus with complications',\n",
              "       'Diabetes mellitus without complication',\n",
              "       'Disorders of lipid metabolism', 'Essential hypertension',\n",
              "       'Fluid and electrolyte disorders', 'Gastrointestinal hemorrhage',\n",
              "       'Hypertension with complications and secondary hypertension',\n",
              "       'Other liver diseases', 'Other lower respiratory disease',\n",
              "       'Other upper respiratory disease',\n",
              "       'Pleurisy; pneumothorax; pulmonary collapse',\n",
              "       'Pneumonia (except that caused by tuberculosis or sexually transmitted disease)',\n",
              "       'Respiratory failure; insufficiency; arrest (adult)',\n",
              "       'Septicemia (except in labor)', 'Shock', 'tokenized_notes', 'labels'],\n",
              "      dtype='object')"
            ]
          },
          "metadata": {},
          "execution_count": 42
        }
      ]
    },
    {
      "cell_type": "code",
      "source": [
        "merged_df_test_copy['labels'][1]"
      ],
      "metadata": {
        "colab": {
          "base_uri": "https://localhost:8080/"
        },
        "id": "skieGqPgfcaf",
        "outputId": "140ed03f-79fd-4ba7-dc92-071cbb521b1b"
      },
      "execution_count": null,
      "outputs": [
        {
          "output_type": "execute_result",
          "data": {
            "text/plain": [
              "[0, 0, 0, 0, 0, 0, 0, 0, 0, 1, 0, 0, 0, 1, 1, 1, 0, 0, 0, 0, 0, 0, 1, 1, 1]"
            ]
          },
          "metadata": {},
          "execution_count": 43
        }
      ]
    },
    {
      "cell_type": "markdown",
      "metadata": {
        "id": "NTZhSiOfNTeY"
      },
      "source": [
        "# Preparing the datasets with the Pretrained Clinical BERT Model"
      ]
    },
    {
      "cell_type": "code",
      "execution_count": null,
      "metadata": {
        "id": "0aldW6XRBRHV"
      },
      "outputs": [],
      "source": [
        "from torch.utils.data import Dataset\n",
        "import torch\n",
        "\n",
        "class ClinicalNotesDataset(Dataset):\n",
        "    def __init__(self, df, max_len=512):\n",
        "        self.samples = []\n",
        "\n",
        "        for _, row in df.iterrows():\n",
        "            # Get tokenized notes and labels\n",
        "            tokenized = row['tokenized_notes']\n",
        "            label = torch.tensor(row['labels'], dtype=torch.float)  # Assuming it's a multi-label tensor\n",
        "\n",
        "            # Extract chunks for each tokenized note\n",
        "            input_ids_chunks = tokenized['input_ids']  # Shape: [num_chunks, max_len]\n",
        "            attention_mask_chunks = tokenized['attention_mask']\n",
        "\n",
        "            # Create a sample for each chunk of the note\n",
        "            for input_ids, attention_mask in zip(input_ids_chunks, attention_mask_chunks):\n",
        "                # Repeat the label for every chunk (because label applies to the entire note)\n",
        "                self.samples.append({\n",
        "                    'input_ids': input_ids,\n",
        "                    'attention_mask': attention_mask,\n",
        "                    'labels': label\n",
        "                })\n",
        "\n",
        "    def __len__(self):\n",
        "        return len(self.samples)\n",
        "\n",
        "    def __getitem__(self, idx):\n",
        "        return {\n",
        "            'input_ids': self.samples[idx]['input_ids'],\n",
        "            'attention_mask': self.samples[idx]['attention_mask'],\n",
        "            'labels': self.samples[idx]['labels']\n",
        "        }\n"
      ]
    },
    {
      "cell_type": "code",
      "execution_count": null,
      "metadata": {
        "colab": {
          "base_uri": "https://localhost:8080/"
        },
        "id": "AYe0-VWH5_dY",
        "outputId": "37c576ff-d948-4b89-fee3-d76af5af93cd"
      },
      "outputs": [
        {
          "output_type": "stream",
          "name": "stdout",
          "text": [
            "torch.Size([512])\n",
            "torch.Size([512])\n",
            "torch.Size([25])\n"
          ]
        }
      ],
      "source": [
        "dataset = ClinicalNotesDataset(merged_df_copy) #just for checking\n",
        "sample = dataset[0]\n",
        "\n",
        "print(sample['input_ids'].shape)       # torch.Size([512])\n",
        "print(sample['attention_mask'].shape)  # torch.Size([512])\n",
        "print(sample['labels'].shape)          # torch.Size([25])"
      ]
    },
    {
      "cell_type": "code",
      "source": [
        "dataset = ClinicalNotesDataset(merged_df_test_copy) #just for checking\n",
        "sample = dataset[0]\n",
        "\n",
        "print(sample['input_ids'].shape)       # torch.Size([512])\n",
        "print(sample['attention_mask'].shape)  # torch.Size([512])\n",
        "print(sample['labels'].shape)          # torch.Size([25])"
      ],
      "metadata": {
        "colab": {
          "base_uri": "https://localhost:8080/"
        },
        "id": "Z0Z_ubtbfkMO",
        "outputId": "67028489-eef8-4db5-ff86-e6c9adac183d"
      },
      "execution_count": null,
      "outputs": [
        {
          "output_type": "stream",
          "name": "stdout",
          "text": [
            "torch.Size([512])\n",
            "torch.Size([512])\n",
            "torch.Size([25])\n"
          ]
        }
      ]
    },
    {
      "cell_type": "code",
      "execution_count": null,
      "metadata": {
        "id": "fHODS3UvNvBY"
      },
      "outputs": [],
      "source": [
        "train_dataset_phase2 = ClinicalNotesDataset(merged_df_copy, max_len=512)\n",
        "test_dataset_phase2 = ClinicalNotesDataset(merged_df_test_copy, max_len=512)"
      ]
    },
    {
      "cell_type": "code",
      "source": [
        "import transformers\n",
        "print(transformers.__version__)"
      ],
      "metadata": {
        "colab": {
          "base_uri": "https://localhost:8080/"
        },
        "id": "Kksw6F_mvDKX",
        "outputId": "b37e6ed0-6c66-48ca-f97a-51bd749a84cd"
      },
      "execution_count": null,
      "outputs": [
        {
          "output_type": "stream",
          "name": "stdout",
          "text": [
            "4.51.3\n"
          ]
        }
      ]
    },
    {
      "cell_type": "code",
      "source": [
        "from transformers import TrainingArguments\n",
        "\n",
        "args = TrainingArguments(\n",
        "    output_dir=\"./test\",\n",
        "    per_device_train_batch_size=4,\n",
        "    eval_strategy=\"epoch\"\n",
        ")\n",
        "print(\"No error: All good ✅\")"
      ],
      "metadata": {
        "colab": {
          "base_uri": "https://localhost:8080/"
        },
        "id": "mM8DZ04UvaXy",
        "outputId": "0eebc2a2-b416-46e1-8962-a6e1b436ba75"
      },
      "execution_count": null,
      "outputs": [
        {
          "output_type": "stream",
          "name": "stdout",
          "text": [
            "No error: All good ✅\n"
          ]
        }
      ]
    },
    {
      "cell_type": "code",
      "source": [
        "# from transformers import BertConfig\n",
        "\n",
        "# # Load model config to log hyperparameters\n",
        "# config = BertConfig.from_pretrained(baseline_model_path)\n",
        "# print(f\"Hidden size: {config.hidden_size}\")\n",
        "# print(f\"Dropout (hidden dropout): {config.hidden_dropout_prob}\")\n",
        "# print(f\"Problem type: {config.problem_type}\") #should indicate the loss function"
      ],
      "metadata": {
        "id": "zxfP06_ylikE"
      },
      "execution_count": null,
      "outputs": []
    },
    {
      "cell_type": "markdown",
      "source": [
        "# Finetuning the pretrained model with the train dataset and evaluating the test dataset."
      ],
      "metadata": {
        "id": "OBEaw_r8FSgD"
      }
    },
    {
      "cell_type": "code",
      "execution_count": null,
      "metadata": {
        "colab": {
          "base_uri": "https://localhost:8080/",
          "height": 1000
        },
        "id": "Wzy6H0nQC1Dg",
        "outputId": "ed8c826a-44e3-4253-c149-97284d6b9888"
      },
      "outputs": [
        {
          "output_type": "stream",
          "name": "stderr",
          "text": [
            "Some weights of BertForSequenceClassification were not initialized from the model checkpoint at /content/drive/MyDrive/Payel-DLH-related/HurtfulWords/pretrainedModels/Baseline_Clinical_BERT/baseline_clinical_BERT_1_epoch_512 and are newly initialized: ['classifier.bias', 'classifier.weight']\n",
            "You should probably TRAIN this model on a down-stream task to be able to use it for predictions and inference.\n"
          ]
        },
        {
          "output_type": "stream",
          "name": "stdout",
          "text": [
            "Model hidden size: 768\n",
            "Dropout: 0.1\n",
            "\n",
            "--- Training Epoch 1/3 ---\n"
          ]
        },
        {
          "output_type": "display_data",
          "data": {
            "text/plain": [
              "<IPython.core.display.HTML object>"
            ],
            "text/html": [
              "\n",
              "    <div>\n",
              "      \n",
              "      <progress value='423' max='423' style='width:300px; height:20px; vertical-align: middle;'></progress>\n",
              "      [423/423 21:38, Epoch 3/3]\n",
              "    </div>\n",
              "    <table border=\"1\" class=\"dataframe\">\n",
              "  <thead>\n",
              " <tr style=\"text-align: left;\">\n",
              "      <th>Step</th>\n",
              "      <th>Training Loss</th>\n",
              "    </tr>\n",
              "  </thead>\n",
              "  <tbody>\n",
              "    <tr>\n",
              "      <td>100</td>\n",
              "      <td>0.480500</td>\n",
              "    </tr>\n",
              "    <tr>\n",
              "      <td>200</td>\n",
              "      <td>0.460900</td>\n",
              "    </tr>\n",
              "    <tr>\n",
              "      <td>300</td>\n",
              "      <td>0.432500</td>\n",
              "    </tr>\n",
              "    <tr>\n",
              "      <td>400</td>\n",
              "      <td>0.410200</td>\n",
              "    </tr>\n",
              "  </tbody>\n",
              "</table><p>"
            ]
          },
          "metadata": {}
        },
        {
          "output_type": "stream",
          "name": "stdout",
          "text": [
            "Epoch time: 1301.65 sec\n",
            "\n",
            "--- Training Epoch 2/3 ---\n"
          ]
        },
        {
          "output_type": "display_data",
          "data": {
            "text/plain": [
              "<IPython.core.display.HTML object>"
            ],
            "text/html": [
              "\n",
              "    <div>\n",
              "      \n",
              "      <progress value='423' max='423' style='width:300px; height:20px; vertical-align: middle;'></progress>\n",
              "      [423/423 21:40, Epoch 3/3]\n",
              "    </div>\n",
              "    <table border=\"1\" class=\"dataframe\">\n",
              "  <thead>\n",
              " <tr style=\"text-align: left;\">\n",
              "      <th>Step</th>\n",
              "      <th>Training Loss</th>\n",
              "    </tr>\n",
              "  </thead>\n",
              "  <tbody>\n",
              "    <tr>\n",
              "      <td>100</td>\n",
              "      <td>0.396200</td>\n",
              "    </tr>\n",
              "    <tr>\n",
              "      <td>200</td>\n",
              "      <td>0.364400</td>\n",
              "    </tr>\n",
              "    <tr>\n",
              "      <td>300</td>\n",
              "      <td>0.334400</td>\n",
              "    </tr>\n",
              "    <tr>\n",
              "      <td>400</td>\n",
              "      <td>0.318000</td>\n",
              "    </tr>\n",
              "  </tbody>\n",
              "</table><p>"
            ]
          },
          "metadata": {}
        },
        {
          "output_type": "stream",
          "name": "stdout",
          "text": [
            "Epoch time: 1304.16 sec\n",
            "\n",
            "--- Training Epoch 3/3 ---\n"
          ]
        },
        {
          "output_type": "display_data",
          "data": {
            "text/plain": [
              "<IPython.core.display.HTML object>"
            ],
            "text/html": [
              "\n",
              "    <div>\n",
              "      \n",
              "      <progress value='423' max='423' style='width:300px; height:20px; vertical-align: middle;'></progress>\n",
              "      [423/423 21:42, Epoch 3/3]\n",
              "    </div>\n",
              "    <table border=\"1\" class=\"dataframe\">\n",
              "  <thead>\n",
              " <tr style=\"text-align: left;\">\n",
              "      <th>Step</th>\n",
              "      <th>Training Loss</th>\n",
              "    </tr>\n",
              "  </thead>\n",
              "  <tbody>\n",
              "    <tr>\n",
              "      <td>100</td>\n",
              "      <td>0.311300</td>\n",
              "    </tr>\n",
              "    <tr>\n",
              "      <td>200</td>\n",
              "      <td>0.288500</td>\n",
              "    </tr>\n",
              "    <tr>\n",
              "      <td>300</td>\n",
              "      <td>0.265300</td>\n",
              "    </tr>\n",
              "    <tr>\n",
              "      <td>400</td>\n",
              "      <td>0.251200</td>\n",
              "    </tr>\n",
              "  </tbody>\n",
              "</table><p>"
            ]
          },
          "metadata": {}
        },
        {
          "output_type": "stream",
          "name": "stdout",
          "text": [
            "Epoch time: 1305.59 sec\n",
            "\n",
            "--- Evaluating Fine-tuned Model ---\n"
          ]
        },
        {
          "output_type": "display_data",
          "data": {
            "text/plain": [
              "<IPython.core.display.HTML object>"
            ],
            "text/html": []
          },
          "metadata": {}
        },
        {
          "output_type": "stream",
          "name": "stdout",
          "text": [
            "Evaluation Results: {'eval_loss': 0.5505393147468567, 'eval_recall': 0.13652275379229872, 'eval_precision': 0.4673768308921438, 'eval_f1': 0.21131848284166166, 'eval_accuracy': 0.004232804232804233, 'eval_runtime': 28.7793, 'eval_samples_per_second': 32.836, 'eval_steps_per_second': 2.085, 'epoch': 3.0}\n",
            "Average Specificity: 0.95\n",
            "\n",
            "--- Training Summary ---\n",
            "Hardware: GPU - Tesla T4\n",
            "Learning Rate: 3e-05\n",
            "Batch Size (train/eval): 32 / 16\n",
            "Number of Epochs: 3\n",
            "Average Time per Epoch: 1303.80 sec\n",
            "Total Time: 3911.40 sec (1.09 GPU hours)\n",
            "Final Eval Loss: 0.5505393147468567\n",
            "Total Trials: 1\n"
          ]
        }
      ],
      "source": [
        "import torch\n",
        "import time\n",
        "import numpy as np\n",
        "from transformers import BertForSequenceClassification, Trainer, TrainingArguments\n",
        "from sklearn.metrics import recall_score, confusion_matrix, precision_score, f1_score, accuracy_score\n",
        "\n",
        "# Load the pretrained Phase 1 model\n",
        "model = BertForSequenceClassification.from_pretrained(baseline_model_path, num_labels=25)\n",
        "\n",
        "# Print model info\n",
        "print(f\"Model hidden size: {model.config.hidden_size}\")\n",
        "print(f\"Dropout: {model.config.hidden_dropout_prob}\")\n",
        "\n",
        "# Set hyperparameters\n",
        "learning_rate = 3e-5\n",
        "num_train_epochs = 3\n",
        "per_device_train_batch_size = 32\n",
        "per_device_eval_batch_size = 16\n",
        "\n",
        "# Define training arguments for fine-tuning\n",
        "train_args = TrainingArguments(\n",
        "    output_dir=\"./eval_results\",\n",
        "    per_device_train_batch_size=per_device_train_batch_size,\n",
        "    per_device_eval_batch_size=per_device_eval_batch_size,\n",
        "    logging_dir=\"./logs\",\n",
        "    do_train=True,\n",
        "    do_eval=True,\n",
        "    num_train_epochs=num_train_epochs,\n",
        "    logging_steps=100,\n",
        "    save_steps=100,\n",
        "    learning_rate=learning_rate,\n",
        "    report_to=\"none\"\n",
        ")\n",
        "\n",
        "# Custom metrics\n",
        "def compute_metrics(pred):\n",
        "    labels = pred.label_ids\n",
        "    preds = (pred.predictions > 0.5).astype(int)\n",
        "\n",
        "    recall = recall_score(labels, preds, average='micro')\n",
        "    precision = precision_score(labels, preds, average='micro')\n",
        "    f1 = f1_score(labels, preds, average='micro')\n",
        "    accuracy = accuracy_score(labels, preds)\n",
        "\n",
        "    return {\n",
        "        'recall': recall,\n",
        "        'precision': precision,\n",
        "        'f1': f1,\n",
        "        'accuracy': accuracy,\n",
        "    }\n",
        "\n",
        "# Initialize Trainer\n",
        "trainer = Trainer(\n",
        "    model=model,\n",
        "    args=train_args,\n",
        "    train_dataset=train_dataset_phase2,\n",
        "    eval_dataset=test_dataset_phase2,\n",
        "    compute_metrics=compute_metrics\n",
        ")\n",
        "\n",
        "# ----- Runtime Tracking -----\n",
        "epoch_times = []\n",
        "start_time = time.time()\n",
        "\n",
        "for epoch in range(num_train_epochs):\n",
        "    print(f\"\\n--- Training Epoch {epoch+1}/{num_train_epochs} ---\")\n",
        "    epoch_start = time.time()\n",
        "    trainer.train(resume_from_checkpoint=None)\n",
        "    elapsed = time.time() - epoch_start\n",
        "    epoch_times.append(elapsed)\n",
        "    print(f\"Epoch time: {elapsed:.2f} sec\")\n",
        "\n",
        "# Total time and GPU hours\n",
        "total_time = time.time() - start_time\n",
        "avg_epoch_time = sum(epoch_times) / len(epoch_times)\n",
        "gpu_name = torch.cuda.get_device_name(0) if torch.cuda.is_available() else \"CPU\"\n",
        "device_type = \"GPU\" if torch.cuda.is_available() else \"CPU\"\n",
        "gpu_hours = total_time / 3600\n",
        "\n",
        "# ----- Evaluation -----\n",
        "print(\"\\n--- Evaluating Fine-tuned Model ---\")\n",
        "eval_results = trainer.evaluate()\n",
        "print(\"Evaluation Results:\", eval_results)\n",
        "\n",
        "# ----- Predictions & Specificity -----\n",
        "predictions = trainer.predict(test_dataset_phase2)\n",
        "y_true = predictions.label_ids\n",
        "y_pred = (predictions.predictions > 0.5).astype(int)\n",
        "\n",
        "# Compute specificity for each class\n",
        "specificities = []\n",
        "for i in range(y_true.shape[1]):\n",
        "    cm = confusion_matrix(y_true[:, i], y_pred[:, i])\n",
        "    if cm.shape == (2, 2):\n",
        "        tn, fp, fn, tp = cm.ravel()\n",
        "        specificity = tn / (tn + fp) if (tn + fp) > 0 else 0\n",
        "        specificities.append(specificity)\n",
        "    else:\n",
        "        specificities.append(np.nan)\n",
        "\n",
        "average_specificity = np.nanmean(specificities)\n",
        "print(f\"Average Specificity: {average_specificity:.2f}\")\n",
        "\n",
        "# ----- Save Model -----\n",
        "model.save_pretrained(\"/content/drive/MyDrive/Payel-DLH-related/DataFiles/Model files after finetuning\") # Save files to Google Drive-- point to your own locations. This is just for future reference\n",
        "\n",
        "# ----- Summary -----\n",
        "print(\"\\n--- Training Summary ---\")\n",
        "print(f\"Hardware: {device_type} - {gpu_name}\")\n",
        "print(f\"Learning Rate: {learning_rate}\")\n",
        "print(f\"Batch Size (train/eval): {per_device_train_batch_size} / {per_device_eval_batch_size}\")\n",
        "print(f\"Number of Epochs: {num_train_epochs}\")\n",
        "print(f\"Average Time per Epoch: {avg_epoch_time:.2f} sec\")\n",
        "print(f\"Total Time: {total_time:.2f} sec ({gpu_hours:.2f} GPU hours)\")\n",
        "print(f\"Final Eval Loss: {eval_results.get('eval_loss', 'N/A')}\")\n",
        "print(f\"Total Trials: 1\")\n"
      ]
    },
    {
      "cell_type": "code",
      "source": [
        "tokenizer.save_pretrained(\"/content/drive/MyDrive/Payel-DLH-related/DataFiles/Model files after finetuning\") # Save files to Google Drive-- point to your own locations. This is just for future reference\n"
      ],
      "metadata": {
        "colab": {
          "base_uri": "https://localhost:8080/"
        },
        "id": "6EhP6P9CTtXf",
        "outputId": "4b21accd-6b00-4e96-b279-01bd06172bfe"
      },
      "execution_count": null,
      "outputs": [
        {
          "output_type": "execute_result",
          "data": {
            "text/plain": [
              "('/content/drive/MyDrive/Payel-DLH-related/DataFiles/Model files after finetuning/tokenizer_config.json',\n",
              " '/content/drive/MyDrive/Payel-DLH-related/DataFiles/Model files after finetuning/special_tokens_map.json',\n",
              " '/content/drive/MyDrive/Payel-DLH-related/DataFiles/Model files after finetuning/vocab.txt',\n",
              " '/content/drive/MyDrive/Payel-DLH-related/DataFiles/Model files after finetuning/added_tokens.json')"
            ]
          },
          "metadata": {},
          "execution_count": 58
        }
      ]
    },
    {
      "cell_type": "code",
      "source": [
        "import json\n",
        "from pathlib import Path\n",
        "\n",
        "# Create a summary dictionary\n",
        "training_summary = {\n",
        "    \"hardware\": f\"{device_type} - {gpu_name}\",\n",
        "    \"learning_rate\": learning_rate,\n",
        "    \"batch_size_train\": per_device_train_batch_size,\n",
        "    \"batch_size_eval\": per_device_eval_batch_size,\n",
        "    \"num_epochs\": num_train_epochs,\n",
        "    \"average_epoch_time_sec\": avg_epoch_time,\n",
        "    \"total_time_sec\": total_time,\n",
        "    \"gpu_hours\": gpu_hours,\n",
        "    \"eval_results\": eval_results,\n",
        "    \"average_specificity\": average_specificity,\n",
        "    \"total_trials\": 1,\n",
        "}\n",
        "\n",
        "# Save summary as JSON\n",
        "summary_path = Path(\"/content/drive/MyDrive/Payel-DLH-related/DataFiles/Model files after finetuning/2nd time/training_summary.json\") # Save files to Google Drive-- point to your own locations. This is just for future reference\n",
        "summary_path.parent.mkdir(parents=True, exist_ok=True)  # Ensure directory exists\n",
        "with open(summary_path, \"w\") as f:\n",
        "    json.dump(training_summary, f, indent=4)\n",
        "\n",
        "print(f\"\\nTraining summary saved to {summary_path}\")\n"
      ],
      "metadata": {
        "colab": {
          "base_uri": "https://localhost:8080/"
        },
        "id": "hKt9aHUkZCA2",
        "outputId": "59a30542-7816-4a0b-a046-9df4673d2ede"
      },
      "execution_count": null,
      "outputs": [
        {
          "output_type": "stream",
          "name": "stdout",
          "text": [
            "\n",
            "Training summary saved to /content/drive/MyDrive/Payel-DLH-related/DataFiles/Model files after finetuning/2nd time/training_summary.json\n"
          ]
        }
      ]
    },
    {
      "cell_type": "code",
      "execution_count": null,
      "metadata": {
        "colab": {
          "base_uri": "https://localhost:8080/"
        },
        "id": "dC_VkP9O389c",
        "outputId": "a5e97f09-3f63-4c7c-ebc2-0c052bdd8865"
      },
      "outputs": [
        {
          "output_type": "execute_result",
          "data": {
            "text/plain": [
              "Index(['note_id', 'subject_id', 'hadm_id', 'chartdate', 'charttime',\n",
              "       'storetime', 'category', 'description', 'cgid', 'iserror', 'text',\n",
              "       'row_id_x', 'gender', 'dob', 'dod', 'dod_hosp', 'dod_ssn',\n",
              "       'expire_flag', 'fold', 'row_id_y', 'admittime', 'dischtime',\n",
              "       'deathtime', 'admission_type', 'admission_location',\n",
              "       'discharge_location', 'insurance', 'language', 'religion',\n",
              "       'marital_status', 'ethnicity', 'edregtime', 'edouttime', 'diagnosis',\n",
              "       'hospital_expire_flag', 'has_chartevents_data', 'dod_merged',\n",
              "       'ethnicity_to_use', 'age', 'icd9_code', 'language_to_use', 'icustay_id',\n",
              "       'intime', 'hours_from_icu_admit', 'concat_notes', 'cleaned_sent',\n",
              "       'bert_input', 'stay', 'period_length',\n",
              "       'Acute and unspecified renal failure', 'Acute cerebrovascular disease',\n",
              "       'Acute myocardial infarction', 'Cardiac dysrhythmias',\n",
              "       'Chronic kidney disease',\n",
              "       'Chronic obstructive pulmonary disease and bronchiectasis',\n",
              "       'Complications of surgical procedures or medical care',\n",
              "       'Conduction disorders', 'Congestive heart failure; nonhypertensive',\n",
              "       'Coronary atherosclerosis and other heart disease',\n",
              "       'Diabetes mellitus with complications',\n",
              "       'Diabetes mellitus without complication',\n",
              "       'Disorders of lipid metabolism', 'Essential hypertension',\n",
              "       'Fluid and electrolyte disorders', 'Gastrointestinal hemorrhage',\n",
              "       'Hypertension with complications and secondary hypertension',\n",
              "       'Other liver diseases', 'Other lower respiratory disease',\n",
              "       'Other upper respiratory disease',\n",
              "       'Pleurisy; pneumothorax; pulmonary collapse',\n",
              "       'Pneumonia (except that caused by tuberculosis or sexually transmitted disease)',\n",
              "       'Respiratory failure; insufficiency; arrest (adult)',\n",
              "       'Septicemia (except in labor)', 'Shock', 'tokenized_notes', 'labels'],\n",
              "      dtype='object')"
            ]
          },
          "metadata": {},
          "execution_count": 52
        }
      ],
      "source": [
        "merged_df_copy.columns"
      ]
    },
    {
      "cell_type": "code",
      "source": [
        "merged_df_test_copy.columns"
      ],
      "metadata": {
        "colab": {
          "base_uri": "https://localhost:8080/"
        },
        "id": "jEojQyyMlOFr",
        "outputId": "49b7bc25-6a18-4f61-e476-26363c843ba5"
      },
      "execution_count": null,
      "outputs": [
        {
          "output_type": "execute_result",
          "data": {
            "text/plain": [
              "Index(['note_id', 'subject_id', 'hadm_id', 'chartdate', 'charttime',\n",
              "       'storetime', 'category', 'description', 'cgid', 'iserror', 'text',\n",
              "       'row_id_x', 'gender', 'dob', 'dod', 'dod_hosp', 'dod_ssn',\n",
              "       'expire_flag', 'fold', 'row_id_y', 'admittime', 'dischtime',\n",
              "       'deathtime', 'admission_type', 'admission_location',\n",
              "       'discharge_location', 'insurance', 'language', 'religion',\n",
              "       'marital_status', 'ethnicity', 'edregtime', 'edouttime', 'diagnosis',\n",
              "       'hospital_expire_flag', 'has_chartevents_data', 'dod_merged',\n",
              "       'ethnicity_to_use', 'age', 'icd9_code', 'language_to_use', 'icustay_id',\n",
              "       'intime', 'hours_from_icu_admit', 'concat_notes', 'cleaned_sent',\n",
              "       'bert_input', 'stay', 'period_length',\n",
              "       'Acute and unspecified renal failure', 'Acute cerebrovascular disease',\n",
              "       'Acute myocardial infarction', 'Cardiac dysrhythmias',\n",
              "       'Chronic kidney disease',\n",
              "       'Chronic obstructive pulmonary disease and bronchiectasis',\n",
              "       'Complications of surgical procedures or medical care',\n",
              "       'Conduction disorders', 'Congestive heart failure; nonhypertensive',\n",
              "       'Coronary atherosclerosis and other heart disease',\n",
              "       'Diabetes mellitus with complications',\n",
              "       'Diabetes mellitus without complication',\n",
              "       'Disorders of lipid metabolism', 'Essential hypertension',\n",
              "       'Fluid and electrolyte disorders', 'Gastrointestinal hemorrhage',\n",
              "       'Hypertension with complications and secondary hypertension',\n",
              "       'Other liver diseases', 'Other lower respiratory disease',\n",
              "       'Other upper respiratory disease',\n",
              "       'Pleurisy; pneumothorax; pulmonary collapse',\n",
              "       'Pneumonia (except that caused by tuberculosis or sexually transmitted disease)',\n",
              "       'Respiratory failure; insufficiency; arrest (adult)',\n",
              "       'Septicemia (except in labor)', 'Shock', 'tokenized_notes', 'labels'],\n",
              "      dtype='object')"
            ]
          },
          "metadata": {},
          "execution_count": 53
        }
      ]
    },
    {
      "cell_type": "markdown",
      "metadata": {
        "id": "ZR8ke9Oy_Ra9"
      },
      "source": [
        "# Table 4 structure formation: First map the category fields like Gender, Ethnicity_to_use, Insurance and Language_to_use to actual values in the comparison on the original paper."
      ]
    },
    {
      "cell_type": "code",
      "source": [
        "gender_map = {\n",
        "    'F': 'Female',\n",
        "    'M': 'Male'\n",
        "}\n",
        "\n",
        "merged_df_test_copy['gender_mapped'] = merged_df_test_copy['gender'].map(gender_map)\n",
        "ethnicity_map = {\n",
        "    \"WHITE\": \"White\",\n",
        "    \"BLACK\": \"Black\",\n",
        "    \"ASIAN\": \"Asian\",\n",
        "    \"HISPANIC/LATINO\": \"Hispanic\",\n",
        "    \"OTHER\": \"Other\",\n",
        "    \"UNKNOWN/NOT SPECIFIED\": \"Other\"\n",
        "}\n",
        "\n",
        "merged_df_test_copy['ethnicity_mapped'] = merged_df_test_copy['ethnicity_to_use'].map(ethnicity_map)\n",
        "\n",
        "\n",
        "language_map = {\n",
        "    \"English\": \"English\",\n",
        "    \"Other\": \"Other\",\n",
        "    \"Missing\": \"Other\"  # You can also exclude Missing instead\n",
        "}\n",
        "\n",
        "merged_df_test_copy['language_mapped'] = merged_df_test_copy['language_to_use'].map(language_map)\n",
        "insurance_map = {\n",
        "    \"Medicare\": \"Medicare\",\n",
        "    \"Private\": \"Private\",\n",
        "    \"Medicaid\": \"Medicaid\",\n",
        "    \"Government\": \"Other\",\n",
        "    \"Self Pay\": \"Other\",\n",
        "    \"Other\": \"Other\"\n",
        "}\n",
        "\n",
        "merged_df_test_copy['insurance_mapped'] = merged_df_test_copy['insurance'].map(insurance_map)\n"
      ],
      "metadata": {
        "id": "qJfn_q-EHJez"
      },
      "execution_count": null,
      "outputs": []
    },
    {
      "cell_type": "markdown",
      "source": [
        "# Fairness metrics calculation and the reproducing the Table 4 on the paper ( Classifiers trained with baseline clinical BERT embeddings have multi-group fairness performance gaps across gender, language, ethnicity, and insurance status. We count number of downstream classification tasks with statistically significant differences (out of 57 total we used 25 in our case while reproducing), as well as the percentage of significant tasks which favor a subgroup. For many comparisons, there are a large number of tasks for which a significant difference exists across subgroups)"
      ],
      "metadata": {
        "id": "jtX9CSJxF0iV"
      }
    },
    {
      "cell_type": "code",
      "source": [
        "import pandas as pd\n",
        "import numpy as np\n",
        "from sklearn.metrics import recall_score, accuracy_score, confusion_matrix\n",
        "from tqdm import tqdm\n",
        "from IPython.display import display  # For rendering the table\n",
        "\n",
        "# np.random.seed(42)  # Any number works; just keep it fixed across runs\n",
        "# --- Config ---\n",
        "demographic_columns = {\n",
        "    \"gender_mapped\": [(\"Male\", \"Female\")],  # Ensuring Male vs Female\n",
        "    \"language_mapped\": [(\"English\", \"Other\")],\n",
        "    \"ethnicity_mapped\": [(\"White\", \"Other\"), (\"Black\", \"Other\"), (\"Hispanic\", \"Other\"), (\"Asian\", \"Other\"), (\"Other\", \"Other\")],  # Added \"Other\" vs \"Other\" here\n",
        "    \"insurance_mapped\": [(\"Medicare\", \"Other\"), (\"Private\", \"Other\"), (\"Medicaid\", \"Other\")]\n",
        "}\n",
        "n_bootstrap = 100\n",
        "alpha = 0.05\n",
        "\n",
        "# --- Results placeholder ---\n",
        "table4_results = []\n",
        "\n",
        "# Efficient specificity function\n",
        "def safe_specificity(y_true, y_pred):\n",
        "    cm = confusion_matrix(y_true, y_pred, labels=[0, 1])\n",
        "    if cm.shape == (2, 2):\n",
        "        tn, fp, _, _ = cm.ravel()\n",
        "        denom = tn + fp\n",
        "        return tn / denom if denom else 0.0\n",
        "    return 0.0\n",
        "\n",
        "# Safe recall\n",
        "def safe_recall(y_true, y_pred):\n",
        "    return recall_score(y_true, y_pred) if len(np.unique(y_true)) > 1 else 0.0\n",
        "\n",
        "# Bootstrap difference with numpy vectorization\n",
        "def bootstrap_metric_diff(y_true1, y_pred1, y_true2, y_pred2, metric_fn):\n",
        "    n1, n2 = len(y_true1), len(y_true2)\n",
        "    if n1 == 0 or n2 == 0:\n",
        "        return 0.0, False, False\n",
        "    diffs = []\n",
        "    for _ in range(n_bootstrap):\n",
        "        idx1 = np.random.randint(0, n1, n1)\n",
        "        idx2 = np.random.randint(0, n2, n2)\n",
        "        try:\n",
        "            m1 = metric_fn(y_true1[idx1], y_pred1[idx1])\n",
        "            m2 = metric_fn(y_true2[idx2], y_pred2[idx2])\n",
        "            diffs.append(m1 - m2)\n",
        "        except:\n",
        "            continue\n",
        "    if not diffs:\n",
        "        return 0.0, False, False\n",
        "    diffs = np.array(diffs)\n",
        "    ci_low, ci_high = np.percentile(diffs, [100 * alpha / 2, 100 * (1 - alpha / 2)])\n",
        "    significant = (ci_low > 0) or (ci_high < 0)\n",
        "    favors_group1 = diffs.mean() > 0\n",
        "    return diffs.mean(), significant, favors_group1\n",
        "\n",
        "# Main loop with tqdm\n",
        "for fairness_attr, group_pairs in demographic_columns.items():\n",
        "    for group1, group2 in group_pairs:\n",
        "        recall_sig = parity_sig = spec_sig = 0\n",
        "        recall_fav = parity_fav = spec_fav = 0\n",
        "\n",
        "        # Precompute masks\n",
        "        if group1 == \"Other\":\n",
        "            # When group1 is the literal string \"Other\", match only rows labeled \"Other\"\n",
        "            #mask1 = (merged_df_copy[fairness_attr] == \"Other\").values\n",
        "            mask1 = (merged_df_test_copy[fairness_attr] == group1).values\n",
        "\n",
        "        else:\n",
        "            # mask1 = (merged_df_copy[fairness_attr] == group1).values\n",
        "            mask1 = (merged_df_test_copy[fairness_attr] == group1).values\n",
        "\n",
        "        if group2 == \"Other\":\n",
        "            # When group2 is \"Other\", dynamically create mask2 as all rows NOT in group1\n",
        "            mask2 = (merged_df_test_copy[fairness_attr] != group1).values\n",
        "        else:\n",
        "            mask2 = (merged_df_test_copy[fairness_attr] == group2).values\n",
        "\n",
        "        for label_idx in tqdm(range(y_true.shape[1]), desc=f\"{fairness_attr} {group1} vs {group2}\"):\n",
        "            y_true1, y_pred1 = y_true[mask1, label_idx], y_pred[mask1, label_idx]\n",
        "            y_true2, y_pred2 = y_true[mask2, label_idx], y_pred[mask2, label_idx]\n",
        "\n",
        "            if len(y_true1) < 1 or len(y_true2) < 1:\n",
        "                continue\n",
        "\n",
        "            # Bootstrapping\n",
        "            _, sig_r, fav_r = bootstrap_metric_diff(y_true1, y_pred1, y_true2, y_pred2, safe_recall)\n",
        "            _, sig_p, fav_p = bootstrap_metric_diff(y_true1, y_pred1, y_true2, y_pred2, accuracy_score)\n",
        "            _, sig_s, fav_s = bootstrap_metric_diff(y_true1, y_pred1, y_true2, y_pred2, safe_specificity)\n",
        "\n",
        "            recall_sig += sig_r\n",
        "            parity_sig += sig_p\n",
        "            spec_sig += sig_s\n",
        "\n",
        "            recall_fav += sig_r and fav_r\n",
        "            parity_fav += sig_p and fav_p\n",
        "            spec_fav += sig_s and fav_s\n",
        "\n",
        "        # Adjust the comparison name to \"Other vs Other\" if applicable\n",
        "        comparison_name = f\"{group1} vs {group2}\"\n",
        "        if group1 == \"Other\" and group2 == \"Other\":\n",
        "            comparison_name = \"Other vs Other\"\n",
        "\n",
        "        table4_results.append({\n",
        "            \"Fairness Definition\": fairness_attr,\n",
        "            \"Comparison (Group 1 vs Group 2)\": comparison_name,\n",
        "            \"Recall Gap\": f\"{recall_sig} ({recall_fav / max(recall_sig, 1) * 100:.1f}%)\",\n",
        "            \"Parity Gap\": f\"{parity_sig} ({parity_fav / max(parity_sig, 1) * 100:.1f}%)\",\n",
        "            \"Specificity Gap\": f\"{spec_sig} ({spec_fav / max(spec_sig, 1) * 100:.1f}%)\"\n",
        "        })\n",
        "\n",
        "# Final output\n",
        "# Map the demographic columns to their more readable labels\n",
        "fairness_map = {\n",
        "    \"gender_mapped\": \"Gender\",\n",
        "    \"language_mapped\": \"Language\",\n",
        "    \"ethnicity_mapped\": \"Ethnicity\",\n",
        "    \"insurance_mapped\": \"Insurance\"\n",
        "}\n",
        "\n",
        "# Convert to DataFrame\n",
        "table4_df = pd.DataFrame(table4_results)\n",
        "\n",
        "# Update the first column in the results to show the new labels\n",
        "table4_df['Fairness Definition'] = table4_df['Fairness Definition'].map(fairness_map)\n",
        "\n",
        "# Add a MultiIndex header above the Gap columns\n",
        "table4_df.columns = pd.MultiIndex.from_tuples([\n",
        "    (\"Fairness Definition\", \"\"),\n",
        "    (\"Comparison (Group 1 vs Group 2)\", \"\"),\n",
        "    (\"Significant Differences by Fairness Definition\", \"Recall Gap\"),\n",
        "    (\"Significant Differences by Fairness Definition\", \"Parity Gap\"),\n",
        "    (\"Significant Differences by Fairness Definition\", \"Specificity Gap\")\n",
        "])\n",
        "\n",
        "# Style the DataFrame\n",
        "styled_table = (\n",
        "    table4_df.style\n",
        "    .set_table_styles(\n",
        "        [   {'selector': 'th', 'props': [('font-weight', 'bold'), ('border', '1px solid black')]},\n",
        "            {'selector': 'td', 'props': [('border', '1px solid black')]},\n",
        "            {'selector': 'table', 'props': [('border-collapse', 'collapse')]},\n",
        "        ]\n",
        "    )\n",
        "    .apply(lambda x: ['font-weight: bold' if x.name == 'Fairness Definition' else '' for _ in x], axis=1)\n",
        "    .set_properties(**{'text-align': 'center'})\n",
        "    .set_caption(\"Final Fairness Table 4 (Styled)\")\n",
        ")\n",
        "\n",
        "# Display in Jupyter/IPython\n",
        "display(styled_table)\n",
        "\n",
        "# Save as HTML\n",
        "styled_table.to_html(\"final_fairness_table4.html\", escape=False, index=False)\n"
      ],
      "metadata": {
        "colab": {
          "base_uri": "https://localhost:8080/",
          "height": 604
        },
        "id": "N8buVC6hRZj8",
        "outputId": "8132b71c-0cbe-4df0-c433-ef7c5379affe"
      },
      "execution_count": null,
      "outputs": [
        {
          "output_type": "stream",
          "name": "stderr",
          "text": [
            "gender_mapped Male vs Female: 100%|██████████| 25/25 [00:13<00:00,  1.92it/s]\n",
            "language_mapped English vs Other: 100%|██████████| 25/25 [00:13<00:00,  1.91it/s]\n",
            "ethnicity_mapped White vs Other: 100%|██████████| 25/25 [00:13<00:00,  1.92it/s]\n",
            "ethnicity_mapped Black vs Other: 100%|██████████| 25/25 [00:12<00:00,  1.99it/s]\n",
            "ethnicity_mapped Hispanic vs Other: 100%|██████████| 25/25 [00:10<00:00,  2.31it/s]\n",
            "ethnicity_mapped Asian vs Other: 100%|██████████| 25/25 [00:10<00:00,  2.40it/s]\n",
            "ethnicity_mapped Other vs Other: 100%|██████████| 25/25 [00:12<00:00,  2.05it/s]\n",
            "insurance_mapped Medicare vs Other: 100%|██████████| 25/25 [00:12<00:00,  1.94it/s]\n",
            "insurance_mapped Private vs Other: 100%|██████████| 25/25 [00:12<00:00,  1.93it/s]\n",
            "insurance_mapped Medicaid vs Other: 100%|██████████| 25/25 [00:11<00:00,  2.25it/s]\n"
          ]
        },
        {
          "output_type": "display_data",
          "data": {
            "text/plain": [
              "<pandas.io.formats.style.Styler at 0x7e80363ad9d0>"
            ],
            "text/html": [
              "<style type=\"text/css\">\n",
              "#T_28a07 th {\n",
              "  font-weight: bold;\n",
              "  border: 1px solid black;\n",
              "}\n",
              "#T_28a07 td {\n",
              "  border: 1px solid black;\n",
              "}\n",
              "#T_28a07 table {\n",
              "  border-collapse: collapse;\n",
              "}\n",
              "#T_28a07_row0_col0, #T_28a07_row0_col1, #T_28a07_row0_col2, #T_28a07_row0_col3, #T_28a07_row0_col4, #T_28a07_row1_col0, #T_28a07_row1_col1, #T_28a07_row1_col2, #T_28a07_row1_col3, #T_28a07_row1_col4, #T_28a07_row2_col0, #T_28a07_row2_col1, #T_28a07_row2_col2, #T_28a07_row2_col3, #T_28a07_row2_col4, #T_28a07_row3_col0, #T_28a07_row3_col1, #T_28a07_row3_col2, #T_28a07_row3_col3, #T_28a07_row3_col4, #T_28a07_row4_col0, #T_28a07_row4_col1, #T_28a07_row4_col2, #T_28a07_row4_col3, #T_28a07_row4_col4, #T_28a07_row5_col0, #T_28a07_row5_col1, #T_28a07_row5_col2, #T_28a07_row5_col3, #T_28a07_row5_col4, #T_28a07_row6_col0, #T_28a07_row6_col1, #T_28a07_row6_col2, #T_28a07_row6_col3, #T_28a07_row6_col4, #T_28a07_row7_col0, #T_28a07_row7_col1, #T_28a07_row7_col2, #T_28a07_row7_col3, #T_28a07_row7_col4, #T_28a07_row8_col0, #T_28a07_row8_col1, #T_28a07_row8_col2, #T_28a07_row8_col3, #T_28a07_row8_col4, #T_28a07_row9_col0, #T_28a07_row9_col1, #T_28a07_row9_col2, #T_28a07_row9_col3, #T_28a07_row9_col4 {\n",
              "  text-align: center;\n",
              "}\n",
              "</style>\n",
              "<table id=\"T_28a07\" class=\"dataframe\">\n",
              "  <caption>Final Fairness Table 4 (Styled)</caption>\n",
              "  <thead>\n",
              "    <tr>\n",
              "      <th class=\"blank level0\" >&nbsp;</th>\n",
              "      <th id=\"T_28a07_level0_col0\" class=\"col_heading level0 col0\" >Fairness Definition</th>\n",
              "      <th id=\"T_28a07_level0_col1\" class=\"col_heading level0 col1\" >Comparison (Group 1 vs Group 2)</th>\n",
              "      <th id=\"T_28a07_level0_col2\" class=\"col_heading level0 col2\" colspan=\"3\">Significant Differences by Fairness Definition</th>\n",
              "    </tr>\n",
              "    <tr>\n",
              "      <th class=\"blank level1\" >&nbsp;</th>\n",
              "      <th id=\"T_28a07_level1_col0\" class=\"col_heading level1 col0\" ></th>\n",
              "      <th id=\"T_28a07_level1_col1\" class=\"col_heading level1 col1\" ></th>\n",
              "      <th id=\"T_28a07_level1_col2\" class=\"col_heading level1 col2\" >Recall Gap</th>\n",
              "      <th id=\"T_28a07_level1_col3\" class=\"col_heading level1 col3\" >Parity Gap</th>\n",
              "      <th id=\"T_28a07_level1_col4\" class=\"col_heading level1 col4\" >Specificity Gap</th>\n",
              "    </tr>\n",
              "  </thead>\n",
              "  <tbody>\n",
              "    <tr>\n",
              "      <th id=\"T_28a07_level0_row0\" class=\"row_heading level0 row0\" >0</th>\n",
              "      <td id=\"T_28a07_row0_col0\" class=\"data row0 col0\" >Gender</td>\n",
              "      <td id=\"T_28a07_row0_col1\" class=\"data row0 col1\" >Male vs Female</td>\n",
              "      <td id=\"T_28a07_row0_col2\" class=\"data row0 col2\" >8 (12.5%)</td>\n",
              "      <td id=\"T_28a07_row0_col3\" class=\"data row0 col3\" >19 (42.1%)</td>\n",
              "      <td id=\"T_28a07_row0_col4\" class=\"data row0 col4\" >7 (71.4%)</td>\n",
              "    </tr>\n",
              "    <tr>\n",
              "      <th id=\"T_28a07_level0_row1\" class=\"row_heading level0 row1\" >1</th>\n",
              "      <td id=\"T_28a07_row1_col0\" class=\"data row1 col0\" >Language</td>\n",
              "      <td id=\"T_28a07_row1_col1\" class=\"data row1 col1\" >English vs Other</td>\n",
              "      <td id=\"T_28a07_row1_col2\" class=\"data row1 col2\" >11 (45.5%)</td>\n",
              "      <td id=\"T_28a07_row1_col3\" class=\"data row1 col3\" >14 (14.3%)</td>\n",
              "      <td id=\"T_28a07_row1_col4\" class=\"data row1 col4\" >10 (50.0%)</td>\n",
              "    </tr>\n",
              "    <tr>\n",
              "      <th id=\"T_28a07_level0_row2\" class=\"row_heading level0 row2\" >2</th>\n",
              "      <td id=\"T_28a07_row2_col0\" class=\"data row2 col0\" >Ethnicity</td>\n",
              "      <td id=\"T_28a07_row2_col1\" class=\"data row2 col1\" >White vs Other</td>\n",
              "      <td id=\"T_28a07_row2_col2\" class=\"data row2 col2\" >8 (75.0%)</td>\n",
              "      <td id=\"T_28a07_row2_col3\" class=\"data row2 col3\" >16 (31.2%)</td>\n",
              "      <td id=\"T_28a07_row2_col4\" class=\"data row2 col4\" >13 (15.4%)</td>\n",
              "    </tr>\n",
              "    <tr>\n",
              "      <th id=\"T_28a07_level0_row3\" class=\"row_heading level0 row3\" >3</th>\n",
              "      <td id=\"T_28a07_row3_col0\" class=\"data row3 col0\" >Ethnicity</td>\n",
              "      <td id=\"T_28a07_row3_col1\" class=\"data row3 col1\" >Black vs Other</td>\n",
              "      <td id=\"T_28a07_row3_col2\" class=\"data row3 col2\" >10 (30.0%)</td>\n",
              "      <td id=\"T_28a07_row3_col3\" class=\"data row3 col3\" >13 (61.5%)</td>\n",
              "      <td id=\"T_28a07_row3_col4\" class=\"data row3 col4\" >10 (100.0%)</td>\n",
              "    </tr>\n",
              "    <tr>\n",
              "      <th id=\"T_28a07_level0_row4\" class=\"row_heading level0 row4\" >4</th>\n",
              "      <td id=\"T_28a07_row4_col0\" class=\"data row4 col0\" >Ethnicity</td>\n",
              "      <td id=\"T_28a07_row4_col1\" class=\"data row4 col1\" >Hispanic vs Other</td>\n",
              "      <td id=\"T_28a07_row4_col2\" class=\"data row4 col2\" >11 (0.0%)</td>\n",
              "      <td id=\"T_28a07_row4_col3\" class=\"data row4 col3\" >18 (72.2%)</td>\n",
              "      <td id=\"T_28a07_row4_col4\" class=\"data row4 col4\" >14 (92.9%)</td>\n",
              "    </tr>\n",
              "    <tr>\n",
              "      <th id=\"T_28a07_level0_row5\" class=\"row_heading level0 row5\" >5</th>\n",
              "      <td id=\"T_28a07_row5_col0\" class=\"data row5 col0\" >Ethnicity</td>\n",
              "      <td id=\"T_28a07_row5_col1\" class=\"data row5 col1\" >Asian vs Other</td>\n",
              "      <td id=\"T_28a07_row5_col2\" class=\"data row5 col2\" >10 (0.0%)</td>\n",
              "      <td id=\"T_28a07_row5_col3\" class=\"data row5 col3\" >22 (86.4%)</td>\n",
              "      <td id=\"T_28a07_row5_col4\" class=\"data row5 col4\" >15 (100.0%)</td>\n",
              "    </tr>\n",
              "    <tr>\n",
              "      <th id=\"T_28a07_level0_row6\" class=\"row_heading level0 row6\" >6</th>\n",
              "      <td id=\"T_28a07_row6_col0\" class=\"data row6 col0\" >Ethnicity</td>\n",
              "      <td id=\"T_28a07_row6_col1\" class=\"data row6 col1\" >Other vs Other</td>\n",
              "      <td id=\"T_28a07_row6_col2\" class=\"data row6 col2\" >8 (0.0%)</td>\n",
              "      <td id=\"T_28a07_row6_col3\" class=\"data row6 col3\" >15 (60.0%)</td>\n",
              "      <td id=\"T_28a07_row6_col4\" class=\"data row6 col4\" >7 (71.4%)</td>\n",
              "    </tr>\n",
              "    <tr>\n",
              "      <th id=\"T_28a07_level0_row7\" class=\"row_heading level0 row7\" >7</th>\n",
              "      <td id=\"T_28a07_row7_col0\" class=\"data row7 col0\" >Insurance</td>\n",
              "      <td id=\"T_28a07_row7_col1\" class=\"data row7 col1\" >Medicare vs Other</td>\n",
              "      <td id=\"T_28a07_row7_col2\" class=\"data row7 col2\" >8 (37.5%)</td>\n",
              "      <td id=\"T_28a07_row7_col3\" class=\"data row7 col3\" >15 (26.7%)</td>\n",
              "      <td id=\"T_28a07_row7_col4\" class=\"data row7 col4\" >11 (45.5%)</td>\n",
              "    </tr>\n",
              "    <tr>\n",
              "      <th id=\"T_28a07_level0_row8\" class=\"row_heading level0 row8\" >8</th>\n",
              "      <td id=\"T_28a07_row8_col0\" class=\"data row8 col0\" >Insurance</td>\n",
              "      <td id=\"T_28a07_row8_col1\" class=\"data row8 col1\" >Private vs Other</td>\n",
              "      <td id=\"T_28a07_row8_col2\" class=\"data row8 col2\" >8 (50.0%)</td>\n",
              "      <td id=\"T_28a07_row8_col3\" class=\"data row8 col3\" >13 (61.5%)</td>\n",
              "      <td id=\"T_28a07_row8_col4\" class=\"data row8 col4\" >10 (50.0%)</td>\n",
              "    </tr>\n",
              "    <tr>\n",
              "      <th id=\"T_28a07_level0_row9\" class=\"row_heading level0 row9\" >9</th>\n",
              "      <td id=\"T_28a07_row9_col0\" class=\"data row9 col0\" >Insurance</td>\n",
              "      <td id=\"T_28a07_row9_col1\" class=\"data row9 col1\" >Medicaid vs Other</td>\n",
              "      <td id=\"T_28a07_row9_col2\" class=\"data row9 col2\" >9 (22.2%)</td>\n",
              "      <td id=\"T_28a07_row9_col3\" class=\"data row9 col3\" >23 (73.9%)</td>\n",
              "      <td id=\"T_28a07_row9_col4\" class=\"data row9 col4\" >11 (100.0%)</td>\n",
              "    </tr>\n",
              "  </tbody>\n",
              "</table>\n"
            ]
          },
          "metadata": {}
        }
      ]
    },
    {
      "cell_type": "markdown",
      "source": [
        "# Extension to the project: Intersectional discrimination (e.g., gender and ethnicity) has been added for the performance gap comparison to find bias"
      ],
      "metadata": {
        "id": "YRbyq4f_GPeG"
      }
    },
    {
      "cell_type": "markdown",
      "source": [
        "# Before running the extension code, saving the fairness metrics related files"
      ],
      "metadata": {
        "id": "Jf7xHW5kWcRU"
      }
    },
    {
      "cell_type": "code",
      "source": [
        "import random\n",
        "import numpy as np\n",
        "import torch\n",
        "\n",
        "# Set seeds for reproducibility\n",
        "np.random.seed(42)\n",
        "random.seed(42)\n",
        "torch.manual_seed(42)\n",
        "\n",
        "# Save files to Google Drive-- point to your own locations. This is just for future reference\n",
        "torch.save(test_dataset_phase2, \"/content/drive/MyDrive/Payel-DLH-related/DataFiles/Model files-save for future use/test_dataset_phase2.pt\")\n",
        "np.save(\"/content/drive/MyDrive/Payel-DLH-related/DataFiles/Model files-save for future use/y_pred.npy\", y_pred)\n",
        "np.save(\"/content/drive/MyDrive/Payel-DLH-related/DataFiles/Model files-save for future use/y_true.npy\", y_true)\n",
        "merged_df_test_copy.to_csv(\"/content/drive/MyDrive/Payel-DLH-related/DataFiles/Model files-save for future use/merged_df_test_copy.csv\", index=False)\n",
        "table4_df.to_csv(\"/content/drive/MyDrive/Payel-DLH-related/DataFiles/Model files-save for future use/table4_fairness_results_fromfinetuning.csv\", index=False)"
      ],
      "metadata": {
        "id": "p4t3do79tnfj"
      },
      "execution_count": null,
      "outputs": []
    },
    {
      "cell_type": "markdown",
      "source": [
        "# Running the performace gap comparison for the intersectional discrimination"
      ],
      "metadata": {
        "id": "FWIJibvhWl_G"
      }
    },
    {
      "cell_type": "code",
      "source": [
        "import pandas as pd\n",
        "import numpy as np\n",
        "from sklearn.metrics import recall_score, accuracy_score, confusion_matrix\n",
        "from itertools import combinations\n",
        "from tqdm import tqdm\n",
        "from IPython.display import display\n",
        "\n",
        "# --- Config ---\n",
        "min_group_size = 30\n",
        "n_bootstrap = 100\n",
        "alpha = 0.05\n",
        "\n",
        "# Efficient specificity\n",
        "def safe_specificity(y_true, y_pred):\n",
        "    cm = confusion_matrix(y_true, y_pred, labels=[0, 1])\n",
        "    if cm.shape == (2, 2):\n",
        "        tn, fp, _, _ = cm.ravel()\n",
        "        denom = tn + fp\n",
        "        return tn / denom if denom else 0.0\n",
        "    return 0.0\n",
        "\n",
        "# Safe recall\n",
        "def safe_recall(y_true, y_pred):\n",
        "    return recall_score(y_true, y_pred) if len(np.unique(y_true)) > 1 else 0.0\n",
        "\n",
        "# Bootstrap difference\n",
        "def bootstrap_metric_diff(y_true1, y_pred1, y_true2, y_pred2, metric_fn):\n",
        "    n1, n2 = len(y_true1), len(y_true2)\n",
        "    if n1 == 0 or n2 == 0:\n",
        "        return 0.0, False, False\n",
        "    diffs = []\n",
        "    for _ in range(n_bootstrap):\n",
        "        idx1 = np.random.randint(0, n1, n1)\n",
        "        idx2 = np.random.randint(0, n2, n2)\n",
        "        try:\n",
        "            m1 = metric_fn(y_true1[idx1], y_pred1[idx1])\n",
        "            m2 = metric_fn(y_true2[idx2], y_pred2[idx2])\n",
        "            diffs.append(m1 - m2)\n",
        "        except:\n",
        "            continue\n",
        "    if not diffs:\n",
        "        return 0.0, False, False\n",
        "    diffs = np.array(diffs)\n",
        "    ci_low, ci_high = np.percentile(diffs, [100 * alpha / 2, 100 * (1 - alpha / 2)])\n",
        "    significant = (ci_low > 0) or (ci_high < 0)\n",
        "    favors_group1 = diffs.mean() > 0\n",
        "    return diffs.mean(), significant, favors_group1\n",
        "\n",
        "# --- Main intersectional analysis ---\n",
        "# Get valid group combinations\n",
        "intersection_col = merged_df_test_copy[['gender_mapped', 'ethnicity_mapped']].copy()\n",
        "intersection_col['group'] = list(zip(intersection_col.gender_mapped, intersection_col.ethnicity_mapped))\n",
        "group_counts = intersection_col['group'].value_counts()\n",
        "valid_groups = group_counts[group_counts >= min_group_size].index.tolist()\n",
        "\n",
        "# Generate all non-repeating unique pairs\n",
        "group_pairs = list(combinations(valid_groups, 2))\n",
        "\n",
        "# Results\n",
        "results = []\n",
        "\n",
        "for group1, group2 in tqdm(group_pairs, desc=\"Intersectional Fairness (Gender x Ethnicity)\"):\n",
        "    mask1 = (merged_df_test_copy['gender_mapped'] == group1[0]) & (merged_df_test_copy['ethnicity_mapped'] == group1[1])\n",
        "    mask2 = (merged_df_test_copy['gender_mapped'] == group2[0]) & (merged_df_test_copy['ethnicity_mapped'] == group2[1])\n",
        "\n",
        "    recall_sig = parity_sig = spec_sig = 0\n",
        "    recall_fav = parity_fav = spec_fav = 0\n",
        "\n",
        "    for label_idx in range(y_true.shape[1]):\n",
        "        y_true1, y_pred1 = y_true[mask1.values, label_idx], y_pred[mask1.values, label_idx]\n",
        "        y_true2, y_pred2 = y_true[mask2.values, label_idx], y_pred[mask2.values, label_idx]\n",
        "\n",
        "        if len(y_true1) < 1 or len(y_true2) < 1:\n",
        "            continue\n",
        "\n",
        "        _, sig_r, fav_r = bootstrap_metric_diff(y_true1, y_pred1, y_true2, y_pred2, safe_recall)\n",
        "        _, sig_p, fav_p = bootstrap_metric_diff(y_true1, y_pred1, y_true2, y_pred2, accuracy_score)\n",
        "        _, sig_s, fav_s = bootstrap_metric_diff(y_true1, y_pred1, y_true2, y_pred2, safe_specificity)\n",
        "\n",
        "        recall_sig += sig_r\n",
        "        parity_sig += sig_p\n",
        "        spec_sig += sig_s\n",
        "\n",
        "        recall_fav += sig_r and fav_r\n",
        "        parity_fav += sig_p and fav_p\n",
        "        spec_fav += sig_s and fav_s\n",
        "\n",
        "    results.append({\n",
        "        \"Group 1\": f\"{group1[0]} + {group1[1]}\",\n",
        "        \"Group 2\": f\"{group2[0]} + {group2[1]}\",\n",
        "        \"Recall Gap\": f\"{recall_sig} ({recall_fav / max(recall_sig, 1) * 100:.1f}%)\",\n",
        "        \"Parity Gap\": f\"{parity_sig} ({parity_fav / max(parity_sig, 1) * 100:.1f}%)\",\n",
        "        \"Specificity Gap\": f\"{spec_sig} ({spec_fav / max(spec_sig, 1) * 100:.1f}%)\"\n",
        "    })\n",
        "\n",
        "# Convert to DataFrame and display\n",
        "columns = [\n",
        "    (\"Group Info\", \"Group 1\"),\n",
        "    (\"Group Info\", \"Group 2\"),\n",
        "    (\"Significant Differences by Fairness Definition\", \"Recall Gap\"),\n",
        "    (\"Significant Differences by Fairness Definition\", \"Parity Gap\"),\n",
        "    (\"Significant Differences by Fairness Definition\", \"Specificity Gap\"),\n",
        "]\n",
        "\n",
        "intersectional_df = pd.DataFrame(results)\n",
        "intersectional_df.columns = pd.MultiIndex.from_tuples(columns)\n",
        "\n",
        "styled_table = (\n",
        "    intersectional_df.style\n",
        "    .set_table_styles(\n",
        "        [   {'selector': 'th', 'props': [('font-weight', 'bold'), ('border', '1px solid black')]},\n",
        "            {'selector': 'td', 'props': [('border', '1px solid black')]},\n",
        "            {'selector': 'table', 'props': [('border-collapse', 'collapse')]},\n",
        "        ]\n",
        "    )\n",
        "    .set_properties(**{'text-align': 'center'})\n",
        "    .set_caption(\"Intersectional Fairness Table (Gender x Ethnicity)\")\n",
        ")\n",
        "\n",
        "display(styled_table)\n",
        "styled_table.to_html(\"intersectional_fairness_gender_ethnicity.html\", escape=False, index=False)\n"
      ],
      "metadata": {
        "colab": {
          "base_uri": "https://localhost:8080/",
          "height": 795
        },
        "id": "qxFNrgUEqsaL",
        "outputId": "fd007597-1af9-4188-fb0e-bba23bd4447e"
      },
      "execution_count": null,
      "outputs": [
        {
          "output_type": "stream",
          "name": "stderr",
          "text": [
            "Intersectional Fairness (Gender x Ethnicity): 100%|██████████| 21/21 [03:43<00:00, 10.62s/it]\n"
          ]
        },
        {
          "output_type": "display_data",
          "data": {
            "text/plain": [
              "<pandas.io.formats.style.Styler at 0x7e80363ade90>"
            ],
            "text/html": [
              "<style type=\"text/css\">\n",
              "#T_3b68c th {\n",
              "  font-weight: bold;\n",
              "  border: 1px solid black;\n",
              "}\n",
              "#T_3b68c td {\n",
              "  border: 1px solid black;\n",
              "}\n",
              "#T_3b68c table {\n",
              "  border-collapse: collapse;\n",
              "}\n",
              "#T_3b68c_row0_col0, #T_3b68c_row0_col1, #T_3b68c_row0_col2, #T_3b68c_row0_col3, #T_3b68c_row0_col4, #T_3b68c_row1_col0, #T_3b68c_row1_col1, #T_3b68c_row1_col2, #T_3b68c_row1_col3, #T_3b68c_row1_col4, #T_3b68c_row2_col0, #T_3b68c_row2_col1, #T_3b68c_row2_col2, #T_3b68c_row2_col3, #T_3b68c_row2_col4, #T_3b68c_row3_col0, #T_3b68c_row3_col1, #T_3b68c_row3_col2, #T_3b68c_row3_col3, #T_3b68c_row3_col4, #T_3b68c_row4_col0, #T_3b68c_row4_col1, #T_3b68c_row4_col2, #T_3b68c_row4_col3, #T_3b68c_row4_col4, #T_3b68c_row5_col0, #T_3b68c_row5_col1, #T_3b68c_row5_col2, #T_3b68c_row5_col3, #T_3b68c_row5_col4, #T_3b68c_row6_col0, #T_3b68c_row6_col1, #T_3b68c_row6_col2, #T_3b68c_row6_col3, #T_3b68c_row6_col4, #T_3b68c_row7_col0, #T_3b68c_row7_col1, #T_3b68c_row7_col2, #T_3b68c_row7_col3, #T_3b68c_row7_col4, #T_3b68c_row8_col0, #T_3b68c_row8_col1, #T_3b68c_row8_col2, #T_3b68c_row8_col3, #T_3b68c_row8_col4, #T_3b68c_row9_col0, #T_3b68c_row9_col1, #T_3b68c_row9_col2, #T_3b68c_row9_col3, #T_3b68c_row9_col4, #T_3b68c_row10_col0, #T_3b68c_row10_col1, #T_3b68c_row10_col2, #T_3b68c_row10_col3, #T_3b68c_row10_col4, #T_3b68c_row11_col0, #T_3b68c_row11_col1, #T_3b68c_row11_col2, #T_3b68c_row11_col3, #T_3b68c_row11_col4, #T_3b68c_row12_col0, #T_3b68c_row12_col1, #T_3b68c_row12_col2, #T_3b68c_row12_col3, #T_3b68c_row12_col4, #T_3b68c_row13_col0, #T_3b68c_row13_col1, #T_3b68c_row13_col2, #T_3b68c_row13_col3, #T_3b68c_row13_col4, #T_3b68c_row14_col0, #T_3b68c_row14_col1, #T_3b68c_row14_col2, #T_3b68c_row14_col3, #T_3b68c_row14_col4, #T_3b68c_row15_col0, #T_3b68c_row15_col1, #T_3b68c_row15_col2, #T_3b68c_row15_col3, #T_3b68c_row15_col4, #T_3b68c_row16_col0, #T_3b68c_row16_col1, #T_3b68c_row16_col2, #T_3b68c_row16_col3, #T_3b68c_row16_col4, #T_3b68c_row17_col0, #T_3b68c_row17_col1, #T_3b68c_row17_col2, #T_3b68c_row17_col3, #T_3b68c_row17_col4, #T_3b68c_row18_col0, #T_3b68c_row18_col1, #T_3b68c_row18_col2, #T_3b68c_row18_col3, #T_3b68c_row18_col4, #T_3b68c_row19_col0, #T_3b68c_row19_col1, #T_3b68c_row19_col2, #T_3b68c_row19_col3, #T_3b68c_row19_col4, #T_3b68c_row20_col0, #T_3b68c_row20_col1, #T_3b68c_row20_col2, #T_3b68c_row20_col3, #T_3b68c_row20_col4 {\n",
              "  text-align: center;\n",
              "}\n",
              "</style>\n",
              "<table id=\"T_3b68c\" class=\"dataframe\">\n",
              "  <caption>Intersectional Fairness Table (Gender x Ethnicity)</caption>\n",
              "  <thead>\n",
              "    <tr>\n",
              "      <th class=\"blank level0\" >&nbsp;</th>\n",
              "      <th id=\"T_3b68c_level0_col0\" class=\"col_heading level0 col0\" colspan=\"2\">Group Info</th>\n",
              "      <th id=\"T_3b68c_level0_col2\" class=\"col_heading level0 col2\" colspan=\"3\">Significant Differences by Fairness Definition</th>\n",
              "    </tr>\n",
              "    <tr>\n",
              "      <th class=\"blank level1\" >&nbsp;</th>\n",
              "      <th id=\"T_3b68c_level1_col0\" class=\"col_heading level1 col0\" >Group 1</th>\n",
              "      <th id=\"T_3b68c_level1_col1\" class=\"col_heading level1 col1\" >Group 2</th>\n",
              "      <th id=\"T_3b68c_level1_col2\" class=\"col_heading level1 col2\" >Recall Gap</th>\n",
              "      <th id=\"T_3b68c_level1_col3\" class=\"col_heading level1 col3\" >Parity Gap</th>\n",
              "      <th id=\"T_3b68c_level1_col4\" class=\"col_heading level1 col4\" >Specificity Gap</th>\n",
              "    </tr>\n",
              "  </thead>\n",
              "  <tbody>\n",
              "    <tr>\n",
              "      <th id=\"T_3b68c_level0_row0\" class=\"row_heading level0 row0\" >0</th>\n",
              "      <td id=\"T_3b68c_row0_col0\" class=\"data row0 col0\" >Female + White</td>\n",
              "      <td id=\"T_3b68c_row0_col1\" class=\"data row0 col1\" >Male + White</td>\n",
              "      <td id=\"T_3b68c_row0_col2\" class=\"data row0 col2\" >6 (83.3%)</td>\n",
              "      <td id=\"T_3b68c_row0_col3\" class=\"data row0 col3\" >16 (62.5%)</td>\n",
              "      <td id=\"T_3b68c_row0_col4\" class=\"data row0 col4\" >7 (42.9%)</td>\n",
              "    </tr>\n",
              "    <tr>\n",
              "      <th id=\"T_3b68c_level0_row1\" class=\"row_heading level0 row1\" >1</th>\n",
              "      <td id=\"T_3b68c_row1_col0\" class=\"data row1 col0\" >Female + White</td>\n",
              "      <td id=\"T_3b68c_row1_col1\" class=\"data row1 col1\" >Male + Other</td>\n",
              "      <td id=\"T_3b68c_row1_col2\" class=\"data row1 col2\" >8 (100.0%)</td>\n",
              "      <td id=\"T_3b68c_row1_col3\" class=\"data row1 col3\" >14 (42.9%)</td>\n",
              "      <td id=\"T_3b68c_row1_col4\" class=\"data row1 col4\" >9 (11.1%)</td>\n",
              "    </tr>\n",
              "    <tr>\n",
              "      <th id=\"T_3b68c_level0_row2\" class=\"row_heading level0 row2\" >2</th>\n",
              "      <td id=\"T_3b68c_row2_col0\" class=\"data row2 col0\" >Female + White</td>\n",
              "      <td id=\"T_3b68c_row2_col1\" class=\"data row2 col1\" >Male + Black</td>\n",
              "      <td id=\"T_3b68c_row2_col2\" class=\"data row2 col2\" >10 (80.0%)</td>\n",
              "      <td id=\"T_3b68c_row2_col3\" class=\"data row2 col3\" >19 (26.3%)</td>\n",
              "      <td id=\"T_3b68c_row2_col4\" class=\"data row2 col4\" >12 (0.0%)</td>\n",
              "    </tr>\n",
              "    <tr>\n",
              "      <th id=\"T_3b68c_level0_row3\" class=\"row_heading level0 row3\" >3</th>\n",
              "      <td id=\"T_3b68c_row3_col0\" class=\"data row3 col0\" >Female + White</td>\n",
              "      <td id=\"T_3b68c_row3_col1\" class=\"data row3 col1\" >Female + Black</td>\n",
              "      <td id=\"T_3b68c_row3_col2\" class=\"data row3 col2\" >9 (88.9%)</td>\n",
              "      <td id=\"T_3b68c_row3_col3\" class=\"data row3 col3\" >16 (56.2%)</td>\n",
              "      <td id=\"T_3b68c_row3_col4\" class=\"data row3 col4\" >13 (15.4%)</td>\n",
              "    </tr>\n",
              "    <tr>\n",
              "      <th id=\"T_3b68c_level0_row4\" class=\"row_heading level0 row4\" >4</th>\n",
              "      <td id=\"T_3b68c_row4_col0\" class=\"data row4 col0\" >Female + White</td>\n",
              "      <td id=\"T_3b68c_row4_col1\" class=\"data row4 col1\" >Female + Other</td>\n",
              "      <td id=\"T_3b68c_row4_col2\" class=\"data row4 col2\" >9 (100.0%)</td>\n",
              "      <td id=\"T_3b68c_row4_col3\" class=\"data row4 col3\" >10 (30.0%)</td>\n",
              "      <td id=\"T_3b68c_row4_col4\" class=\"data row4 col4\" >11 (27.3%)</td>\n",
              "    </tr>\n",
              "    <tr>\n",
              "      <th id=\"T_3b68c_level0_row5\" class=\"row_heading level0 row5\" >5</th>\n",
              "      <td id=\"T_3b68c_row5_col0\" class=\"data row5 col0\" >Female + White</td>\n",
              "      <td id=\"T_3b68c_row5_col1\" class=\"data row5 col1\" >Male + Asian</td>\n",
              "      <td id=\"T_3b68c_row5_col2\" class=\"data row5 col2\" >11 (100.0%)</td>\n",
              "      <td id=\"T_3b68c_row5_col3\" class=\"data row5 col3\" >23 (17.4%)</td>\n",
              "      <td id=\"T_3b68c_row5_col4\" class=\"data row5 col4\" >14 (7.1%)</td>\n",
              "    </tr>\n",
              "    <tr>\n",
              "      <th id=\"T_3b68c_level0_row6\" class=\"row_heading level0 row6\" >6</th>\n",
              "      <td id=\"T_3b68c_row6_col0\" class=\"data row6 col0\" >Male + White</td>\n",
              "      <td id=\"T_3b68c_row6_col1\" class=\"data row6 col1\" >Male + Other</td>\n",
              "      <td id=\"T_3b68c_row6_col2\" class=\"data row6 col2\" >6 (83.3%)</td>\n",
              "      <td id=\"T_3b68c_row6_col3\" class=\"data row6 col3\" >18 (44.4%)</td>\n",
              "      <td id=\"T_3b68c_row6_col4\" class=\"data row6 col4\" >6 (16.7%)</td>\n",
              "    </tr>\n",
              "    <tr>\n",
              "      <th id=\"T_3b68c_level0_row7\" class=\"row_heading level0 row7\" >7</th>\n",
              "      <td id=\"T_3b68c_row7_col0\" class=\"data row7 col0\" >Male + White</td>\n",
              "      <td id=\"T_3b68c_row7_col1\" class=\"data row7 col1\" >Male + Black</td>\n",
              "      <td id=\"T_3b68c_row7_col2\" class=\"data row7 col2\" >7 (71.4%)</td>\n",
              "      <td id=\"T_3b68c_row7_col3\" class=\"data row7 col3\" >15 (20.0%)</td>\n",
              "      <td id=\"T_3b68c_row7_col4\" class=\"data row7 col4\" >9 (0.0%)</td>\n",
              "    </tr>\n",
              "    <tr>\n",
              "      <th id=\"T_3b68c_level0_row8\" class=\"row_heading level0 row8\" >8</th>\n",
              "      <td id=\"T_3b68c_row8_col0\" class=\"data row8 col0\" >Male + White</td>\n",
              "      <td id=\"T_3b68c_row8_col1\" class=\"data row8 col1\" >Female + Black</td>\n",
              "      <td id=\"T_3b68c_row8_col2\" class=\"data row8 col2\" >7 (85.7%)</td>\n",
              "      <td id=\"T_3b68c_row8_col3\" class=\"data row8 col3\" >10 (30.0%)</td>\n",
              "      <td id=\"T_3b68c_row8_col4\" class=\"data row8 col4\" >9 (11.1%)</td>\n",
              "    </tr>\n",
              "    <tr>\n",
              "      <th id=\"T_3b68c_level0_row9\" class=\"row_heading level0 row9\" >9</th>\n",
              "      <td id=\"T_3b68c_row9_col0\" class=\"data row9 col0\" >Male + White</td>\n",
              "      <td id=\"T_3b68c_row9_col1\" class=\"data row9 col1\" >Female + Other</td>\n",
              "      <td id=\"T_3b68c_row9_col2\" class=\"data row9 col2\" >7 (100.0%)</td>\n",
              "      <td id=\"T_3b68c_row9_col3\" class=\"data row9 col3\" >14 (28.6%)</td>\n",
              "      <td id=\"T_3b68c_row9_col4\" class=\"data row9 col4\" >6 (16.7%)</td>\n",
              "    </tr>\n",
              "    <tr>\n",
              "      <th id=\"T_3b68c_level0_row10\" class=\"row_heading level0 row10\" >10</th>\n",
              "      <td id=\"T_3b68c_row10_col0\" class=\"data row10 col0\" >Male + White</td>\n",
              "      <td id=\"T_3b68c_row10_col1\" class=\"data row10 col1\" >Male + Asian</td>\n",
              "      <td id=\"T_3b68c_row10_col2\" class=\"data row10 col2\" >8 (100.0%)</td>\n",
              "      <td id=\"T_3b68c_row10_col3\" class=\"data row10 col3\" >23 (17.4%)</td>\n",
              "      <td id=\"T_3b68c_row10_col4\" class=\"data row10 col4\" >11 (9.1%)</td>\n",
              "    </tr>\n",
              "    <tr>\n",
              "      <th id=\"T_3b68c_level0_row11\" class=\"row_heading level0 row11\" >11</th>\n",
              "      <td id=\"T_3b68c_row11_col0\" class=\"data row11 col0\" >Male + Other</td>\n",
              "      <td id=\"T_3b68c_row11_col1\" class=\"data row11 col1\" >Male + Black</td>\n",
              "      <td id=\"T_3b68c_row11_col2\" class=\"data row11 col2\" >3 (33.3%)</td>\n",
              "      <td id=\"T_3b68c_row11_col3\" class=\"data row11 col3\" >14 (28.6%)</td>\n",
              "      <td id=\"T_3b68c_row11_col4\" class=\"data row11 col4\" >5 (0.0%)</td>\n",
              "    </tr>\n",
              "    <tr>\n",
              "      <th id=\"T_3b68c_level0_row12\" class=\"row_heading level0 row12\" >12</th>\n",
              "      <td id=\"T_3b68c_row12_col0\" class=\"data row12 col0\" >Male + Other</td>\n",
              "      <td id=\"T_3b68c_row12_col1\" class=\"data row12 col1\" >Female + Black</td>\n",
              "      <td id=\"T_3b68c_row12_col2\" class=\"data row12 col2\" >4 (50.0%)</td>\n",
              "      <td id=\"T_3b68c_row12_col3\" class=\"data row12 col3\" >14 (57.1%)</td>\n",
              "      <td id=\"T_3b68c_row12_col4\" class=\"data row12 col4\" >6 (33.3%)</td>\n",
              "    </tr>\n",
              "    <tr>\n",
              "      <th id=\"T_3b68c_level0_row13\" class=\"row_heading level0 row13\" >13</th>\n",
              "      <td id=\"T_3b68c_row13_col0\" class=\"data row13 col0\" >Male + Other</td>\n",
              "      <td id=\"T_3b68c_row13_col1\" class=\"data row13 col1\" >Female + Other</td>\n",
              "      <td id=\"T_3b68c_row13_col2\" class=\"data row13 col2\" >5 (80.0%)</td>\n",
              "      <td id=\"T_3b68c_row13_col3\" class=\"data row13 col3\" >8 (37.5%)</td>\n",
              "      <td id=\"T_3b68c_row13_col4\" class=\"data row13 col4\" >6 (50.0%)</td>\n",
              "    </tr>\n",
              "    <tr>\n",
              "      <th id=\"T_3b68c_level0_row14\" class=\"row_heading level0 row14\" >14</th>\n",
              "      <td id=\"T_3b68c_row14_col0\" class=\"data row14 col0\" >Male + Other</td>\n",
              "      <td id=\"T_3b68c_row14_col1\" class=\"data row14 col1\" >Male + Asian</td>\n",
              "      <td id=\"T_3b68c_row14_col2\" class=\"data row14 col2\" >3 (100.0%)</td>\n",
              "      <td id=\"T_3b68c_row14_col3\" class=\"data row14 col3\" >16 (18.8%)</td>\n",
              "      <td id=\"T_3b68c_row14_col4\" class=\"data row14 col4\" >7 (14.3%)</td>\n",
              "    </tr>\n",
              "    <tr>\n",
              "      <th id=\"T_3b68c_level0_row15\" class=\"row_heading level0 row15\" >15</th>\n",
              "      <td id=\"T_3b68c_row15_col0\" class=\"data row15 col0\" >Male + Black</td>\n",
              "      <td id=\"T_3b68c_row15_col1\" class=\"data row15 col1\" >Female + Black</td>\n",
              "      <td id=\"T_3b68c_row15_col2\" class=\"data row15 col2\" >3 (66.7%)</td>\n",
              "      <td id=\"T_3b68c_row15_col3\" class=\"data row15 col3\" >12 (75.0%)</td>\n",
              "      <td id=\"T_3b68c_row15_col4\" class=\"data row15 col4\" >2 (100.0%)</td>\n",
              "    </tr>\n",
              "    <tr>\n",
              "      <th id=\"T_3b68c_level0_row16\" class=\"row_heading level0 row16\" >16</th>\n",
              "      <td id=\"T_3b68c_row16_col0\" class=\"data row16 col0\" >Male + Black</td>\n",
              "      <td id=\"T_3b68c_row16_col1\" class=\"data row16 col1\" >Female + Other</td>\n",
              "      <td id=\"T_3b68c_row16_col2\" class=\"data row16 col2\" >3 (66.7%)</td>\n",
              "      <td id=\"T_3b68c_row16_col3\" class=\"data row16 col3\" >13 (61.5%)</td>\n",
              "      <td id=\"T_3b68c_row16_col4\" class=\"data row16 col4\" >6 (100.0%)</td>\n",
              "    </tr>\n",
              "    <tr>\n",
              "      <th id=\"T_3b68c_level0_row17\" class=\"row_heading level0 row17\" >17</th>\n",
              "      <td id=\"T_3b68c_row17_col0\" class=\"data row17 col0\" >Male + Black</td>\n",
              "      <td id=\"T_3b68c_row17_col1\" class=\"data row17 col1\" >Male + Asian</td>\n",
              "      <td id=\"T_3b68c_row17_col2\" class=\"data row17 col2\" >2 (100.0%)</td>\n",
              "      <td id=\"T_3b68c_row17_col3\" class=\"data row17 col3\" >15 (20.0%)</td>\n",
              "      <td id=\"T_3b68c_row17_col4\" class=\"data row17 col4\" >1 (100.0%)</td>\n",
              "    </tr>\n",
              "    <tr>\n",
              "      <th id=\"T_3b68c_level0_row18\" class=\"row_heading level0 row18\" >18</th>\n",
              "      <td id=\"T_3b68c_row18_col0\" class=\"data row18 col0\" >Female + Black</td>\n",
              "      <td id=\"T_3b68c_row18_col1\" class=\"data row18 col1\" >Female + Other</td>\n",
              "      <td id=\"T_3b68c_row18_col2\" class=\"data row18 col2\" >2 (50.0%)</td>\n",
              "      <td id=\"T_3b68c_row18_col3\" class=\"data row18 col3\" >13 (38.5%)</td>\n",
              "      <td id=\"T_3b68c_row18_col4\" class=\"data row18 col4\" >6 (66.7%)</td>\n",
              "    </tr>\n",
              "    <tr>\n",
              "      <th id=\"T_3b68c_level0_row19\" class=\"row_heading level0 row19\" >19</th>\n",
              "      <td id=\"T_3b68c_row19_col0\" class=\"data row19 col0\" >Female + Black</td>\n",
              "      <td id=\"T_3b68c_row19_col1\" class=\"data row19 col1\" >Male + Asian</td>\n",
              "      <td id=\"T_3b68c_row19_col2\" class=\"data row19 col2\" >1 (100.0%)</td>\n",
              "      <td id=\"T_3b68c_row19_col3\" class=\"data row19 col3\" >16 (18.8%)</td>\n",
              "      <td id=\"T_3b68c_row19_col4\" class=\"data row19 col4\" >3 (33.3%)</td>\n",
              "    </tr>\n",
              "    <tr>\n",
              "      <th id=\"T_3b68c_level0_row20\" class=\"row_heading level0 row20\" >20</th>\n",
              "      <td id=\"T_3b68c_row20_col0\" class=\"data row20 col0\" >Female + Other</td>\n",
              "      <td id=\"T_3b68c_row20_col1\" class=\"data row20 col1\" >Male + Asian</td>\n",
              "      <td id=\"T_3b68c_row20_col2\" class=\"data row20 col2\" >1 (100.0%)</td>\n",
              "      <td id=\"T_3b68c_row20_col3\" class=\"data row20 col3\" >16 (25.0%)</td>\n",
              "      <td id=\"T_3b68c_row20_col4\" class=\"data row20 col4\" >6 (16.7%)</td>\n",
              "    </tr>\n",
              "  </tbody>\n",
              "</table>\n"
            ]
          },
          "metadata": {}
        }
      ]
    },
    {
      "cell_type": "code",
      "source": [],
      "metadata": {
        "id": "4ZiMmjUxqsmZ"
      },
      "execution_count": null,
      "outputs": []
    },
    {
      "cell_type": "code",
      "source": [],
      "metadata": {
        "id": "jSFAG5O7qsp2"
      },
      "execution_count": null,
      "outputs": []
    }
  ],
  "metadata": {
    "colab": {
      "machine_shape": "hm",
      "provenance": [],
      "gpuType": "T4",
      "include_colab_link": true
    },
    "kernelspec": {
      "display_name": "Python 3",
      "name": "python3"
    },
    "language_info": {
      "name": "python"
    },
    "accelerator": "GPU"
  },
  "nbformat": 4,
  "nbformat_minor": 0
}