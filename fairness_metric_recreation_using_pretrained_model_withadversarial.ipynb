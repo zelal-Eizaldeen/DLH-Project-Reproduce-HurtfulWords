{
  "cells": [
    {
      "cell_type": "markdown",
      "metadata": {
        "id": "view-in-github",
        "colab_type": "text"
      },
      "source": [
        "<a href=\"https://colab.research.google.com/github/zelal-Eizaldeen/DLH-Project-Reproduce-HurtfulWords/blob/main/Fairness_metric_recreation_using_pretrained_model_withadversarial.ipynb\" target=\"_parent\"><img src=\"https://colab.research.google.com/assets/colab-badge.svg\" alt=\"Open In Colab\"/></a>"
      ]
    },
    {
      "cell_type": "markdown",
      "source": [
        "Names: Payel Chakraborty && Zilal Eiz Al Din\n",
        "\n",
        "NetIDs: payelc2 && zelalae2\n",
        "\n",
        "Purpose: This file contains Paper Name, their Pretrained Models, Environment and Prerequisites and Script Usage.\n",
        "\n",
        "Dataset: HurtfulWordsDataset (MIMIC3)\n",
        "\n",
        "Paper Reference: Hurtful Words: Quantifying Biases in Clinical Contextual Word Embeddings\n",
        "\n",
        "The paper: https://arxiv.org/abs/2003.11515\n",
        "\n",
        "Github Repo of the paper: https://github.com/MLforHealth/HurtfulWords\n",
        "\n",
        "Github Repo of the Reproduction: https://github.com/zelal-Eizaldeen/DLH-Project-Reproduce-HurtfulWords\n",
        "\n",
        "Prerequisite: the cleaned demographic dataset from \"data.csv\" and the listfile.csv within phenotyping folder in mimic3-benchmark folder.\n",
        "\n",
        "Usage: This script is used to merge the demographic data (subject, language, ethnicity, gender, insurance, and cleaned up clinical notes) with the 25 labels from the \"phenotyping\" folder in mimic3-benchmark. Phenotyping folder has both train and test datasets, but we have used the train dataset to tokenize and evaluate the for performance gaps within each demog subgroup. Why the train dataset? Because we are not training the model here anymore, just evaluating it. So the train datset has more data, and to be able to evaluate the model for a larger dataset. Also, evaluate the same dataset with the Adversarial Debiased model.\n",
        "(To assess fairness and bias in clinical prediction models (particularly BERT-based ones) across demographic subgroups, especially gender, ethnicity, language, and insurance.)"
      ],
      "metadata": {
        "id": "Py4DlS_TDavl"
      }
    },
    {
      "cell_type": "markdown",
      "source": [
        "# Mounting the Google Drive and importing necessary packages and libraries"
      ],
      "metadata": {
        "id": "8tgg6ChM6Qco"
      }
    },
    {
      "cell_type": "code",
      "execution_count": null,
      "metadata": {
        "colab": {
          "base_uri": "https://localhost:8080/"
        },
        "id": "f7ceuhxCuJLZ",
        "outputId": "076147e8-6f31-40e7-bf0a-87b4b2c0a448"
      },
      "outputs": [
        {
          "output_type": "stream",
          "name": "stdout",
          "text": [
            "Mounted at /content/drive\n"
          ]
        }
      ],
      "source": [
        "from google.colab import drive\n",
        "drive.mount('/content/drive', force_remount=True)"
      ]
    },
    {
      "cell_type": "code",
      "execution_count": null,
      "metadata": {
        "id": "gUiVkXXkGCyO"
      },
      "outputs": [],
      "source": [
        "#Import modules\n",
        "import sys\n",
        "sys.path.append('/content/drive/MyDrive/Payel-DLH-related/Colab Notebooks')\n",
        "import pandas as pd\n",
        "from pathlib import Path\n",
        "import os\n",
        "from transformers import BertForMaskedLM, BertModel, BertTokenizer,AutoModelForMaskedLM, AutoTokenizer\n",
        "import torch\n",
        "import pandas as pd"
      ]
    },
    {
      "cell_type": "markdown",
      "source": [
        "# Pretrained Clinical BERT Model that was downloaded from the Original paper Github repository"
      ],
      "metadata": {
        "id": "9-YDRNo72aUa"
      }
    },
    {
      "cell_type": "code",
      "execution_count": null,
      "metadata": {
        "id": "XJpPcEINeHPP"
      },
      "outputs": [],
      "source": [
        "SCIBERT_DIR = Path('/content/drive/MyDrive/Payel-DLH-related/HurtfulWords/pretrainedModels')"
      ]
    },
    {
      "cell_type": "code",
      "execution_count": null,
      "metadata": {
        "id": "IFw2mFC5eHSd"
      },
      "outputs": [],
      "source": [
        "baseline_model_path = SCIBERT_DIR / 'Baseline_Clinical_BERT/baseline_clinical_BERT_1_epoch_512'"
      ]
    },
    {
      "cell_type": "code",
      "execution_count": null,
      "metadata": {
        "colab": {
          "base_uri": "https://localhost:8080/"
        },
        "id": "4UHNP6NPPu0m",
        "outputId": "71071304-24c9-4192-dad0-8bd8e039ecb9"
      },
      "outputs": [
        {
          "output_type": "stream",
          "name": "stdout",
          "text": [
            "/content/drive/MyDrive/Payel-DLH-related/HurtfulWords/pretrainedModels/Baseline_Clinical_BERT/baseline_clinical_BERT_1_epoch_512\n"
          ]
        }
      ],
      "source": [
        "print(baseline_model_path)"
      ]
    },
    {
      "cell_type": "markdown",
      "source": [
        "# There are two kinds of input files: the demog file (data.csv) is the file with notes per subject anf the mimic files are the files with phenotype labels(25 of them) originally downloaded using the mimic-benchmark build steps. The latter have both train and test of files."
      ],
      "metadata": {
        "id": "ytBHz_fp2pfG"
      }
    },
    {
      "cell_type": "code",
      "execution_count": null,
      "metadata": {
        "id": "PzayBo9Ycjjf"
      },
      "outputs": [],
      "source": [
        "# DEMOG_FILE = Path('/content/drive/MyDrive/Payel-DLH-related/DataFiles/sampled_files')\n",
        "DEMOG_FILE = Path('/content/drive/MyDrive/Payel-DLH-related/DataFiles/cleaned_data/data.csv')\n",
        "MIMIC_FILE = Path('/content/drive/MyDrive/Payel-DLH-related/mimic3-benchmarks/data/phenotyping/train')\n",
        "MIMIC_FILE_TEST = Path('/content/drive/MyDrive/Payel-DLH-related/mimic3-benchmarks/data/phenotyping/test')"
      ]
    },
    {
      "cell_type": "markdown",
      "source": [
        "# Dataframe creation for the demog file"
      ],
      "metadata": {
        "id": "NuUXEtQT3aM3"
      }
    },
    {
      "cell_type": "code",
      "execution_count": null,
      "metadata": {
        "id": "uNH7KBcNfeeY"
      },
      "outputs": [],
      "source": [
        "df_demog = pd.read_csv(DEMOG_FILE)"
      ]
    },
    {
      "cell_type": "code",
      "execution_count": null,
      "metadata": {
        "colab": {
          "base_uri": "https://localhost:8080/"
        },
        "id": "FXBFGVYcUdMZ",
        "outputId": "58b935a6-7434-4774-e897-f8ac8fb6d597"
      },
      "outputs": [
        {
          "output_type": "stream",
          "name": "stdout",
          "text": [
            "5018\n"
          ]
        }
      ],
      "source": [
        "print(len(df_demog))"
      ]
    },
    {
      "cell_type": "code",
      "execution_count": null,
      "metadata": {
        "colab": {
          "base_uri": "https://localhost:8080/"
        },
        "id": "C5lLd45wFeWx",
        "outputId": "16ac27c2-be6e-45d2-b107-501eff0173e9"
      },
      "outputs": [
        {
          "output_type": "execute_result",
          "data": {
            "text/plain": [
              "Index(['row_id', 'subject_id', 'hadm_id', 'chartdate', 'charttime',\n",
              "       'storetime', 'category', 'description', 'cgid', 'iserror', 'text',\n",
              "       'row_id_x', 'gender', 'dob', 'dod', 'dod_hosp', 'dod_ssn',\n",
              "       'expire_flag', 'fold', 'row_id_y', 'admittime', 'dischtime',\n",
              "       'deathtime', 'admission_type', 'admission_location',\n",
              "       'discharge_location', 'insurance', 'language', 'religion',\n",
              "       'marital_status', 'ethnicity', 'edregtime', 'edouttime', 'diagnosis',\n",
              "       'hospital_expire_flag', 'has_chartevents_data', 'dod_merged',\n",
              "       'ethnicity_to_use', 'age', 'icd9_code', 'language_to_use', 'icustay_id',\n",
              "       'intime', 'hours_from_icu_admit', 'concat_notes', 'cleaned_sent',\n",
              "       'bert_input'],\n",
              "      dtype='object')"
            ]
          },
          "metadata": {},
          "execution_count": 9
        }
      ],
      "source": [
        "df_demog.columns"
      ]
    },
    {
      "cell_type": "markdown",
      "source": [
        "# Renaming the correct note field from row_id to note_id in the demog file."
      ],
      "metadata": {
        "id": "kpC3WMaj3O_j"
      }
    },
    {
      "cell_type": "code",
      "execution_count": null,
      "metadata": {
        "colab": {
          "base_uri": "https://localhost:8080/",
          "height": 241
        },
        "id": "0E_vw7RTYFxV",
        "outputId": "97af3439-8066-4bac-fc6f-8937c60fc645"
      },
      "outputs": [
        {
          "output_type": "execute_result",
          "data": {
            "text/plain": [
              "0    ['Patient made CMO last night, bradycardic 20-...\n",
              "1    ['Patient made CMO last night, bradycardic 20-...\n",
              "2    ['PHIAGEPHI yr old female admitted to the micu...\n",
              "3    ['PHIAGEPHI yr old female admitted to the micu...\n",
              "4    ['Comfort care (CMO, Comfort Measures)    Asse...\n",
              "Name: cleaned_sent, dtype: object"
            ],
            "text/html": [
              "<div>\n",
              "<style scoped>\n",
              "    .dataframe tbody tr th:only-of-type {\n",
              "        vertical-align: middle;\n",
              "    }\n",
              "\n",
              "    .dataframe tbody tr th {\n",
              "        vertical-align: top;\n",
              "    }\n",
              "\n",
              "    .dataframe thead th {\n",
              "        text-align: right;\n",
              "    }\n",
              "</style>\n",
              "<table border=\"1\" class=\"dataframe\">\n",
              "  <thead>\n",
              "    <tr style=\"text-align: right;\">\n",
              "      <th></th>\n",
              "      <th>cleaned_sent</th>\n",
              "    </tr>\n",
              "  </thead>\n",
              "  <tbody>\n",
              "    <tr>\n",
              "      <th>0</th>\n",
              "      <td>['Patient made CMO last night, bradycardic 20-...</td>\n",
              "    </tr>\n",
              "    <tr>\n",
              "      <th>1</th>\n",
              "      <td>['Patient made CMO last night, bradycardic 20-...</td>\n",
              "    </tr>\n",
              "    <tr>\n",
              "      <th>2</th>\n",
              "      <td>['PHIAGEPHI yr old female admitted to the micu...</td>\n",
              "    </tr>\n",
              "    <tr>\n",
              "      <th>3</th>\n",
              "      <td>['PHIAGEPHI yr old female admitted to the micu...</td>\n",
              "    </tr>\n",
              "    <tr>\n",
              "      <th>4</th>\n",
              "      <td>['Comfort care (CMO, Comfort Measures)    Asse...</td>\n",
              "    </tr>\n",
              "  </tbody>\n",
              "</table>\n",
              "</div><br><label><b>dtype:</b> object</label>"
            ]
          },
          "metadata": {},
          "execution_count": 11
        }
      ],
      "source": [
        "# df_demog=df_demog.reset_index()()\n",
        "df_demog=df_demog.rename(columns={'row_id':'note_id'})\n",
        "df_demog['cleaned_sent'].head()"
      ]
    },
    {
      "cell_type": "code",
      "execution_count": null,
      "metadata": {
        "colab": {
          "base_uri": "https://localhost:8080/",
          "height": 123
        },
        "id": "_csGCKQ8U9f1",
        "outputId": "1e5ef7f2-7420-41fc-b2ce-05809652bd61"
      },
      "outputs": [
        {
          "output_type": "execute_result",
          "data": {
            "text/plain": [
              "\"['Patient made CMO last night, bradycardic 20-30 bpm when I came in,    apneic, appears comfortable.', 'Family at bedside with patient, emotional    support given.', 'Went into asystole, house officer intormed.', 'Pronounced    dead by doctor PHINAMEPHI at  Family offered for autopsy which they    refused to be done to the patient.', 'Post mortem care done, after family    have spent time with patient.', 'Patient s wife not at bedside, children    will inform their mother personally.', 'PHINAMEPHI rites  sacrament of sick    done yesterday.', 'Patient was brought to PHINAMEPHI with name band intact.', 'Comfort care (CMO, Comfort Measures)    Assessment:    Throughout shift pt.', 'became increasingly hypotensive despite being    given blood and albumin.', 'Sats progressively worsened on 100% FIO    Family called and MDs conformed CMO status.', 'Action:    PRN morphine as needed.', 'Morphine gtt ordered but not hung as pt.', 'unresponsive and appears comfortable.', 'Emotional support to family.', 'Response:    Pt.', 'appears comfortable.', 'Breathing no longer labored.', 'Family all at    bedside.', 'Plan:    Continue with morphine for pt.', 'comfort.']\""
            ],
            "application/vnd.google.colaboratory.intrinsic+json": {
              "type": "string"
            }
          },
          "metadata": {},
          "execution_count": 13
        }
      ],
      "source": [
        "df_demog['cleaned_sent'][1]"
      ]
    },
    {
      "cell_type": "markdown",
      "source": [
        "# Dataframe creation for the mimic files- the listfile.csv contains the subject and the 5 labels. There are two of them, on for train and the other for test. The subject_id has been extracted from the fist field in the listfile.csv which was actually contaning the episode timeseries filenames."
      ],
      "metadata": {
        "id": "_RhHbPLC3gms"
      }
    },
    {
      "cell_type": "code",
      "execution_count": null,
      "metadata": {
        "id": "L0Q1RrDEhnNo"
      },
      "outputs": [],
      "source": [
        "df_mimic = pd.read_csv(MIMIC_FILE/'listfile.csv',index_col=0)\n",
        "df_mimic = df_mimic.reset_index()"
      ]
    },
    {
      "cell_type": "code",
      "execution_count": null,
      "metadata": {
        "colab": {
          "base_uri": "https://localhost:8080/",
          "height": 359
        },
        "collapsed": true,
        "id": "LrK94AY-cjmS",
        "outputId": "c04f2fc2-bd3f-4c7d-f870-2db967f11377"
      },
      "outputs": [
        {
          "output_type": "execute_result",
          "data": {
            "text/plain": [
              "                            stay  period_length  \\\n",
              "0  10036_episode1_timeseries.csv        43.3632   \n",
              "1   1004_episode1_timeseries.csv       144.9864   \n",
              "2   1004_episode2_timeseries.csv        53.8656   \n",
              "3  10064_episode1_timeseries.csv         4.9680   \n",
              "4  10093_episode1_timeseries.csv        21.6408   \n",
              "\n",
              "   Acute and unspecified renal failure  Acute cerebrovascular disease  \\\n",
              "0                                    1                              0   \n",
              "1                                    0                              0   \n",
              "2                                    1                              1   \n",
              "3                                    0                              0   \n",
              "4                                    1                              0   \n",
              "\n",
              "   Acute myocardial infarction  Cardiac dysrhythmias  Chronic kidney disease  \\\n",
              "0                            0                     0                       0   \n",
              "1                            0                     0                       0   \n",
              "2                            0                     0                       0   \n",
              "3                            0                     1                       0   \n",
              "4                            1                     0                       0   \n",
              "\n",
              "   Chronic obstructive pulmonary disease and bronchiectasis  \\\n",
              "0                                                  0          \n",
              "1                                                  0          \n",
              "2                                                  0          \n",
              "3                                                  0          \n",
              "4                                                  0          \n",
              "\n",
              "   Complications of surgical procedures or medical care  Conduction disorders  \\\n",
              "0                                                  0                        0   \n",
              "1                                                  1                        0   \n",
              "2                                                  1                        0   \n",
              "3                                                  0                        0   \n",
              "4                                                  0                        0   \n",
              "\n",
              "   ...  Gastrointestinal hemorrhage  \\\n",
              "0  ...                            0   \n",
              "1  ...                            0   \n",
              "2  ...                            0   \n",
              "3  ...                            0   \n",
              "4  ...                            1   \n",
              "\n",
              "   Hypertension with complications and secondary hypertension  \\\n",
              "0                                                  0            \n",
              "1                                                  1            \n",
              "2                                                  0            \n",
              "3                                                  0            \n",
              "4                                                  0            \n",
              "\n",
              "   Other liver diseases  Other lower respiratory disease  \\\n",
              "0                     0                                0   \n",
              "1                     0                                0   \n",
              "2                     1                                0   \n",
              "3                     0                                0   \n",
              "4                     0                                0   \n",
              "\n",
              "   Other upper respiratory disease  \\\n",
              "0                                0   \n",
              "1                                0   \n",
              "2                                0   \n",
              "3                                0   \n",
              "4                                0   \n",
              "\n",
              "   Pleurisy; pneumothorax; pulmonary collapse  \\\n",
              "0                                           0   \n",
              "1                                           0   \n",
              "2                                           0   \n",
              "3                                           0   \n",
              "4                                           0   \n",
              "\n",
              "   Pneumonia (except that caused by tuberculosis or sexually transmitted disease)  \\\n",
              "0                                                  0                                \n",
              "1                                                  0                                \n",
              "2                                                  0                                \n",
              "3                                                  0                                \n",
              "4                                                  0                                \n",
              "\n",
              "   Respiratory failure; insufficiency; arrest (adult)  \\\n",
              "0                                                  0    \n",
              "1                                                  0    \n",
              "2                                                  0    \n",
              "3                                                  0    \n",
              "4                                                  0    \n",
              "\n",
              "   Septicemia (except in labor)  Shock  \n",
              "0                             1      1  \n",
              "1                             0      0  \n",
              "2                             0      0  \n",
              "3                             0      0  \n",
              "4                             0      1  \n",
              "\n",
              "[5 rows x 27 columns]"
            ],
            "text/html": [
              "\n",
              "  <div id=\"df-363dfa3c-d22b-4fb6-a4c3-e7bb8c6b68c8\" class=\"colab-df-container\">\n",
              "    <div>\n",
              "<style scoped>\n",
              "    .dataframe tbody tr th:only-of-type {\n",
              "        vertical-align: middle;\n",
              "    }\n",
              "\n",
              "    .dataframe tbody tr th {\n",
              "        vertical-align: top;\n",
              "    }\n",
              "\n",
              "    .dataframe thead th {\n",
              "        text-align: right;\n",
              "    }\n",
              "</style>\n",
              "<table border=\"1\" class=\"dataframe\">\n",
              "  <thead>\n",
              "    <tr style=\"text-align: right;\">\n",
              "      <th></th>\n",
              "      <th>stay</th>\n",
              "      <th>period_length</th>\n",
              "      <th>Acute and unspecified renal failure</th>\n",
              "      <th>Acute cerebrovascular disease</th>\n",
              "      <th>Acute myocardial infarction</th>\n",
              "      <th>Cardiac dysrhythmias</th>\n",
              "      <th>Chronic kidney disease</th>\n",
              "      <th>Chronic obstructive pulmonary disease and bronchiectasis</th>\n",
              "      <th>Complications of surgical procedures or medical care</th>\n",
              "      <th>Conduction disorders</th>\n",
              "      <th>...</th>\n",
              "      <th>Gastrointestinal hemorrhage</th>\n",
              "      <th>Hypertension with complications and secondary hypertension</th>\n",
              "      <th>Other liver diseases</th>\n",
              "      <th>Other lower respiratory disease</th>\n",
              "      <th>Other upper respiratory disease</th>\n",
              "      <th>Pleurisy; pneumothorax; pulmonary collapse</th>\n",
              "      <th>Pneumonia (except that caused by tuberculosis or sexually transmitted disease)</th>\n",
              "      <th>Respiratory failure; insufficiency; arrest (adult)</th>\n",
              "      <th>Septicemia (except in labor)</th>\n",
              "      <th>Shock</th>\n",
              "    </tr>\n",
              "  </thead>\n",
              "  <tbody>\n",
              "    <tr>\n",
              "      <th>0</th>\n",
              "      <td>10036_episode1_timeseries.csv</td>\n",
              "      <td>43.3632</td>\n",
              "      <td>1</td>\n",
              "      <td>0</td>\n",
              "      <td>0</td>\n",
              "      <td>0</td>\n",
              "      <td>0</td>\n",
              "      <td>0</td>\n",
              "      <td>0</td>\n",
              "      <td>0</td>\n",
              "      <td>...</td>\n",
              "      <td>0</td>\n",
              "      <td>0</td>\n",
              "      <td>0</td>\n",
              "      <td>0</td>\n",
              "      <td>0</td>\n",
              "      <td>0</td>\n",
              "      <td>0</td>\n",
              "      <td>0</td>\n",
              "      <td>1</td>\n",
              "      <td>1</td>\n",
              "    </tr>\n",
              "    <tr>\n",
              "      <th>1</th>\n",
              "      <td>1004_episode1_timeseries.csv</td>\n",
              "      <td>144.9864</td>\n",
              "      <td>0</td>\n",
              "      <td>0</td>\n",
              "      <td>0</td>\n",
              "      <td>0</td>\n",
              "      <td>0</td>\n",
              "      <td>0</td>\n",
              "      <td>1</td>\n",
              "      <td>0</td>\n",
              "      <td>...</td>\n",
              "      <td>0</td>\n",
              "      <td>1</td>\n",
              "      <td>0</td>\n",
              "      <td>0</td>\n",
              "      <td>0</td>\n",
              "      <td>0</td>\n",
              "      <td>0</td>\n",
              "      <td>0</td>\n",
              "      <td>0</td>\n",
              "      <td>0</td>\n",
              "    </tr>\n",
              "    <tr>\n",
              "      <th>2</th>\n",
              "      <td>1004_episode2_timeseries.csv</td>\n",
              "      <td>53.8656</td>\n",
              "      <td>1</td>\n",
              "      <td>1</td>\n",
              "      <td>0</td>\n",
              "      <td>0</td>\n",
              "      <td>0</td>\n",
              "      <td>0</td>\n",
              "      <td>1</td>\n",
              "      <td>0</td>\n",
              "      <td>...</td>\n",
              "      <td>0</td>\n",
              "      <td>0</td>\n",
              "      <td>1</td>\n",
              "      <td>0</td>\n",
              "      <td>0</td>\n",
              "      <td>0</td>\n",
              "      <td>0</td>\n",
              "      <td>0</td>\n",
              "      <td>0</td>\n",
              "      <td>0</td>\n",
              "    </tr>\n",
              "    <tr>\n",
              "      <th>3</th>\n",
              "      <td>10064_episode1_timeseries.csv</td>\n",
              "      <td>4.9680</td>\n",
              "      <td>0</td>\n",
              "      <td>0</td>\n",
              "      <td>0</td>\n",
              "      <td>1</td>\n",
              "      <td>0</td>\n",
              "      <td>0</td>\n",
              "      <td>0</td>\n",
              "      <td>0</td>\n",
              "      <td>...</td>\n",
              "      <td>0</td>\n",
              "      <td>0</td>\n",
              "      <td>0</td>\n",
              "      <td>0</td>\n",
              "      <td>0</td>\n",
              "      <td>0</td>\n",
              "      <td>0</td>\n",
              "      <td>0</td>\n",
              "      <td>0</td>\n",
              "      <td>0</td>\n",
              "    </tr>\n",
              "    <tr>\n",
              "      <th>4</th>\n",
              "      <td>10093_episode1_timeseries.csv</td>\n",
              "      <td>21.6408</td>\n",
              "      <td>1</td>\n",
              "      <td>0</td>\n",
              "      <td>1</td>\n",
              "      <td>0</td>\n",
              "      <td>0</td>\n",
              "      <td>0</td>\n",
              "      <td>0</td>\n",
              "      <td>0</td>\n",
              "      <td>...</td>\n",
              "      <td>1</td>\n",
              "      <td>0</td>\n",
              "      <td>0</td>\n",
              "      <td>0</td>\n",
              "      <td>0</td>\n",
              "      <td>0</td>\n",
              "      <td>0</td>\n",
              "      <td>0</td>\n",
              "      <td>0</td>\n",
              "      <td>1</td>\n",
              "    </tr>\n",
              "  </tbody>\n",
              "</table>\n",
              "<p>5 rows × 27 columns</p>\n",
              "</div>\n",
              "    <div class=\"colab-df-buttons\">\n",
              "\n",
              "  <div class=\"colab-df-container\">\n",
              "    <button class=\"colab-df-convert\" onclick=\"convertToInteractive('df-363dfa3c-d22b-4fb6-a4c3-e7bb8c6b68c8')\"\n",
              "            title=\"Convert this dataframe to an interactive table.\"\n",
              "            style=\"display:none;\">\n",
              "\n",
              "  <svg xmlns=\"http://www.w3.org/2000/svg\" height=\"24px\" viewBox=\"0 -960 960 960\">\n",
              "    <path d=\"M120-120v-720h720v720H120Zm60-500h600v-160H180v160Zm220 220h160v-160H400v160Zm0 220h160v-160H400v160ZM180-400h160v-160H180v160Zm440 0h160v-160H620v160ZM180-180h160v-160H180v160Zm440 0h160v-160H620v160Z\"/>\n",
              "  </svg>\n",
              "    </button>\n",
              "\n",
              "  <style>\n",
              "    .colab-df-container {\n",
              "      display:flex;\n",
              "      gap: 12px;\n",
              "    }\n",
              "\n",
              "    .colab-df-convert {\n",
              "      background-color: #E8F0FE;\n",
              "      border: none;\n",
              "      border-radius: 50%;\n",
              "      cursor: pointer;\n",
              "      display: none;\n",
              "      fill: #1967D2;\n",
              "      height: 32px;\n",
              "      padding: 0 0 0 0;\n",
              "      width: 32px;\n",
              "    }\n",
              "\n",
              "    .colab-df-convert:hover {\n",
              "      background-color: #E2EBFA;\n",
              "      box-shadow: 0px 1px 2px rgba(60, 64, 67, 0.3), 0px 1px 3px 1px rgba(60, 64, 67, 0.15);\n",
              "      fill: #174EA6;\n",
              "    }\n",
              "\n",
              "    .colab-df-buttons div {\n",
              "      margin-bottom: 4px;\n",
              "    }\n",
              "\n",
              "    [theme=dark] .colab-df-convert {\n",
              "      background-color: #3B4455;\n",
              "      fill: #D2E3FC;\n",
              "    }\n",
              "\n",
              "    [theme=dark] .colab-df-convert:hover {\n",
              "      background-color: #434B5C;\n",
              "      box-shadow: 0px 1px 3px 1px rgba(0, 0, 0, 0.15);\n",
              "      filter: drop-shadow(0px 1px 2px rgba(0, 0, 0, 0.3));\n",
              "      fill: #FFFFFF;\n",
              "    }\n",
              "  </style>\n",
              "\n",
              "    <script>\n",
              "      const buttonEl =\n",
              "        document.querySelector('#df-363dfa3c-d22b-4fb6-a4c3-e7bb8c6b68c8 button.colab-df-convert');\n",
              "      buttonEl.style.display =\n",
              "        google.colab.kernel.accessAllowed ? 'block' : 'none';\n",
              "\n",
              "      async function convertToInteractive(key) {\n",
              "        const element = document.querySelector('#df-363dfa3c-d22b-4fb6-a4c3-e7bb8c6b68c8');\n",
              "        const dataTable =\n",
              "          await google.colab.kernel.invokeFunction('convertToInteractive',\n",
              "                                                    [key], {});\n",
              "        if (!dataTable) return;\n",
              "\n",
              "        const docLinkHtml = 'Like what you see? Visit the ' +\n",
              "          '<a target=\"_blank\" href=https://colab.research.google.com/notebooks/data_table.ipynb>data table notebook</a>'\n",
              "          + ' to learn more about interactive tables.';\n",
              "        element.innerHTML = '';\n",
              "        dataTable['output_type'] = 'display_data';\n",
              "        await google.colab.output.renderOutput(dataTable, element);\n",
              "        const docLink = document.createElement('div');\n",
              "        docLink.innerHTML = docLinkHtml;\n",
              "        element.appendChild(docLink);\n",
              "      }\n",
              "    </script>\n",
              "  </div>\n",
              "\n",
              "\n",
              "<div id=\"df-7408b376-afe1-4e62-8ec7-279ebb4e2475\">\n",
              "  <button class=\"colab-df-quickchart\" onclick=\"quickchart('df-7408b376-afe1-4e62-8ec7-279ebb4e2475')\"\n",
              "            title=\"Suggest charts\"\n",
              "            style=\"display:none;\">\n",
              "\n",
              "<svg xmlns=\"http://www.w3.org/2000/svg\" height=\"24px\"viewBox=\"0 0 24 24\"\n",
              "     width=\"24px\">\n",
              "    <g>\n",
              "        <path d=\"M19 3H5c-1.1 0-2 .9-2 2v14c0 1.1.9 2 2 2h14c1.1 0 2-.9 2-2V5c0-1.1-.9-2-2-2zM9 17H7v-7h2v7zm4 0h-2V7h2v10zm4 0h-2v-4h2v4z\"/>\n",
              "    </g>\n",
              "</svg>\n",
              "  </button>\n",
              "\n",
              "<style>\n",
              "  .colab-df-quickchart {\n",
              "      --bg-color: #E8F0FE;\n",
              "      --fill-color: #1967D2;\n",
              "      --hover-bg-color: #E2EBFA;\n",
              "      --hover-fill-color: #174EA6;\n",
              "      --disabled-fill-color: #AAA;\n",
              "      --disabled-bg-color: #DDD;\n",
              "  }\n",
              "\n",
              "  [theme=dark] .colab-df-quickchart {\n",
              "      --bg-color: #3B4455;\n",
              "      --fill-color: #D2E3FC;\n",
              "      --hover-bg-color: #434B5C;\n",
              "      --hover-fill-color: #FFFFFF;\n",
              "      --disabled-bg-color: #3B4455;\n",
              "      --disabled-fill-color: #666;\n",
              "  }\n",
              "\n",
              "  .colab-df-quickchart {\n",
              "    background-color: var(--bg-color);\n",
              "    border: none;\n",
              "    border-radius: 50%;\n",
              "    cursor: pointer;\n",
              "    display: none;\n",
              "    fill: var(--fill-color);\n",
              "    height: 32px;\n",
              "    padding: 0;\n",
              "    width: 32px;\n",
              "  }\n",
              "\n",
              "  .colab-df-quickchart:hover {\n",
              "    background-color: var(--hover-bg-color);\n",
              "    box-shadow: 0 1px 2px rgba(60, 64, 67, 0.3), 0 1px 3px 1px rgba(60, 64, 67, 0.15);\n",
              "    fill: var(--button-hover-fill-color);\n",
              "  }\n",
              "\n",
              "  .colab-df-quickchart-complete:disabled,\n",
              "  .colab-df-quickchart-complete:disabled:hover {\n",
              "    background-color: var(--disabled-bg-color);\n",
              "    fill: var(--disabled-fill-color);\n",
              "    box-shadow: none;\n",
              "  }\n",
              "\n",
              "  .colab-df-spinner {\n",
              "    border: 2px solid var(--fill-color);\n",
              "    border-color: transparent;\n",
              "    border-bottom-color: var(--fill-color);\n",
              "    animation:\n",
              "      spin 1s steps(1) infinite;\n",
              "  }\n",
              "\n",
              "  @keyframes spin {\n",
              "    0% {\n",
              "      border-color: transparent;\n",
              "      border-bottom-color: var(--fill-color);\n",
              "      border-left-color: var(--fill-color);\n",
              "    }\n",
              "    20% {\n",
              "      border-color: transparent;\n",
              "      border-left-color: var(--fill-color);\n",
              "      border-top-color: var(--fill-color);\n",
              "    }\n",
              "    30% {\n",
              "      border-color: transparent;\n",
              "      border-left-color: var(--fill-color);\n",
              "      border-top-color: var(--fill-color);\n",
              "      border-right-color: var(--fill-color);\n",
              "    }\n",
              "    40% {\n",
              "      border-color: transparent;\n",
              "      border-right-color: var(--fill-color);\n",
              "      border-top-color: var(--fill-color);\n",
              "    }\n",
              "    60% {\n",
              "      border-color: transparent;\n",
              "      border-right-color: var(--fill-color);\n",
              "    }\n",
              "    80% {\n",
              "      border-color: transparent;\n",
              "      border-right-color: var(--fill-color);\n",
              "      border-bottom-color: var(--fill-color);\n",
              "    }\n",
              "    90% {\n",
              "      border-color: transparent;\n",
              "      border-bottom-color: var(--fill-color);\n",
              "    }\n",
              "  }\n",
              "</style>\n",
              "\n",
              "  <script>\n",
              "    async function quickchart(key) {\n",
              "      const quickchartButtonEl =\n",
              "        document.querySelector('#' + key + ' button');\n",
              "      quickchartButtonEl.disabled = true;  // To prevent multiple clicks.\n",
              "      quickchartButtonEl.classList.add('colab-df-spinner');\n",
              "      try {\n",
              "        const charts = await google.colab.kernel.invokeFunction(\n",
              "            'suggestCharts', [key], {});\n",
              "      } catch (error) {\n",
              "        console.error('Error during call to suggestCharts:', error);\n",
              "      }\n",
              "      quickchartButtonEl.classList.remove('colab-df-spinner');\n",
              "      quickchartButtonEl.classList.add('colab-df-quickchart-complete');\n",
              "    }\n",
              "    (() => {\n",
              "      let quickchartButtonEl =\n",
              "        document.querySelector('#df-7408b376-afe1-4e62-8ec7-279ebb4e2475 button');\n",
              "      quickchartButtonEl.style.display =\n",
              "        google.colab.kernel.accessAllowed ? 'block' : 'none';\n",
              "    })();\n",
              "  </script>\n",
              "</div>\n",
              "\n",
              "    </div>\n",
              "  </div>\n"
            ],
            "application/vnd.google.colaboratory.intrinsic+json": {
              "type": "dataframe",
              "variable_name": "df_mimic"
            }
          },
          "metadata": {},
          "execution_count": 15
        }
      ],
      "source": [
        "df_mimic.head(5)"
      ]
    },
    {
      "cell_type": "code",
      "execution_count": null,
      "metadata": {
        "id": "tjzQqPPBcjrT"
      },
      "outputs": [],
      "source": [
        "\n",
        "df_mimic['subject_id'] = df_mimic['stay'].str.split('_').str[0]"
      ]
    },
    {
      "cell_type": "code",
      "execution_count": null,
      "metadata": {
        "id": "WOKZvQgMO3ro"
      },
      "outputs": [],
      "source": [
        "df_mimic_test = pd.read_csv(MIMIC_FILE_TEST/'listfile.csv',index_col=0)\n",
        "df_mimic_test = df_mimic_test.reset_index()\n",
        "\n",
        "df_mimic_test['subject_id'] = df_mimic_test['stay'].str.split('_').str[0]"
      ]
    },
    {
      "cell_type": "code",
      "execution_count": null,
      "metadata": {
        "colab": {
          "base_uri": "https://localhost:8080/"
        },
        "id": "sbp-kUltPD9Z",
        "outputId": "5ad31d8d-9b59-456b-c7a9-0db9d9cb2d1f"
      },
      "outputs": [
        {
          "output_type": "stream",
          "name": "stdout",
          "text": [
            "225\n",
            "1261\n"
          ]
        }
      ],
      "source": [
        "print(len(df_mimic_test))\n",
        "print(len(df_mimic))"
      ]
    },
    {
      "cell_type": "code",
      "execution_count": null,
      "metadata": {
        "colab": {
          "base_uri": "https://localhost:8080/"
        },
        "collapsed": true,
        "id": "EOuGHQEC_Wkm",
        "outputId": "e6a6628c-b255-4794-f854-68376872c6b1"
      },
      "outputs": [
        {
          "output_type": "execute_result",
          "data": {
            "text/plain": [
              "Index(['note_id', 'subject_id', 'hadm_id', 'chartdate', 'charttime',\n",
              "       'storetime', 'category', 'description', 'cgid', 'iserror', 'text',\n",
              "       'row_id_x', 'gender', 'dob', 'dod', 'dod_hosp', 'dod_ssn',\n",
              "       'expire_flag', 'fold', 'row_id_y', 'admittime', 'dischtime',\n",
              "       'deathtime', 'admission_type', 'admission_location',\n",
              "       'discharge_location', 'insurance', 'language', 'religion',\n",
              "       'marital_status', 'ethnicity', 'edregtime', 'edouttime', 'diagnosis',\n",
              "       'hospital_expire_flag', 'has_chartevents_data', 'dod_merged',\n",
              "       'ethnicity_to_use', 'age', 'icd9_code', 'language_to_use', 'icustay_id',\n",
              "       'intime', 'hours_from_icu_admit', 'concat_notes', 'cleaned_sent',\n",
              "       'bert_input'],\n",
              "      dtype='object')"
            ]
          },
          "metadata": {},
          "execution_count": 17
        }
      ],
      "source": [
        "df_demog.columns"
      ]
    },
    {
      "cell_type": "markdown",
      "source": [
        "# Merging the demog file and the miic file (create one merged cop for train and the other for test)"
      ],
      "metadata": {
        "id": "pQoi5a7k34o4"
      }
    },
    {
      "cell_type": "code",
      "execution_count": null,
      "metadata": {
        "colab": {
          "base_uri": "https://localhost:8080/",
          "height": 568
        },
        "id": "YXCzXM6sPPtG",
        "outputId": "79388c00-c49c-479c-ecd2-630069bd1203"
      },
      "outputs": [
        {
          "output_type": "execute_result",
          "data": {
            "text/plain": [
              "   note_id  subject_id   hadm_id   chartdate            charttime  \\\n",
              "0   316599       29080  181664.0  2163-02-23  2163-02-23 09:11:00   \n",
              "1   316573       29080  181664.0  2163-02-23  2163-02-23 04:31:00   \n",
              "2   315769       29548  182189.0  2195-01-18  2195-01-18 16:24:00   \n",
              "3   315777       29548  182189.0  2195-01-18  2195-01-18 16:50:00   \n",
              "4   317118       30699  108670.0  2121-01-07  2121-01-07 05:50:00   \n",
              "\n",
              "             storetime   category                         description  \\\n",
              "0  2163-02-23 09:11:59    Nursing               Nursing Progress Note   \n",
              "1  2163-02-23 04:31:07    Nursing               Nursing Progress Note   \n",
              "2  2195-01-18 16:25:03  Physician   Physician Resident Admission Note   \n",
              "3  2195-01-18 16:50:40  Physician  Physician Attending Admission Note   \n",
              "4  2121-01-07 05:50:42    Nursing               Nursing Progress Note   \n",
              "\n",
              "      cgid  iserror  ... Gastrointestinal hemorrhage  \\\n",
              "0  21297.0      NaN  ...                           1   \n",
              "1  20706.0      NaN  ...                           1   \n",
              "2  15235.0      NaN  ...                           0   \n",
              "3  20047.0      NaN  ...                           0   \n",
              "4  21290.0      NaN  ...                           0   \n",
              "\n",
              "   Hypertension with complications and secondary hypertension  \\\n",
              "0                                                  1            \n",
              "1                                                  1            \n",
              "2                                                  1            \n",
              "3                                                  1            \n",
              "4                                                  0            \n",
              "\n",
              "  Other liver diseases Other lower respiratory disease  \\\n",
              "0                    0                               0   \n",
              "1                    0                               0   \n",
              "2                    0                               1   \n",
              "3                    0                               1   \n",
              "4                    0                               0   \n",
              "\n",
              "  Other upper respiratory disease Pleurisy; pneumothorax; pulmonary collapse  \\\n",
              "0                               0                                          0   \n",
              "1                               0                                          0   \n",
              "2                               0                                          0   \n",
              "3                               0                                          0   \n",
              "4                               0                                          0   \n",
              "\n",
              "  Pneumonia (except that caused by tuberculosis or sexually transmitted disease)  \\\n",
              "0                                                  1                               \n",
              "1                                                  1                               \n",
              "2                                                  0                               \n",
              "3                                                  0                               \n",
              "4                                                  0                               \n",
              "\n",
              "   Respiratory failure; insufficiency; arrest (adult)  \\\n",
              "0                                                  0    \n",
              "1                                                  0    \n",
              "2                                                  1    \n",
              "3                                                  1    \n",
              "4                                                  1    \n",
              "\n",
              "   Septicemia (except in labor)  Shock  \n",
              "0                             0      0  \n",
              "1                             0      0  \n",
              "2                             0      0  \n",
              "3                             0      0  \n",
              "4                             0      0  \n",
              "\n",
              "[5 rows x 74 columns]"
            ],
            "text/html": [
              "\n",
              "  <div id=\"df-cf6587da-e502-472f-bcbd-a85de086381c\" class=\"colab-df-container\">\n",
              "    <div>\n",
              "<style scoped>\n",
              "    .dataframe tbody tr th:only-of-type {\n",
              "        vertical-align: middle;\n",
              "    }\n",
              "\n",
              "    .dataframe tbody tr th {\n",
              "        vertical-align: top;\n",
              "    }\n",
              "\n",
              "    .dataframe thead th {\n",
              "        text-align: right;\n",
              "    }\n",
              "</style>\n",
              "<table border=\"1\" class=\"dataframe\">\n",
              "  <thead>\n",
              "    <tr style=\"text-align: right;\">\n",
              "      <th></th>\n",
              "      <th>note_id</th>\n",
              "      <th>subject_id</th>\n",
              "      <th>hadm_id</th>\n",
              "      <th>chartdate</th>\n",
              "      <th>charttime</th>\n",
              "      <th>storetime</th>\n",
              "      <th>category</th>\n",
              "      <th>description</th>\n",
              "      <th>cgid</th>\n",
              "      <th>iserror</th>\n",
              "      <th>...</th>\n",
              "      <th>Gastrointestinal hemorrhage</th>\n",
              "      <th>Hypertension with complications and secondary hypertension</th>\n",
              "      <th>Other liver diseases</th>\n",
              "      <th>Other lower respiratory disease</th>\n",
              "      <th>Other upper respiratory disease</th>\n",
              "      <th>Pleurisy; pneumothorax; pulmonary collapse</th>\n",
              "      <th>Pneumonia (except that caused by tuberculosis or sexually transmitted disease)</th>\n",
              "      <th>Respiratory failure; insufficiency; arrest (adult)</th>\n",
              "      <th>Septicemia (except in labor)</th>\n",
              "      <th>Shock</th>\n",
              "    </tr>\n",
              "  </thead>\n",
              "  <tbody>\n",
              "    <tr>\n",
              "      <th>0</th>\n",
              "      <td>316599</td>\n",
              "      <td>29080</td>\n",
              "      <td>181664.0</td>\n",
              "      <td>2163-02-23</td>\n",
              "      <td>2163-02-23 09:11:00</td>\n",
              "      <td>2163-02-23 09:11:59</td>\n",
              "      <td>Nursing</td>\n",
              "      <td>Nursing Progress Note</td>\n",
              "      <td>21297.0</td>\n",
              "      <td>NaN</td>\n",
              "      <td>...</td>\n",
              "      <td>1</td>\n",
              "      <td>1</td>\n",
              "      <td>0</td>\n",
              "      <td>0</td>\n",
              "      <td>0</td>\n",
              "      <td>0</td>\n",
              "      <td>1</td>\n",
              "      <td>0</td>\n",
              "      <td>0</td>\n",
              "      <td>0</td>\n",
              "    </tr>\n",
              "    <tr>\n",
              "      <th>1</th>\n",
              "      <td>316573</td>\n",
              "      <td>29080</td>\n",
              "      <td>181664.0</td>\n",
              "      <td>2163-02-23</td>\n",
              "      <td>2163-02-23 04:31:00</td>\n",
              "      <td>2163-02-23 04:31:07</td>\n",
              "      <td>Nursing</td>\n",
              "      <td>Nursing Progress Note</td>\n",
              "      <td>20706.0</td>\n",
              "      <td>NaN</td>\n",
              "      <td>...</td>\n",
              "      <td>1</td>\n",
              "      <td>1</td>\n",
              "      <td>0</td>\n",
              "      <td>0</td>\n",
              "      <td>0</td>\n",
              "      <td>0</td>\n",
              "      <td>1</td>\n",
              "      <td>0</td>\n",
              "      <td>0</td>\n",
              "      <td>0</td>\n",
              "    </tr>\n",
              "    <tr>\n",
              "      <th>2</th>\n",
              "      <td>315769</td>\n",
              "      <td>29548</td>\n",
              "      <td>182189.0</td>\n",
              "      <td>2195-01-18</td>\n",
              "      <td>2195-01-18 16:24:00</td>\n",
              "      <td>2195-01-18 16:25:03</td>\n",
              "      <td>Physician</td>\n",
              "      <td>Physician Resident Admission Note</td>\n",
              "      <td>15235.0</td>\n",
              "      <td>NaN</td>\n",
              "      <td>...</td>\n",
              "      <td>0</td>\n",
              "      <td>1</td>\n",
              "      <td>0</td>\n",
              "      <td>1</td>\n",
              "      <td>0</td>\n",
              "      <td>0</td>\n",
              "      <td>0</td>\n",
              "      <td>1</td>\n",
              "      <td>0</td>\n",
              "      <td>0</td>\n",
              "    </tr>\n",
              "    <tr>\n",
              "      <th>3</th>\n",
              "      <td>315777</td>\n",
              "      <td>29548</td>\n",
              "      <td>182189.0</td>\n",
              "      <td>2195-01-18</td>\n",
              "      <td>2195-01-18 16:50:00</td>\n",
              "      <td>2195-01-18 16:50:40</td>\n",
              "      <td>Physician</td>\n",
              "      <td>Physician Attending Admission Note</td>\n",
              "      <td>20047.0</td>\n",
              "      <td>NaN</td>\n",
              "      <td>...</td>\n",
              "      <td>0</td>\n",
              "      <td>1</td>\n",
              "      <td>0</td>\n",
              "      <td>1</td>\n",
              "      <td>0</td>\n",
              "      <td>0</td>\n",
              "      <td>0</td>\n",
              "      <td>1</td>\n",
              "      <td>0</td>\n",
              "      <td>0</td>\n",
              "    </tr>\n",
              "    <tr>\n",
              "      <th>4</th>\n",
              "      <td>317118</td>\n",
              "      <td>30699</td>\n",
              "      <td>108670.0</td>\n",
              "      <td>2121-01-07</td>\n",
              "      <td>2121-01-07 05:50:00</td>\n",
              "      <td>2121-01-07 05:50:42</td>\n",
              "      <td>Nursing</td>\n",
              "      <td>Nursing Progress Note</td>\n",
              "      <td>21290.0</td>\n",
              "      <td>NaN</td>\n",
              "      <td>...</td>\n",
              "      <td>0</td>\n",
              "      <td>0</td>\n",
              "      <td>0</td>\n",
              "      <td>0</td>\n",
              "      <td>0</td>\n",
              "      <td>0</td>\n",
              "      <td>0</td>\n",
              "      <td>1</td>\n",
              "      <td>0</td>\n",
              "      <td>0</td>\n",
              "    </tr>\n",
              "  </tbody>\n",
              "</table>\n",
              "<p>5 rows × 74 columns</p>\n",
              "</div>\n",
              "    <div class=\"colab-df-buttons\">\n",
              "\n",
              "  <div class=\"colab-df-container\">\n",
              "    <button class=\"colab-df-convert\" onclick=\"convertToInteractive('df-cf6587da-e502-472f-bcbd-a85de086381c')\"\n",
              "            title=\"Convert this dataframe to an interactive table.\"\n",
              "            style=\"display:none;\">\n",
              "\n",
              "  <svg xmlns=\"http://www.w3.org/2000/svg\" height=\"24px\" viewBox=\"0 -960 960 960\">\n",
              "    <path d=\"M120-120v-720h720v720H120Zm60-500h600v-160H180v160Zm220 220h160v-160H400v160Zm0 220h160v-160H400v160ZM180-400h160v-160H180v160Zm440 0h160v-160H620v160ZM180-180h160v-160H180v160Zm440 0h160v-160H620v160Z\"/>\n",
              "  </svg>\n",
              "    </button>\n",
              "\n",
              "  <style>\n",
              "    .colab-df-container {\n",
              "      display:flex;\n",
              "      gap: 12px;\n",
              "    }\n",
              "\n",
              "    .colab-df-convert {\n",
              "      background-color: #E8F0FE;\n",
              "      border: none;\n",
              "      border-radius: 50%;\n",
              "      cursor: pointer;\n",
              "      display: none;\n",
              "      fill: #1967D2;\n",
              "      height: 32px;\n",
              "      padding: 0 0 0 0;\n",
              "      width: 32px;\n",
              "    }\n",
              "\n",
              "    .colab-df-convert:hover {\n",
              "      background-color: #E2EBFA;\n",
              "      box-shadow: 0px 1px 2px rgba(60, 64, 67, 0.3), 0px 1px 3px 1px rgba(60, 64, 67, 0.15);\n",
              "      fill: #174EA6;\n",
              "    }\n",
              "\n",
              "    .colab-df-buttons div {\n",
              "      margin-bottom: 4px;\n",
              "    }\n",
              "\n",
              "    [theme=dark] .colab-df-convert {\n",
              "      background-color: #3B4455;\n",
              "      fill: #D2E3FC;\n",
              "    }\n",
              "\n",
              "    [theme=dark] .colab-df-convert:hover {\n",
              "      background-color: #434B5C;\n",
              "      box-shadow: 0px 1px 3px 1px rgba(0, 0, 0, 0.15);\n",
              "      filter: drop-shadow(0px 1px 2px rgba(0, 0, 0, 0.3));\n",
              "      fill: #FFFFFF;\n",
              "    }\n",
              "  </style>\n",
              "\n",
              "    <script>\n",
              "      const buttonEl =\n",
              "        document.querySelector('#df-cf6587da-e502-472f-bcbd-a85de086381c button.colab-df-convert');\n",
              "      buttonEl.style.display =\n",
              "        google.colab.kernel.accessAllowed ? 'block' : 'none';\n",
              "\n",
              "      async function convertToInteractive(key) {\n",
              "        const element = document.querySelector('#df-cf6587da-e502-472f-bcbd-a85de086381c');\n",
              "        const dataTable =\n",
              "          await google.colab.kernel.invokeFunction('convertToInteractive',\n",
              "                                                    [key], {});\n",
              "        if (!dataTable) return;\n",
              "\n",
              "        const docLinkHtml = 'Like what you see? Visit the ' +\n",
              "          '<a target=\"_blank\" href=https://colab.research.google.com/notebooks/data_table.ipynb>data table notebook</a>'\n",
              "          + ' to learn more about interactive tables.';\n",
              "        element.innerHTML = '';\n",
              "        dataTable['output_type'] = 'display_data';\n",
              "        await google.colab.output.renderOutput(dataTable, element);\n",
              "        const docLink = document.createElement('div');\n",
              "        docLink.innerHTML = docLinkHtml;\n",
              "        element.appendChild(docLink);\n",
              "      }\n",
              "    </script>\n",
              "  </div>\n",
              "\n",
              "\n",
              "<div id=\"df-eeefc12e-34cd-4690-aca4-1a69cf8a3c31\">\n",
              "  <button class=\"colab-df-quickchart\" onclick=\"quickchart('df-eeefc12e-34cd-4690-aca4-1a69cf8a3c31')\"\n",
              "            title=\"Suggest charts\"\n",
              "            style=\"display:none;\">\n",
              "\n",
              "<svg xmlns=\"http://www.w3.org/2000/svg\" height=\"24px\"viewBox=\"0 0 24 24\"\n",
              "     width=\"24px\">\n",
              "    <g>\n",
              "        <path d=\"M19 3H5c-1.1 0-2 .9-2 2v14c0 1.1.9 2 2 2h14c1.1 0 2-.9 2-2V5c0-1.1-.9-2-2-2zM9 17H7v-7h2v7zm4 0h-2V7h2v10zm4 0h-2v-4h2v4z\"/>\n",
              "    </g>\n",
              "</svg>\n",
              "  </button>\n",
              "\n",
              "<style>\n",
              "  .colab-df-quickchart {\n",
              "      --bg-color: #E8F0FE;\n",
              "      --fill-color: #1967D2;\n",
              "      --hover-bg-color: #E2EBFA;\n",
              "      --hover-fill-color: #174EA6;\n",
              "      --disabled-fill-color: #AAA;\n",
              "      --disabled-bg-color: #DDD;\n",
              "  }\n",
              "\n",
              "  [theme=dark] .colab-df-quickchart {\n",
              "      --bg-color: #3B4455;\n",
              "      --fill-color: #D2E3FC;\n",
              "      --hover-bg-color: #434B5C;\n",
              "      --hover-fill-color: #FFFFFF;\n",
              "      --disabled-bg-color: #3B4455;\n",
              "      --disabled-fill-color: #666;\n",
              "  }\n",
              "\n",
              "  .colab-df-quickchart {\n",
              "    background-color: var(--bg-color);\n",
              "    border: none;\n",
              "    border-radius: 50%;\n",
              "    cursor: pointer;\n",
              "    display: none;\n",
              "    fill: var(--fill-color);\n",
              "    height: 32px;\n",
              "    padding: 0;\n",
              "    width: 32px;\n",
              "  }\n",
              "\n",
              "  .colab-df-quickchart:hover {\n",
              "    background-color: var(--hover-bg-color);\n",
              "    box-shadow: 0 1px 2px rgba(60, 64, 67, 0.3), 0 1px 3px 1px rgba(60, 64, 67, 0.15);\n",
              "    fill: var(--button-hover-fill-color);\n",
              "  }\n",
              "\n",
              "  .colab-df-quickchart-complete:disabled,\n",
              "  .colab-df-quickchart-complete:disabled:hover {\n",
              "    background-color: var(--disabled-bg-color);\n",
              "    fill: var(--disabled-fill-color);\n",
              "    box-shadow: none;\n",
              "  }\n",
              "\n",
              "  .colab-df-spinner {\n",
              "    border: 2px solid var(--fill-color);\n",
              "    border-color: transparent;\n",
              "    border-bottom-color: var(--fill-color);\n",
              "    animation:\n",
              "      spin 1s steps(1) infinite;\n",
              "  }\n",
              "\n",
              "  @keyframes spin {\n",
              "    0% {\n",
              "      border-color: transparent;\n",
              "      border-bottom-color: var(--fill-color);\n",
              "      border-left-color: var(--fill-color);\n",
              "    }\n",
              "    20% {\n",
              "      border-color: transparent;\n",
              "      border-left-color: var(--fill-color);\n",
              "      border-top-color: var(--fill-color);\n",
              "    }\n",
              "    30% {\n",
              "      border-color: transparent;\n",
              "      border-left-color: var(--fill-color);\n",
              "      border-top-color: var(--fill-color);\n",
              "      border-right-color: var(--fill-color);\n",
              "    }\n",
              "    40% {\n",
              "      border-color: transparent;\n",
              "      border-right-color: var(--fill-color);\n",
              "      border-top-color: var(--fill-color);\n",
              "    }\n",
              "    60% {\n",
              "      border-color: transparent;\n",
              "      border-right-color: var(--fill-color);\n",
              "    }\n",
              "    80% {\n",
              "      border-color: transparent;\n",
              "      border-right-color: var(--fill-color);\n",
              "      border-bottom-color: var(--fill-color);\n",
              "    }\n",
              "    90% {\n",
              "      border-color: transparent;\n",
              "      border-bottom-color: var(--fill-color);\n",
              "    }\n",
              "  }\n",
              "</style>\n",
              "\n",
              "  <script>\n",
              "    async function quickchart(key) {\n",
              "      const quickchartButtonEl =\n",
              "        document.querySelector('#' + key + ' button');\n",
              "      quickchartButtonEl.disabled = true;  // To prevent multiple clicks.\n",
              "      quickchartButtonEl.classList.add('colab-df-spinner');\n",
              "      try {\n",
              "        const charts = await google.colab.kernel.invokeFunction(\n",
              "            'suggestCharts', [key], {});\n",
              "      } catch (error) {\n",
              "        console.error('Error during call to suggestCharts:', error);\n",
              "      }\n",
              "      quickchartButtonEl.classList.remove('colab-df-spinner');\n",
              "      quickchartButtonEl.classList.add('colab-df-quickchart-complete');\n",
              "    }\n",
              "    (() => {\n",
              "      let quickchartButtonEl =\n",
              "        document.querySelector('#df-eeefc12e-34cd-4690-aca4-1a69cf8a3c31 button');\n",
              "      quickchartButtonEl.style.display =\n",
              "        google.colab.kernel.accessAllowed ? 'block' : 'none';\n",
              "    })();\n",
              "  </script>\n",
              "</div>\n",
              "\n",
              "    </div>\n",
              "  </div>\n"
            ],
            "application/vnd.google.colaboratory.intrinsic+json": {
              "type": "dataframe",
              "variable_name": "merged_df"
            }
          },
          "metadata": {},
          "execution_count": 50
        }
      ],
      "source": [
        "# df_demog=df_demog.rename(columns={'subject_id_x':'subject_id'})\n",
        "df_demog['subject_id'] = df_demog['subject_id'].astype(int)\n",
        "# df_demog = df_demog[['subject_id_x','gender','ethnicity','language_to_use','insurance']]\n",
        "df_mimic['subject_id'] = df_mimic['subject_id'].astype(int)\n",
        "df_mimic_test['subject_id'] = df_mimic_test['subject_id'].astype(int)\n",
        "merged_df = pd.merge(df_demog, df_mimic, on='subject_id', how='inner')\n",
        "merged_df.head()\n"
      ]
    },
    {
      "cell_type": "code",
      "execution_count": null,
      "metadata": {
        "colab": {
          "base_uri": "https://localhost:8080/",
          "height": 550
        },
        "id": "o0TR9OaZhUV-",
        "outputId": "7015c361-6842-4427-b0f4-3f9f98f0368e"
      },
      "outputs": [
        {
          "output_type": "execute_result",
          "data": {
            "text/plain": [
              "   note_id  subject_id   hadm_id   chartdate            charttime  \\\n",
              "0   325855       28313  156864.0  2117-04-04  2117-04-04 01:30:00   \n",
              "1   325855       28313  156864.0  2117-04-04  2117-04-04 01:30:00   \n",
              "2   325844       28313  156864.0  2117-04-04  2117-04-04 01:30:00   \n",
              "3   325844       28313  156864.0  2117-04-04  2117-04-04 01:30:00   \n",
              "4   325847       28313  156864.0  2117-04-04  2117-04-04 03:15:00   \n",
              "\n",
              "             storetime   category                        description     cgid  \\\n",
              "0  2117-04-04 05:23:20    Nursing              Nursing Progress Note  18469.0   \n",
              "1  2117-04-04 05:23:20    Nursing              Nursing Progress Note  18469.0   \n",
              "2  2117-04-04 01:30:36    Nursing              Nursing Progress Note  18469.0   \n",
              "3  2117-04-04 01:30:36    Nursing              Nursing Progress Note  18469.0   \n",
              "4  2117-04-04 03:15:16  Physician  Physician Resident Admission Note  18767.0   \n",
              "\n",
              "   iserror  ... Gastrointestinal hemorrhage  \\\n",
              "0      NaN  ...                           0   \n",
              "1      NaN  ...                           1   \n",
              "2      NaN  ...                           0   \n",
              "3      NaN  ...                           1   \n",
              "4      NaN  ...                           0   \n",
              "\n",
              "   Hypertension with complications and secondary hypertension  \\\n",
              "0                                                  0            \n",
              "1                                                  0            \n",
              "2                                                  0            \n",
              "3                                                  0            \n",
              "4                                                  0            \n",
              "\n",
              "  Other liver diseases Other lower respiratory disease  \\\n",
              "0                    0                               0   \n",
              "1                    0                               0   \n",
              "2                    0                               0   \n",
              "3                    0                               0   \n",
              "4                    0                               0   \n",
              "\n",
              "  Other upper respiratory disease Pleurisy; pneumothorax; pulmonary collapse  \\\n",
              "0                               0                                          0   \n",
              "1                               0                                          0   \n",
              "2                               0                                          0   \n",
              "3                               0                                          0   \n",
              "4                               0                                          0   \n",
              "\n",
              "  Pneumonia (except that caused by tuberculosis or sexually transmitted disease)  \\\n",
              "0                                                  0                               \n",
              "1                                                  0                               \n",
              "2                                                  0                               \n",
              "3                                                  0                               \n",
              "4                                                  0                               \n",
              "\n",
              "   Respiratory failure; insufficiency; arrest (adult)  \\\n",
              "0                                                  0    \n",
              "1                                                  1    \n",
              "2                                                  0    \n",
              "3                                                  1    \n",
              "4                                                  0    \n",
              "\n",
              "   Septicemia (except in labor)  Shock  \n",
              "0                             0      0  \n",
              "1                             1      1  \n",
              "2                             0      0  \n",
              "3                             1      1  \n",
              "4                             0      0  \n",
              "\n",
              "[5 rows x 74 columns]"
            ],
            "text/html": [
              "\n",
              "  <div id=\"df-9c30e75c-5a44-4d9e-b26d-3334fd4855d0\" class=\"colab-df-container\">\n",
              "    <div>\n",
              "<style scoped>\n",
              "    .dataframe tbody tr th:only-of-type {\n",
              "        vertical-align: middle;\n",
              "    }\n",
              "\n",
              "    .dataframe tbody tr th {\n",
              "        vertical-align: top;\n",
              "    }\n",
              "\n",
              "    .dataframe thead th {\n",
              "        text-align: right;\n",
              "    }\n",
              "</style>\n",
              "<table border=\"1\" class=\"dataframe\">\n",
              "  <thead>\n",
              "    <tr style=\"text-align: right;\">\n",
              "      <th></th>\n",
              "      <th>note_id</th>\n",
              "      <th>subject_id</th>\n",
              "      <th>hadm_id</th>\n",
              "      <th>chartdate</th>\n",
              "      <th>charttime</th>\n",
              "      <th>storetime</th>\n",
              "      <th>category</th>\n",
              "      <th>description</th>\n",
              "      <th>cgid</th>\n",
              "      <th>iserror</th>\n",
              "      <th>...</th>\n",
              "      <th>Gastrointestinal hemorrhage</th>\n",
              "      <th>Hypertension with complications and secondary hypertension</th>\n",
              "      <th>Other liver diseases</th>\n",
              "      <th>Other lower respiratory disease</th>\n",
              "      <th>Other upper respiratory disease</th>\n",
              "      <th>Pleurisy; pneumothorax; pulmonary collapse</th>\n",
              "      <th>Pneumonia (except that caused by tuberculosis or sexually transmitted disease)</th>\n",
              "      <th>Respiratory failure; insufficiency; arrest (adult)</th>\n",
              "      <th>Septicemia (except in labor)</th>\n",
              "      <th>Shock</th>\n",
              "    </tr>\n",
              "  </thead>\n",
              "  <tbody>\n",
              "    <tr>\n",
              "      <th>0</th>\n",
              "      <td>325855</td>\n",
              "      <td>28313</td>\n",
              "      <td>156864.0</td>\n",
              "      <td>2117-04-04</td>\n",
              "      <td>2117-04-04 01:30:00</td>\n",
              "      <td>2117-04-04 05:23:20</td>\n",
              "      <td>Nursing</td>\n",
              "      <td>Nursing Progress Note</td>\n",
              "      <td>18469.0</td>\n",
              "      <td>NaN</td>\n",
              "      <td>...</td>\n",
              "      <td>0</td>\n",
              "      <td>0</td>\n",
              "      <td>0</td>\n",
              "      <td>0</td>\n",
              "      <td>0</td>\n",
              "      <td>0</td>\n",
              "      <td>0</td>\n",
              "      <td>0</td>\n",
              "      <td>0</td>\n",
              "      <td>0</td>\n",
              "    </tr>\n",
              "    <tr>\n",
              "      <th>1</th>\n",
              "      <td>325855</td>\n",
              "      <td>28313</td>\n",
              "      <td>156864.0</td>\n",
              "      <td>2117-04-04</td>\n",
              "      <td>2117-04-04 01:30:00</td>\n",
              "      <td>2117-04-04 05:23:20</td>\n",
              "      <td>Nursing</td>\n",
              "      <td>Nursing Progress Note</td>\n",
              "      <td>18469.0</td>\n",
              "      <td>NaN</td>\n",
              "      <td>...</td>\n",
              "      <td>1</td>\n",
              "      <td>0</td>\n",
              "      <td>0</td>\n",
              "      <td>0</td>\n",
              "      <td>0</td>\n",
              "      <td>0</td>\n",
              "      <td>0</td>\n",
              "      <td>1</td>\n",
              "      <td>1</td>\n",
              "      <td>1</td>\n",
              "    </tr>\n",
              "    <tr>\n",
              "      <th>2</th>\n",
              "      <td>325844</td>\n",
              "      <td>28313</td>\n",
              "      <td>156864.0</td>\n",
              "      <td>2117-04-04</td>\n",
              "      <td>2117-04-04 01:30:00</td>\n",
              "      <td>2117-04-04 01:30:36</td>\n",
              "      <td>Nursing</td>\n",
              "      <td>Nursing Progress Note</td>\n",
              "      <td>18469.0</td>\n",
              "      <td>NaN</td>\n",
              "      <td>...</td>\n",
              "      <td>0</td>\n",
              "      <td>0</td>\n",
              "      <td>0</td>\n",
              "      <td>0</td>\n",
              "      <td>0</td>\n",
              "      <td>0</td>\n",
              "      <td>0</td>\n",
              "      <td>0</td>\n",
              "      <td>0</td>\n",
              "      <td>0</td>\n",
              "    </tr>\n",
              "    <tr>\n",
              "      <th>3</th>\n",
              "      <td>325844</td>\n",
              "      <td>28313</td>\n",
              "      <td>156864.0</td>\n",
              "      <td>2117-04-04</td>\n",
              "      <td>2117-04-04 01:30:00</td>\n",
              "      <td>2117-04-04 01:30:36</td>\n",
              "      <td>Nursing</td>\n",
              "      <td>Nursing Progress Note</td>\n",
              "      <td>18469.0</td>\n",
              "      <td>NaN</td>\n",
              "      <td>...</td>\n",
              "      <td>1</td>\n",
              "      <td>0</td>\n",
              "      <td>0</td>\n",
              "      <td>0</td>\n",
              "      <td>0</td>\n",
              "      <td>0</td>\n",
              "      <td>0</td>\n",
              "      <td>1</td>\n",
              "      <td>1</td>\n",
              "      <td>1</td>\n",
              "    </tr>\n",
              "    <tr>\n",
              "      <th>4</th>\n",
              "      <td>325847</td>\n",
              "      <td>28313</td>\n",
              "      <td>156864.0</td>\n",
              "      <td>2117-04-04</td>\n",
              "      <td>2117-04-04 03:15:00</td>\n",
              "      <td>2117-04-04 03:15:16</td>\n",
              "      <td>Physician</td>\n",
              "      <td>Physician Resident Admission Note</td>\n",
              "      <td>18767.0</td>\n",
              "      <td>NaN</td>\n",
              "      <td>...</td>\n",
              "      <td>0</td>\n",
              "      <td>0</td>\n",
              "      <td>0</td>\n",
              "      <td>0</td>\n",
              "      <td>0</td>\n",
              "      <td>0</td>\n",
              "      <td>0</td>\n",
              "      <td>0</td>\n",
              "      <td>0</td>\n",
              "      <td>0</td>\n",
              "    </tr>\n",
              "  </tbody>\n",
              "</table>\n",
              "<p>5 rows × 74 columns</p>\n",
              "</div>\n",
              "    <div class=\"colab-df-buttons\">\n",
              "\n",
              "  <div class=\"colab-df-container\">\n",
              "    <button class=\"colab-df-convert\" onclick=\"convertToInteractive('df-9c30e75c-5a44-4d9e-b26d-3334fd4855d0')\"\n",
              "            title=\"Convert this dataframe to an interactive table.\"\n",
              "            style=\"display:none;\">\n",
              "\n",
              "  <svg xmlns=\"http://www.w3.org/2000/svg\" height=\"24px\" viewBox=\"0 -960 960 960\">\n",
              "    <path d=\"M120-120v-720h720v720H120Zm60-500h600v-160H180v160Zm220 220h160v-160H400v160Zm0 220h160v-160H400v160ZM180-400h160v-160H180v160Zm440 0h160v-160H620v160ZM180-180h160v-160H180v160Zm440 0h160v-160H620v160Z\"/>\n",
              "  </svg>\n",
              "    </button>\n",
              "\n",
              "  <style>\n",
              "    .colab-df-container {\n",
              "      display:flex;\n",
              "      gap: 12px;\n",
              "    }\n",
              "\n",
              "    .colab-df-convert {\n",
              "      background-color: #E8F0FE;\n",
              "      border: none;\n",
              "      border-radius: 50%;\n",
              "      cursor: pointer;\n",
              "      display: none;\n",
              "      fill: #1967D2;\n",
              "      height: 32px;\n",
              "      padding: 0 0 0 0;\n",
              "      width: 32px;\n",
              "    }\n",
              "\n",
              "    .colab-df-convert:hover {\n",
              "      background-color: #E2EBFA;\n",
              "      box-shadow: 0px 1px 2px rgba(60, 64, 67, 0.3), 0px 1px 3px 1px rgba(60, 64, 67, 0.15);\n",
              "      fill: #174EA6;\n",
              "    }\n",
              "\n",
              "    .colab-df-buttons div {\n",
              "      margin-bottom: 4px;\n",
              "    }\n",
              "\n",
              "    [theme=dark] .colab-df-convert {\n",
              "      background-color: #3B4455;\n",
              "      fill: #D2E3FC;\n",
              "    }\n",
              "\n",
              "    [theme=dark] .colab-df-convert:hover {\n",
              "      background-color: #434B5C;\n",
              "      box-shadow: 0px 1px 3px 1px rgba(0, 0, 0, 0.15);\n",
              "      filter: drop-shadow(0px 1px 2px rgba(0, 0, 0, 0.3));\n",
              "      fill: #FFFFFF;\n",
              "    }\n",
              "  </style>\n",
              "\n",
              "    <script>\n",
              "      const buttonEl =\n",
              "        document.querySelector('#df-9c30e75c-5a44-4d9e-b26d-3334fd4855d0 button.colab-df-convert');\n",
              "      buttonEl.style.display =\n",
              "        google.colab.kernel.accessAllowed ? 'block' : 'none';\n",
              "\n",
              "      async function convertToInteractive(key) {\n",
              "        const element = document.querySelector('#df-9c30e75c-5a44-4d9e-b26d-3334fd4855d0');\n",
              "        const dataTable =\n",
              "          await google.colab.kernel.invokeFunction('convertToInteractive',\n",
              "                                                    [key], {});\n",
              "        if (!dataTable) return;\n",
              "\n",
              "        const docLinkHtml = 'Like what you see? Visit the ' +\n",
              "          '<a target=\"_blank\" href=https://colab.research.google.com/notebooks/data_table.ipynb>data table notebook</a>'\n",
              "          + ' to learn more about interactive tables.';\n",
              "        element.innerHTML = '';\n",
              "        dataTable['output_type'] = 'display_data';\n",
              "        await google.colab.output.renderOutput(dataTable, element);\n",
              "        const docLink = document.createElement('div');\n",
              "        docLink.innerHTML = docLinkHtml;\n",
              "        element.appendChild(docLink);\n",
              "      }\n",
              "    </script>\n",
              "  </div>\n",
              "\n",
              "\n",
              "<div id=\"df-21093944-1523-43ff-8e32-b8ba05ef5796\">\n",
              "  <button class=\"colab-df-quickchart\" onclick=\"quickchart('df-21093944-1523-43ff-8e32-b8ba05ef5796')\"\n",
              "            title=\"Suggest charts\"\n",
              "            style=\"display:none;\">\n",
              "\n",
              "<svg xmlns=\"http://www.w3.org/2000/svg\" height=\"24px\"viewBox=\"0 0 24 24\"\n",
              "     width=\"24px\">\n",
              "    <g>\n",
              "        <path d=\"M19 3H5c-1.1 0-2 .9-2 2v14c0 1.1.9 2 2 2h14c1.1 0 2-.9 2-2V5c0-1.1-.9-2-2-2zM9 17H7v-7h2v7zm4 0h-2V7h2v10zm4 0h-2v-4h2v4z\"/>\n",
              "    </g>\n",
              "</svg>\n",
              "  </button>\n",
              "\n",
              "<style>\n",
              "  .colab-df-quickchart {\n",
              "      --bg-color: #E8F0FE;\n",
              "      --fill-color: #1967D2;\n",
              "      --hover-bg-color: #E2EBFA;\n",
              "      --hover-fill-color: #174EA6;\n",
              "      --disabled-fill-color: #AAA;\n",
              "      --disabled-bg-color: #DDD;\n",
              "  }\n",
              "\n",
              "  [theme=dark] .colab-df-quickchart {\n",
              "      --bg-color: #3B4455;\n",
              "      --fill-color: #D2E3FC;\n",
              "      --hover-bg-color: #434B5C;\n",
              "      --hover-fill-color: #FFFFFF;\n",
              "      --disabled-bg-color: #3B4455;\n",
              "      --disabled-fill-color: #666;\n",
              "  }\n",
              "\n",
              "  .colab-df-quickchart {\n",
              "    background-color: var(--bg-color);\n",
              "    border: none;\n",
              "    border-radius: 50%;\n",
              "    cursor: pointer;\n",
              "    display: none;\n",
              "    fill: var(--fill-color);\n",
              "    height: 32px;\n",
              "    padding: 0;\n",
              "    width: 32px;\n",
              "  }\n",
              "\n",
              "  .colab-df-quickchart:hover {\n",
              "    background-color: var(--hover-bg-color);\n",
              "    box-shadow: 0 1px 2px rgba(60, 64, 67, 0.3), 0 1px 3px 1px rgba(60, 64, 67, 0.15);\n",
              "    fill: var(--button-hover-fill-color);\n",
              "  }\n",
              "\n",
              "  .colab-df-quickchart-complete:disabled,\n",
              "  .colab-df-quickchart-complete:disabled:hover {\n",
              "    background-color: var(--disabled-bg-color);\n",
              "    fill: var(--disabled-fill-color);\n",
              "    box-shadow: none;\n",
              "  }\n",
              "\n",
              "  .colab-df-spinner {\n",
              "    border: 2px solid var(--fill-color);\n",
              "    border-color: transparent;\n",
              "    border-bottom-color: var(--fill-color);\n",
              "    animation:\n",
              "      spin 1s steps(1) infinite;\n",
              "  }\n",
              "\n",
              "  @keyframes spin {\n",
              "    0% {\n",
              "      border-color: transparent;\n",
              "      border-bottom-color: var(--fill-color);\n",
              "      border-left-color: var(--fill-color);\n",
              "    }\n",
              "    20% {\n",
              "      border-color: transparent;\n",
              "      border-left-color: var(--fill-color);\n",
              "      border-top-color: var(--fill-color);\n",
              "    }\n",
              "    30% {\n",
              "      border-color: transparent;\n",
              "      border-left-color: var(--fill-color);\n",
              "      border-top-color: var(--fill-color);\n",
              "      border-right-color: var(--fill-color);\n",
              "    }\n",
              "    40% {\n",
              "      border-color: transparent;\n",
              "      border-right-color: var(--fill-color);\n",
              "      border-top-color: var(--fill-color);\n",
              "    }\n",
              "    60% {\n",
              "      border-color: transparent;\n",
              "      border-right-color: var(--fill-color);\n",
              "    }\n",
              "    80% {\n",
              "      border-color: transparent;\n",
              "      border-right-color: var(--fill-color);\n",
              "      border-bottom-color: var(--fill-color);\n",
              "    }\n",
              "    90% {\n",
              "      border-color: transparent;\n",
              "      border-bottom-color: var(--fill-color);\n",
              "    }\n",
              "  }\n",
              "</style>\n",
              "\n",
              "  <script>\n",
              "    async function quickchart(key) {\n",
              "      const quickchartButtonEl =\n",
              "        document.querySelector('#' + key + ' button');\n",
              "      quickchartButtonEl.disabled = true;  // To prevent multiple clicks.\n",
              "      quickchartButtonEl.classList.add('colab-df-spinner');\n",
              "      try {\n",
              "        const charts = await google.colab.kernel.invokeFunction(\n",
              "            'suggestCharts', [key], {});\n",
              "      } catch (error) {\n",
              "        console.error('Error during call to suggestCharts:', error);\n",
              "      }\n",
              "      quickchartButtonEl.classList.remove('colab-df-spinner');\n",
              "      quickchartButtonEl.classList.add('colab-df-quickchart-complete');\n",
              "    }\n",
              "    (() => {\n",
              "      let quickchartButtonEl =\n",
              "        document.querySelector('#df-21093944-1523-43ff-8e32-b8ba05ef5796 button');\n",
              "      quickchartButtonEl.style.display =\n",
              "        google.colab.kernel.accessAllowed ? 'block' : 'none';\n",
              "    })();\n",
              "  </script>\n",
              "</div>\n",
              "\n",
              "    </div>\n",
              "  </div>\n"
            ],
            "application/vnd.google.colaboratory.intrinsic+json": {
              "type": "dataframe",
              "variable_name": "merged_df_test"
            }
          },
          "metadata": {},
          "execution_count": 20
        }
      ],
      "source": [
        "merged_df_test = pd.merge(df_demog, df_mimic_test, on='subject_id', how='inner')\n",
        "merged_df_test.head()"
      ]
    },
    {
      "cell_type": "code",
      "execution_count": null,
      "metadata": {
        "colab": {
          "base_uri": "https://localhost:8080/"
        },
        "id": "plkSP7iuQCub",
        "outputId": "fe7a2d6f-2442-433b-c2fa-4e4c483fd8ff"
      },
      "outputs": [
        {
          "output_type": "stream",
          "name": "stdout",
          "text": [
            "945\n",
            "4490\n"
          ]
        }
      ],
      "source": [
        "print(len(merged_df_test))\n",
        "print(len(merged_df))"
      ]
    },
    {
      "cell_type": "markdown",
      "metadata": {
        "id": "ocfQp-5792CP"
      },
      "source": [
        "# Preparation for Tokenization"
      ]
    },
    {
      "cell_type": "code",
      "execution_count": null,
      "metadata": {
        "colab": {
          "base_uri": "https://localhost:8080/"
        },
        "id": "WC-cvf-jqpq0",
        "outputId": "12f5cd39-b824-4319-946d-422507392f12"
      },
      "outputs": [
        {
          "output_type": "stream",
          "name": "stdout",
          "text": [
            "Requirement already satisfied: nltk in /usr/local/lib/python3.11/dist-packages (3.9.1)\n",
            "Requirement already satisfied: click in /usr/local/lib/python3.11/dist-packages (from nltk) (8.1.8)\n",
            "Requirement already satisfied: joblib in /usr/local/lib/python3.11/dist-packages (from nltk) (1.4.2)\n",
            "Requirement already satisfied: regex>=2021.8.3 in /usr/local/lib/python3.11/dist-packages (from nltk) (2024.11.6)\n",
            "Requirement already satisfied: tqdm in /usr/local/lib/python3.11/dist-packages (from nltk) (4.67.1)\n"
          ]
        }
      ],
      "source": [
        "!pip install nltk"
      ]
    },
    {
      "cell_type": "code",
      "execution_count": null,
      "metadata": {
        "colab": {
          "base_uri": "https://localhost:8080/"
        },
        "id": "vs2wmjbRrWPC",
        "outputId": "96cc5a25-b938-42ff-d177-a3b816b8f00c"
      },
      "outputs": [
        {
          "output_type": "stream",
          "name": "stderr",
          "text": [
            "[nltk_data] Downloading package punkt to /root/nltk_data...\n",
            "[nltk_data]   Unzipping tokenizers/punkt.zip.\n",
            "[nltk_data] Downloading package punkt_tab to /root/nltk_data...\n",
            "[nltk_data]   Unzipping tokenizers/punkt_tab.zip.\n"
          ]
        },
        {
          "output_type": "execute_result",
          "data": {
            "text/plain": [
              "True"
            ]
          },
          "metadata": {},
          "execution_count": 23
        }
      ],
      "source": [
        "import nltk\n",
        "nltk.data.path.append('/root/nltk_data')\n",
        "nltk.download('punkt')\n",
        "nltk.download('punkt_tab')"
      ]
    },
    {
      "cell_type": "code",
      "execution_count": null,
      "metadata": {
        "id": "PvQ8fJakrt-t"
      },
      "outputs": [],
      "source": [
        "nltk.data.path.append('/root/nltk_data')"
      ]
    },
    {
      "cell_type": "code",
      "execution_count": null,
      "metadata": {
        "colab": {
          "base_uri": "https://localhost:8080/"
        },
        "id": "nMr3bQAGtMKd",
        "outputId": "45ea3c31-d4b5-419f-d5c6-744c485b8c6e"
      },
      "outputs": [
        {
          "output_type": "stream",
          "name": "stdout",
          "text": [
            "['punkt_tab', 'punkt_tab.zip', 'punkt', 'punkt.zip']\n"
          ]
        }
      ],
      "source": [
        "import os\n",
        "print(os.listdir('/root/nltk_data/tokenizers'))"
      ]
    },
    {
      "cell_type": "markdown",
      "source": [
        "# Just creating copies of train and test dataframes as merged_df_copy and meregd_df_test_copy with which we'll work henceforth"
      ],
      "metadata": {
        "id": "tJTeX2Ed4Y4-"
      }
    },
    {
      "cell_type": "code",
      "execution_count": null,
      "metadata": {
        "id": "pcpsktP8_-Sz"
      },
      "outputs": [],
      "source": [
        "merged_df_copy=merged_df"
      ]
    },
    {
      "cell_type": "code",
      "execution_count": null,
      "metadata": {
        "id": "fC0OXVnfQYgN"
      },
      "outputs": [],
      "source": [
        "merged_df_test_copy=merged_df_test"
      ]
    },
    {
      "cell_type": "code",
      "execution_count": null,
      "metadata": {
        "colab": {
          "base_uri": "https://localhost:8080/"
        },
        "id": "6e70jW_yI6Zb",
        "outputId": "01a3c840-f27e-4a12-d1e7-a437b95cb18e"
      },
      "outputs": [
        {
          "output_type": "stream",
          "name": "stdout",
          "text": [
            "4490\n"
          ]
        }
      ],
      "source": [
        "print(len(merged_df))"
      ]
    },
    {
      "cell_type": "code",
      "execution_count": null,
      "metadata": {
        "colab": {
          "base_uri": "https://localhost:8080/"
        },
        "id": "P3ztrkw3QbxD",
        "outputId": "6754556d-d359-4e29-8b66-043bb1d6b3b2"
      },
      "outputs": [
        {
          "output_type": "stream",
          "name": "stdout",
          "text": [
            "945\n"
          ]
        }
      ],
      "source": [
        "print(len(merged_df_test))"
      ]
    },
    {
      "cell_type": "code",
      "execution_count": null,
      "metadata": {
        "colab": {
          "base_uri": "https://localhost:8080/"
        },
        "id": "KsgZWDdDhMeO",
        "outputId": "826e4d2d-e89e-4e63-d166-c23c28d3dcf3"
      },
      "outputs": [
        {
          "output_type": "execute_result",
          "data": {
            "text/plain": [
              "Index(['note_id', 'subject_id', 'hadm_id', 'chartdate', 'charttime',\n",
              "       'storetime', 'category', 'description', 'cgid', 'iserror', 'text',\n",
              "       'row_id_x', 'gender', 'dob', 'dod', 'dod_hosp', 'dod_ssn',\n",
              "       'expire_flag', 'fold', 'row_id_y', 'admittime', 'dischtime',\n",
              "       'deathtime', 'admission_type', 'admission_location',\n",
              "       'discharge_location', 'insurance', 'language', 'religion',\n",
              "       'marital_status', 'ethnicity', 'edregtime', 'edouttime', 'diagnosis',\n",
              "       'hospital_expire_flag', 'has_chartevents_data', 'dod_merged',\n",
              "       'ethnicity_to_use', 'age', 'icd9_code', 'language_to_use', 'icustay_id',\n",
              "       'intime', 'hours_from_icu_admit', 'concat_notes', 'cleaned_sent',\n",
              "       'bert_input', 'stay', 'period_length',\n",
              "       'Acute and unspecified renal failure', 'Acute cerebrovascular disease',\n",
              "       'Acute myocardial infarction', 'Cardiac dysrhythmias',\n",
              "       'Chronic kidney disease',\n",
              "       'Chronic obstructive pulmonary disease and bronchiectasis',\n",
              "       'Complications of surgical procedures or medical care',\n",
              "       'Conduction disorders', 'Congestive heart failure; nonhypertensive',\n",
              "       'Coronary atherosclerosis and other heart disease',\n",
              "       'Diabetes mellitus with complications',\n",
              "       'Diabetes mellitus without complication',\n",
              "       'Disorders of lipid metabolism', 'Essential hypertension',\n",
              "       'Fluid and electrolyte disorders', 'Gastrointestinal hemorrhage',\n",
              "       'Hypertension with complications and secondary hypertension',\n",
              "       'Other liver diseases', 'Other lower respiratory disease',\n",
              "       'Other upper respiratory disease',\n",
              "       'Pleurisy; pneumothorax; pulmonary collapse',\n",
              "       'Pneumonia (except that caused by tuberculosis or sexually transmitted disease)',\n",
              "       'Respiratory failure; insufficiency; arrest (adult)',\n",
              "       'Septicemia (except in labor)', 'Shock'],\n",
              "      dtype='object')"
            ]
          },
          "metadata": {},
          "execution_count": 30
        }
      ],
      "source": [
        "merged_df_copy.columns"
      ]
    },
    {
      "cell_type": "markdown",
      "metadata": {
        "id": "tDvEEiTEkavD"
      },
      "source": [
        "# Tokenization of our dataset (We will be evaluating our train dataet due to more samples than our test dataset, and the purpose is to be able to evaluate the dataset, not train the model in this script)."
      ]
    },
    {
      "cell_type": "code",
      "execution_count": null,
      "metadata": {
        "colab": {
          "base_uri": "https://localhost:8080/"
        },
        "id": "C7GAxp3uv4zO",
        "outputId": "d2dd6ea3-9827-4397-a2c2-79a68355539d"
      },
      "outputs": [
        {
          "output_type": "stream",
          "name": "stderr",
          "text": [
            "100%|██████████| 4490/4490 [08:08<00:00,  9.19it/s]\n"
          ]
        }
      ],
      "source": [
        "from transformers import BertTokenizer\n",
        "from tqdm import tqdm\n",
        "import torch\n",
        "\n",
        "# Setup\n",
        "tqdm.pandas()\n",
        "tokenizer = BertTokenizer.from_pretrained(baseline_model_path)\n",
        "\n",
        "# Sliding Window Tokenization Function\n",
        "def sliding_window_tokenize(text, tokenizer, max_len=512, stride=64):\n",
        "    encoded = tokenizer(\n",
        "        text,\n",
        "        truncation=True,\n",
        "        padding='max_length',\n",
        "        max_length=max_len,\n",
        "        stride=stride,\n",
        "        return_overflowing_tokens=True,\n",
        "        return_tensors='pt'\n",
        "    )\n",
        "    return {\n",
        "        \"input_ids\": encoded[\"input_ids\"],              # Shape: [num_chunks, max_len]\n",
        "        \"attention_mask\": encoded[\"attention_mask\"]\n",
        "    }\n",
        "\n",
        "# Apply per note (from cleaned sentences)\n",
        "def process_note_with_sliding_window(row, tokenizer, max_len=512, stride=64):\n",
        "    note = \" \".join(row['cleaned_sent'])  # Join all cleaned sentences into one string\n",
        "    return sliding_window_tokenize(note, tokenizer, max_len=max_len, stride=stride)\n",
        "\n",
        "# Apply to the DataFrame\n",
        "merged_df_copy['tokenized_notes'] = merged_df_copy.progress_apply(\n",
        "    lambda row: process_note_with_sliding_window(row, tokenizer, max_len=512, stride=64),\n",
        "    axis=1\n",
        ")\n"
      ]
    },
    {
      "cell_type": "code",
      "execution_count": null,
      "metadata": {
        "colab": {
          "base_uri": "https://localhost:8080/"
        },
        "id": "7MAyS4K6wTpd",
        "outputId": "24a357cc-2f1f-47df-85f3-c0213a9d8282"
      },
      "outputs": [
        {
          "output_type": "execute_result",
          "data": {
            "text/plain": [
              "Index(['note_id', 'subject_id', 'hadm_id', 'chartdate', 'charttime',\n",
              "       'storetime', 'category', 'description', 'cgid', 'iserror', 'text',\n",
              "       'row_id_x', 'gender', 'dob', 'dod', 'dod_hosp', 'dod_ssn',\n",
              "       'expire_flag', 'fold', 'row_id_y', 'admittime', 'dischtime',\n",
              "       'deathtime', 'admission_type', 'admission_location',\n",
              "       'discharge_location', 'insurance', 'language', 'religion',\n",
              "       'marital_status', 'ethnicity', 'edregtime', 'edouttime', 'diagnosis',\n",
              "       'hospital_expire_flag', 'has_chartevents_data', 'dod_merged',\n",
              "       'ethnicity_to_use', 'age', 'icd9_code', 'language_to_use', 'icustay_id',\n",
              "       'intime', 'hours_from_icu_admit', 'concat_notes', 'cleaned_sent',\n",
              "       'bert_input', 'stay', 'period_length',\n",
              "       'Acute and unspecified renal failure', 'Acute cerebrovascular disease',\n",
              "       'Acute myocardial infarction', 'Cardiac dysrhythmias',\n",
              "       'Chronic kidney disease',\n",
              "       'Chronic obstructive pulmonary disease and bronchiectasis',\n",
              "       'Complications of surgical procedures or medical care',\n",
              "       'Conduction disorders', 'Congestive heart failure; nonhypertensive',\n",
              "       'Coronary atherosclerosis and other heart disease',\n",
              "       'Diabetes mellitus with complications',\n",
              "       'Diabetes mellitus without complication',\n",
              "       'Disorders of lipid metabolism', 'Essential hypertension',\n",
              "       'Fluid and electrolyte disorders', 'Gastrointestinal hemorrhage',\n",
              "       'Hypertension with complications and secondary hypertension',\n",
              "       'Other liver diseases', 'Other lower respiratory disease',\n",
              "       'Other upper respiratory disease',\n",
              "       'Pleurisy; pneumothorax; pulmonary collapse',\n",
              "       'Pneumonia (except that caused by tuberculosis or sexually transmitted disease)',\n",
              "       'Respiratory failure; insufficiency; arrest (adult)',\n",
              "       'Septicemia (except in labor)', 'Shock', 'tokenized_notes'],\n",
              "      dtype='object')"
            ]
          },
          "metadata": {},
          "execution_count": 33
        }
      ],
      "source": [
        "merged_df_copy.columns"
      ]
    },
    {
      "cell_type": "markdown",
      "metadata": {
        "id": "VXr3ype7MM7Y"
      },
      "source": [
        "# Creating one list column called labels having all the 25 labels as the list elements."
      ]
    },
    {
      "cell_type": "code",
      "execution_count": null,
      "metadata": {
        "id": "P_qNOU82cj0y"
      },
      "outputs": [],
      "source": [
        "label_col = ['Acute and unspecified renal failure',\n",
        "       'Acute cerebrovascular disease', 'Acute myocardial infarction',\n",
        "       'Cardiac dysrhythmias', 'Chronic kidney disease',\n",
        "       'Chronic obstructive pulmonary disease and bronchiectasis',\n",
        "       'Complications of surgical procedures or medical care',\n",
        "       'Conduction disorders', 'Congestive heart failure; nonhypertensive',\n",
        "       'Coronary atherosclerosis and other heart disease',\n",
        "       'Diabetes mellitus with complications',\n",
        "       'Diabetes mellitus without complication',\n",
        "       'Disorders of lipid metabolism', 'Essential hypertension',\n",
        "       'Fluid and electrolyte disorders', 'Gastrointestinal hemorrhage',\n",
        "       'Hypertension with complications and secondary hypertension',\n",
        "       'Other liver diseases', 'Other lower respiratory disease',\n",
        "       'Other upper respiratory disease',\n",
        "       'Pleurisy; pneumothorax; pulmonary collapse',\n",
        "       'Pneumonia (except that caused by tuberculosis or sexually transmitted disease)',\n",
        "       'Respiratory failure; insufficiency; arrest (adult)',\n",
        "       'Septicemia (except in labor)', 'Shock']"
      ]
    },
    {
      "cell_type": "code",
      "execution_count": null,
      "metadata": {
        "id": "R_kIikUkCpzV"
      },
      "outputs": [],
      "source": [
        "merged_df_copy['labels'] = merged_df_copy[label_col].values.tolist()"
      ]
    },
    {
      "cell_type": "code",
      "execution_count": null,
      "metadata": {
        "colab": {
          "base_uri": "https://localhost:8080/"
        },
        "id": "6HFmMWHaCp1n",
        "outputId": "eceffedf-a117-42bf-dffa-3bf7e1064e47"
      },
      "outputs": [
        {
          "output_type": "execute_result",
          "data": {
            "text/plain": [
              "Index(['note_id', 'subject_id', 'hadm_id', 'chartdate', 'charttime',\n",
              "       'storetime', 'category', 'description', 'cgid', 'iserror', 'text',\n",
              "       'row_id_x', 'gender', 'dob', 'dod', 'dod_hosp', 'dod_ssn',\n",
              "       'expire_flag', 'fold', 'row_id_y', 'admittime', 'dischtime',\n",
              "       'deathtime', 'admission_type', 'admission_location',\n",
              "       'discharge_location', 'insurance', 'language', 'religion',\n",
              "       'marital_status', 'ethnicity', 'edregtime', 'edouttime', 'diagnosis',\n",
              "       'hospital_expire_flag', 'has_chartevents_data', 'dod_merged',\n",
              "       'ethnicity_to_use', 'age', 'icd9_code', 'language_to_use', 'icustay_id',\n",
              "       'intime', 'hours_from_icu_admit', 'concat_notes', 'cleaned_sent',\n",
              "       'bert_input', 'stay', 'period_length',\n",
              "       'Acute and unspecified renal failure', 'Acute cerebrovascular disease',\n",
              "       'Acute myocardial infarction', 'Cardiac dysrhythmias',\n",
              "       'Chronic kidney disease',\n",
              "       'Chronic obstructive pulmonary disease and bronchiectasis',\n",
              "       'Complications of surgical procedures or medical care',\n",
              "       'Conduction disorders', 'Congestive heart failure; nonhypertensive',\n",
              "       'Coronary atherosclerosis and other heart disease',\n",
              "       'Diabetes mellitus with complications',\n",
              "       'Diabetes mellitus without complication',\n",
              "       'Disorders of lipid metabolism', 'Essential hypertension',\n",
              "       'Fluid and electrolyte disorders', 'Gastrointestinal hemorrhage',\n",
              "       'Hypertension with complications and secondary hypertension',\n",
              "       'Other liver diseases', 'Other lower respiratory disease',\n",
              "       'Other upper respiratory disease',\n",
              "       'Pleurisy; pneumothorax; pulmonary collapse',\n",
              "       'Pneumonia (except that caused by tuberculosis or sexually transmitted disease)',\n",
              "       'Respiratory failure; insufficiency; arrest (adult)',\n",
              "       'Septicemia (except in labor)', 'Shock', 'tokenized_notes', 'labels'],\n",
              "      dtype='object')"
            ]
          },
          "metadata": {},
          "execution_count": 36
        }
      ],
      "source": [
        "merged_df_copy.columns"
      ]
    },
    {
      "cell_type": "code",
      "execution_count": null,
      "metadata": {
        "colab": {
          "base_uri": "https://localhost:8080/"
        },
        "id": "STus-UEAf7mW",
        "outputId": "9f041ba8-c773-4cf1-91dc-31332ff572e5"
      },
      "outputs": [
        {
          "output_type": "execute_result",
          "data": {
            "text/plain": [
              "[1, 0, 1, 0, 1, 1, 0, 0, 1, 0, 0, 0, 0, 0, 1, 1, 1, 0, 0, 0, 0, 1, 0, 0, 0]"
            ]
          },
          "metadata": {},
          "execution_count": 37
        }
      ],
      "source": [
        "merged_df_copy['labels'][1]"
      ]
    },
    {
      "cell_type": "markdown",
      "metadata": {
        "id": "NTZhSiOfNTeY"
      },
      "source": [
        "# Preparing and evaluating the dataset with the Pretrained Clinical BERT Model"
      ]
    },
    {
      "cell_type": "code",
      "execution_count": null,
      "metadata": {
        "id": "0aldW6XRBRHV"
      },
      "outputs": [],
      "source": [
        "from torch.utils.data import Dataset\n",
        "import torch\n",
        "\n",
        "class ClinicalNotesDataset(Dataset):\n",
        "    def __init__(self, df, max_len=512):\n",
        "        self.samples = []\n",
        "\n",
        "        for _, row in df.iterrows():\n",
        "            # Get tokenized notes and labels\n",
        "            tokenized = row['tokenized_notes']\n",
        "            label = torch.tensor(row['labels'], dtype=torch.float)  # Assuming it's a multi-label tensor\n",
        "\n",
        "            # Extract chunks for each tokenized note\n",
        "            input_ids_chunks = tokenized['input_ids']  # Shape: [num_chunks, max_len]\n",
        "            attention_mask_chunks = tokenized['attention_mask']\n",
        "\n",
        "            # Create a sample for each chunk of the note\n",
        "            for input_ids, attention_mask in zip(input_ids_chunks, attention_mask_chunks):\n",
        "                # Repeat the label for every chunk (because label applies to the entire note)\n",
        "                self.samples.append({\n",
        "                    'input_ids': input_ids,\n",
        "                    'attention_mask': attention_mask,\n",
        "                    'labels': label\n",
        "                })\n",
        "\n",
        "    def __len__(self):\n",
        "        return len(self.samples)\n",
        "\n",
        "    def __getitem__(self, idx):\n",
        "        return {\n",
        "            'input_ids': self.samples[idx]['input_ids'],\n",
        "            'attention_mask': self.samples[idx]['attention_mask'],\n",
        "            'labels': self.samples[idx]['labels']\n",
        "        }\n"
      ]
    },
    {
      "cell_type": "code",
      "execution_count": null,
      "metadata": {
        "colab": {
          "base_uri": "https://localhost:8080/"
        },
        "id": "AYe0-VWH5_dY",
        "outputId": "4858c963-f75e-47db-eb8c-1abba982dbb7"
      },
      "outputs": [
        {
          "output_type": "stream",
          "name": "stdout",
          "text": [
            "torch.Size([512])\n",
            "torch.Size([512])\n",
            "torch.Size([25])\n"
          ]
        }
      ],
      "source": [
        "dataset = ClinicalNotesDataset(merged_df_copy)\n",
        "sample = dataset[0]\n",
        "\n",
        "print(sample['input_ids'].shape)       # torch.Size([512])\n",
        "print(sample['attention_mask'].shape)  # torch.Size([512])\n",
        "print(sample['labels'].shape)          # torch.Size([25])"
      ]
    },
    {
      "cell_type": "code",
      "execution_count": null,
      "metadata": {
        "id": "fHODS3UvNvBY"
      },
      "outputs": [],
      "source": [
        "train_dataset_phase2 = ClinicalNotesDataset(merged_df_copy, max_len=512)"
      ]
    },
    {
      "cell_type": "code",
      "execution_count": null,
      "metadata": {
        "colab": {
          "base_uri": "https://localhost:8080/",
          "height": 384
        },
        "id": "Wzy6H0nQC1Dg",
        "outputId": "e3df0d3e-c990-456e-e6d2-b2676099c47d"
      },
      "outputs": [
        {
          "output_type": "stream",
          "name": "stderr",
          "text": [
            "Some weights of BertForSequenceClassification were not initialized from the model checkpoint at /content/drive/MyDrive/Payel-DLH-related/HurtfulWords/pretrainedModels/Baseline_Clinical_BERT/baseline_clinical_BERT_1_epoch_512 and are newly initialized: ['classifier.bias', 'classifier.weight']\n",
            "You should probably TRAIN this model on a down-stream task to be able to use it for predictions and inference.\n"
          ]
        },
        {
          "output_type": "display_data",
          "data": {
            "text/plain": [
              "<IPython.core.display.HTML object>"
            ],
            "text/html": []
          },
          "metadata": {}
        },
        {
          "output_type": "stream",
          "name": "stderr",
          "text": [
            "\u001b[34m\u001b[1mwandb\u001b[0m: \u001b[33mWARNING\u001b[0m The `run_name` is currently set to the same value as `TrainingArguments.output_dir`. If this was not intended, please specify a different run name by setting the `TrainingArguments.run_name` parameter.\n",
            "\u001b[34m\u001b[1mwandb\u001b[0m: Using wandb-core as the SDK backend.  Please refer to https://wandb.me/wandb-core for more information.\n"
          ]
        },
        {
          "output_type": "display_data",
          "data": {
            "text/plain": [
              "<IPython.core.display.Javascript object>"
            ],
            "application/javascript": [
              "\n",
              "        window._wandbApiKey = new Promise((resolve, reject) => {\n",
              "            function loadScript(url) {\n",
              "            return new Promise(function(resolve, reject) {\n",
              "                let newScript = document.createElement(\"script\");\n",
              "                newScript.onerror = reject;\n",
              "                newScript.onload = resolve;\n",
              "                document.body.appendChild(newScript);\n",
              "                newScript.src = url;\n",
              "            });\n",
              "            }\n",
              "            loadScript(\"https://cdn.jsdelivr.net/npm/postmate/build/postmate.min.js\").then(() => {\n",
              "            const iframe = document.createElement('iframe')\n",
              "            iframe.style.cssText = \"width:0;height:0;border:none\"\n",
              "            document.body.appendChild(iframe)\n",
              "            const handshake = new Postmate({\n",
              "                container: iframe,\n",
              "                url: 'https://wandb.ai/authorize'\n",
              "            });\n",
              "            const timeout = setTimeout(() => reject(\"Couldn't auto authenticate\"), 5000)\n",
              "            handshake.then(function(child) {\n",
              "                child.on('authorize', data => {\n",
              "                    clearTimeout(timeout)\n",
              "                    resolve(data)\n",
              "                });\n",
              "            });\n",
              "            })\n",
              "        });\n",
              "    "
            ]
          },
          "metadata": {}
        },
        {
          "output_type": "stream",
          "name": "stderr",
          "text": [
            "\u001b[34m\u001b[1mwandb\u001b[0m: Logging into wandb.ai. (Learn how to deploy a W&B server locally: https://wandb.me/wandb-server)\n",
            "\u001b[34m\u001b[1mwandb\u001b[0m: You can find your API key in your browser here: https://wandb.ai/authorize\n",
            "wandb: Paste an API key from your profile and hit enter:"
          ]
        },
        {
          "name": "stdout",
          "output_type": "stream",
          "text": [
            " ··········\n"
          ]
        },
        {
          "output_type": "stream",
          "name": "stderr",
          "text": [
            "\u001b[34m\u001b[1mwandb\u001b[0m: \u001b[33mWARNING\u001b[0m If you're specifying your api key in code, ensure this code is not shared publicly.\n",
            "\u001b[34m\u001b[1mwandb\u001b[0m: \u001b[33mWARNING\u001b[0m Consider setting the WANDB_API_KEY environment variable, or running `wandb login` from the command line.\n",
            "\u001b[34m\u001b[1mwandb\u001b[0m: No netrc file found, creating one.\n",
            "\u001b[34m\u001b[1mwandb\u001b[0m: Appending key for api.wandb.ai to your netrc file: /root/.netrc\n",
            "\u001b[34m\u001b[1mwandb\u001b[0m: Currently logged in as: \u001b[33mcpayel25\u001b[0m (\u001b[33mcpayel25-university-of-illinois-urbana-champaign\u001b[0m) to \u001b[32mhttps://api.wandb.ai\u001b[0m. Use \u001b[1m`wandb login --relogin`\u001b[0m to force relogin\n"
          ]
        },
        {
          "output_type": "display_data",
          "data": {
            "text/plain": [
              "<IPython.core.display.HTML object>"
            ],
            "text/html": [
              "Tracking run with wandb version 0.19.9"
            ]
          },
          "metadata": {}
        },
        {
          "output_type": "display_data",
          "data": {
            "text/plain": [
              "<IPython.core.display.HTML object>"
            ],
            "text/html": [
              "Run data is saved locally in <code>/content/wandb/run-20250420_043734-anp31tpr</code>"
            ]
          },
          "metadata": {}
        },
        {
          "output_type": "display_data",
          "data": {
            "text/plain": [
              "<IPython.core.display.HTML object>"
            ],
            "text/html": [
              "Syncing run <strong><a href='https://wandb.ai/cpayel25-university-of-illinois-urbana-champaign/huggingface/runs/anp31tpr' target=\"_blank\">./eval_results</a></strong> to <a href='https://wandb.ai/cpayel25-university-of-illinois-urbana-champaign/huggingface' target=\"_blank\">Weights & Biases</a> (<a href='https://wandb.me/developer-guide' target=\"_blank\">docs</a>)<br>"
            ]
          },
          "metadata": {}
        },
        {
          "output_type": "display_data",
          "data": {
            "text/plain": [
              "<IPython.core.display.HTML object>"
            ],
            "text/html": [
              " View project at <a href='https://wandb.ai/cpayel25-university-of-illinois-urbana-champaign/huggingface' target=\"_blank\">https://wandb.ai/cpayel25-university-of-illinois-urbana-champaign/huggingface</a>"
            ]
          },
          "metadata": {}
        },
        {
          "output_type": "display_data",
          "data": {
            "text/plain": [
              "<IPython.core.display.HTML object>"
            ],
            "text/html": [
              " View run at <a href='https://wandb.ai/cpayel25-university-of-illinois-urbana-champaign/huggingface/runs/anp31tpr' target=\"_blank\">https://wandb.ai/cpayel25-university-of-illinois-urbana-champaign/huggingface/runs/anp31tpr</a>"
            ]
          },
          "metadata": {}
        },
        {
          "output_type": "stream",
          "name": "stdout",
          "text": [
            "Evaluation Results: {'eval_loss': 0.7342121601104736, 'eval_model_preparation_time': 0.0029, 'eval_recall': 0.06156236129604971, 'eval_precision': 0.10101230791639357, 'eval_f1': 0.07650092385758804, 'eval_accuracy': 0.0, 'eval_runtime': 131.5058, 'eval_samples_per_second': 34.143, 'eval_steps_per_second': 2.137}\n",
            "Average Specificity: 0.88\n"
          ]
        }
      ],
      "source": [
        "from transformers import BertForSequenceClassification, Trainer, TrainingArguments\n",
        "from sklearn.metrics import recall_score, confusion_matrix, precision_score, f1_score, accuracy_score\n",
        "import numpy as np\n",
        "\n",
        "# Load the pretrained Phase 1 model\n",
        "model = BertForSequenceClassification.from_pretrained(baseline_model_path,num_labels=25)\n",
        "\n",
        "# Define training arguments for evaluation\n",
        "eval_args = TrainingArguments(\n",
        "    output_dir=\"./eval_results\",  # You can update this path\n",
        "    per_device_eval_batch_size=16,\n",
        "    logging_dir=\"./logs\",\n",
        "    do_train=False,\n",
        "    do_eval=True\n",
        ")\n",
        "\n",
        "# Custom metrics\n",
        "def compute_metrics(pred):\n",
        "    labels = pred.label_ids\n",
        "    preds = (pred.predictions > 0.5).astype(int)\n",
        "\n",
        "    recall = recall_score(labels, preds, average='micro')\n",
        "    precision = precision_score(labels, preds, average='micro')\n",
        "    f1 = f1_score(labels, preds, average='micro')\n",
        "    accuracy = accuracy_score(labels, preds)\n",
        "\n",
        "    return {\n",
        "        'recall': recall,\n",
        "        'precision': precision,\n",
        "        'f1': f1,\n",
        "        'accuracy': accuracy,\n",
        "    }\n",
        "\n",
        "# Initialize Trainer for evaluation\n",
        "trainer = Trainer(\n",
        "    model=model,\n",
        "    args=eval_args,\n",
        "    eval_dataset=train_dataset_phase2,\n",
        "    compute_metrics=compute_metrics\n",
        ")\n",
        "\n",
        "# Run evaluation\n",
        "eval_results = trainer.evaluate()\n",
        "print(\"Evaluation Results:\", eval_results)\n",
        "\n",
        "# Optional: Get predictions\n",
        "predictions = trainer.predict(train_dataset_phase2)\n",
        "y_true = predictions.label_ids\n",
        "y_pred = (predictions.predictions > 0.5).astype(int)\n",
        "\n",
        "# Compute specificity\n",
        "specificities = []\n",
        "for i in range(y_true.shape[1]):\n",
        "    cm = confusion_matrix(y_true[:, i], y_pred[:, i])\n",
        "    if cm.shape == (2, 2):\n",
        "        tn, fp, fn, tp = cm.ravel()\n",
        "        specificity = tn / (tn + fp) if (tn + fp) > 0 else 0\n",
        "        specificities.append(specificity)\n",
        "    else:\n",
        "        specificities.append(np.nan)\n",
        "\n",
        "average_specificity = np.nanmean(specificities)\n",
        "print(f\"Average Specificity: {average_specificity:.2f}\")\n"
      ]
    },
    {
      "cell_type": "code",
      "execution_count": null,
      "metadata": {
        "colab": {
          "base_uri": "https://localhost:8080/"
        },
        "id": "dC_VkP9O389c",
        "outputId": "2453275f-5fd2-4ec4-d1bc-d9daa5a907af"
      },
      "outputs": [
        {
          "output_type": "execute_result",
          "data": {
            "text/plain": [
              "Index(['note_id', 'subject_id', 'hadm_id', 'chartdate', 'charttime',\n",
              "       'storetime', 'category', 'description', 'cgid', 'iserror', 'text',\n",
              "       'row_id_x', 'gender', 'dob', 'dod', 'dod_hosp', 'dod_ssn',\n",
              "       'expire_flag', 'fold', 'row_id_y', 'admittime', 'dischtime',\n",
              "       'deathtime', 'admission_type', 'admission_location',\n",
              "       'discharge_location', 'insurance', 'language', 'religion',\n",
              "       'marital_status', 'ethnicity', 'edregtime', 'edouttime', 'diagnosis',\n",
              "       'hospital_expire_flag', 'has_chartevents_data', 'dod_merged',\n",
              "       'ethnicity_to_use', 'age', 'icd9_code', 'language_to_use', 'icustay_id',\n",
              "       'intime', 'hours_from_icu_admit', 'concat_notes', 'cleaned_sent',\n",
              "       'bert_input', 'stay', 'period_length',\n",
              "       'Acute and unspecified renal failure', 'Acute cerebrovascular disease',\n",
              "       'Acute myocardial infarction', 'Cardiac dysrhythmias',\n",
              "       'Chronic kidney disease',\n",
              "       'Chronic obstructive pulmonary disease and bronchiectasis',\n",
              "       'Complications of surgical procedures or medical care',\n",
              "       'Conduction disorders', 'Congestive heart failure; nonhypertensive',\n",
              "       'Coronary atherosclerosis and other heart disease',\n",
              "       'Diabetes mellitus with complications',\n",
              "       'Diabetes mellitus without complication',\n",
              "       'Disorders of lipid metabolism', 'Essential hypertension',\n",
              "       'Fluid and electrolyte disorders', 'Gastrointestinal hemorrhage',\n",
              "       'Hypertension with complications and secondary hypertension',\n",
              "       'Other liver diseases', 'Other lower respiratory disease',\n",
              "       'Other upper respiratory disease',\n",
              "       'Pleurisy; pneumothorax; pulmonary collapse',\n",
              "       'Pneumonia (except that caused by tuberculosis or sexually transmitted disease)',\n",
              "       'Respiratory failure; insufficiency; arrest (adult)',\n",
              "       'Septicemia (except in labor)', 'Shock', 'tokenized_notes', 'labels'],\n",
              "      dtype='object')"
            ]
          },
          "metadata": {},
          "execution_count": 42
        }
      ],
      "source": [
        "merged_df_copy.columns"
      ]
    },
    {
      "cell_type": "markdown",
      "metadata": {
        "id": "ZR8ke9Oy_Ra9"
      },
      "source": [
        "# Table 4 structure formation: First map the category fields like Gender, Ethnicity_to_use, Insurance and Language_to_use to actual values in the comparison on the original paper."
      ]
    },
    {
      "cell_type": "code",
      "source": [
        "gender_map = {\n",
        "    'F': 'Female',\n",
        "    'M': 'Male'\n",
        "}\n",
        "\n",
        "merged_df_copy['gender_mapped'] = merged_df_copy['gender'].map(gender_map)\n",
        "ethnicity_map = {\n",
        "    \"WHITE\": \"White\",\n",
        "    \"BLACK\": \"Black\",\n",
        "    \"ASIAN\": \"Asian\",\n",
        "    \"HISPANIC/LATINO\": \"Hispanic\",\n",
        "    \"OTHER\": \"Other\",\n",
        "    \"UNKNOWN/NOT SPECIFIED\": \"Other\"\n",
        "}\n",
        "\n",
        "merged_df_copy['ethnicity_mapped'] = merged_df_copy['ethnicity_to_use'].map(ethnicity_map)\n",
        "\n",
        "\n",
        "language_map = {\n",
        "    \"English\": \"English\",\n",
        "    \"Other\": \"Other\",\n",
        "    \"Missing\": \"Other\"  # You can also exclude Missing instead\n",
        "}\n",
        "\n",
        "merged_df_copy['language_mapped'] = merged_df_copy['language_to_use'].map(language_map)\n",
        "insurance_map = {\n",
        "    \"Medicare\": \"Medicare\",\n",
        "    \"Private\": \"Private\",\n",
        "    \"Medicaid\": \"Medicaid\",\n",
        "    \"Government\": \"Other\",\n",
        "    \"Self Pay\": \"Other\",\n",
        "    \"Other\": \"Other\"\n",
        "}\n",
        "\n",
        "merged_df_copy['insurance_mapped'] = merged_df_copy['insurance'].map(insurance_map)\n"
      ],
      "metadata": {
        "id": "qJfn_q-EHJez"
      },
      "execution_count": null,
      "outputs": []
    },
    {
      "cell_type": "markdown",
      "source": [
        "# Fairness metrics calculation and the reproducing the Table 4 on the paper ( Classifiers trained with baseline clinical BERT embeddings have multi-group fairness performance gaps across gender, language, ethnicity, and insurance status. We count number of downstream classification tasks with statistically significant differences (out of 57 total we used 25 in our case while reproducing), as well as the percentage of significant tasks which favor a subgroup. For many comparisons, there are a large number of tasks for which a significant difference exists across subgroups)"
      ],
      "metadata": {
        "id": "6IszmDOB5cjD"
      }
    },
    {
      "cell_type": "code",
      "source": [
        "import pandas as pd\n",
        "import numpy as np\n",
        "from sklearn.metrics import recall_score, accuracy_score, confusion_matrix\n",
        "from tqdm import tqdm\n",
        "from IPython.display import display  # For rendering the table\n",
        "\n",
        "# np.random.seed(42)  # Any number works; just keep it fixed across runs\n",
        "# --- Config ---\n",
        "demographic_columns = {\n",
        "    \"gender_mapped\": [(\"Male\", \"Female\")],  # Ensuring Male vs Female\n",
        "    \"language_mapped\": [(\"English\", \"Other\")],\n",
        "    \"ethnicity_mapped\": [(\"White\", \"Other\"), (\"Black\", \"Other\"), (\"Hispanic\", \"Other\"), (\"Asian\", \"Other\"), (\"Other\", \"Other\")],  # Added \"Other\" vs \"Other\" here\n",
        "    \"insurance_mapped\": [(\"Medicare\", \"Other\"), (\"Private\", \"Other\"), (\"Medicaid\", \"Other\")]\n",
        "}\n",
        "n_bootstrap = 100\n",
        "alpha = 0.05\n",
        "\n",
        "# --- Results placeholder ---\n",
        "table4_results = []\n",
        "\n",
        "# Efficient specificity function\n",
        "def safe_specificity(y_true, y_pred):\n",
        "    cm = confusion_matrix(y_true, y_pred, labels=[0, 1])\n",
        "    if cm.shape == (2, 2):\n",
        "        tn, fp, _, _ = cm.ravel()\n",
        "        denom = tn + fp\n",
        "        return tn / denom if denom else 0.0\n",
        "    return 0.0\n",
        "\n",
        "# Safe recall\n",
        "def safe_recall(y_true, y_pred):\n",
        "    return recall_score(y_true, y_pred) if len(np.unique(y_true)) > 1 else 0.0\n",
        "\n",
        "# Bootstrap difference with numpy vectorization\n",
        "def bootstrap_metric_diff(y_true1, y_pred1, y_true2, y_pred2, metric_fn):\n",
        "    n1, n2 = len(y_true1), len(y_true2)\n",
        "    if n1 == 0 or n2 == 0:\n",
        "        return 0.0, False, False\n",
        "    diffs = []\n",
        "    for _ in range(n_bootstrap):\n",
        "        idx1 = np.random.randint(0, n1, n1)\n",
        "        idx2 = np.random.randint(0, n2, n2)\n",
        "        try:\n",
        "            m1 = metric_fn(y_true1[idx1], y_pred1[idx1])\n",
        "            m2 = metric_fn(y_true2[idx2], y_pred2[idx2])\n",
        "            diffs.append(m1 - m2)\n",
        "        except:\n",
        "            continue\n",
        "    if not diffs:\n",
        "        return 0.0, False, False\n",
        "    diffs = np.array(diffs)\n",
        "    ci_low, ci_high = np.percentile(diffs, [100 * alpha / 2, 100 * (1 - alpha / 2)])\n",
        "    significant = (ci_low > 0) or (ci_high < 0)\n",
        "    favors_group1 = diffs.mean() > 0\n",
        "    return diffs.mean(), significant, favors_group1\n",
        "\n",
        "# Main loop with tqdm\n",
        "for fairness_attr, group_pairs in demographic_columns.items():\n",
        "    for group1, group2 in group_pairs:\n",
        "        recall_sig = parity_sig = spec_sig = 0\n",
        "        recall_fav = parity_fav = spec_fav = 0\n",
        "\n",
        "        # Precompute masks\n",
        "        if group1 == \"Other\":\n",
        "            # When group1 is the literal string \"Other\", match only rows labeled \"Other\"\n",
        "            mask1 = (merged_df_copy[fairness_attr] == \"Other\").values\n",
        "        else:\n",
        "            mask1 = (merged_df_copy[fairness_attr] == group1).values\n",
        "\n",
        "        if group2 == \"Other\":\n",
        "            # When group2 is \"Other\", dynamically create mask2 as all rows NOT in group1\n",
        "            mask2 = (merged_df_copy[fairness_attr] != group1).values\n",
        "        else:\n",
        "            mask2 = (merged_df_copy[fairness_attr] == group2).values\n",
        "\n",
        "        for label_idx in tqdm(range(y_true.shape[1]), desc=f\"{fairness_attr} {group1} vs {group2}\"):\n",
        "            y_true1, y_pred1 = y_true[mask1, label_idx], y_pred[mask1, label_idx]\n",
        "            y_true2, y_pred2 = y_true[mask2, label_idx], y_pred[mask2, label_idx]\n",
        "\n",
        "            if len(y_true1) < 1 or len(y_true2) < 1:\n",
        "                continue\n",
        "\n",
        "            # Bootstrapping\n",
        "            _, sig_r, fav_r = bootstrap_metric_diff(y_true1, y_pred1, y_true2, y_pred2, safe_recall)\n",
        "            _, sig_p, fav_p = bootstrap_metric_diff(y_true1, y_pred1, y_true2, y_pred2, accuracy_score)\n",
        "            _, sig_s, fav_s = bootstrap_metric_diff(y_true1, y_pred1, y_true2, y_pred2, safe_specificity)\n",
        "\n",
        "            recall_sig += sig_r\n",
        "            parity_sig += sig_p\n",
        "            spec_sig += sig_s\n",
        "\n",
        "            recall_fav += sig_r and fav_r\n",
        "            parity_fav += sig_p and fav_p\n",
        "            spec_fav += sig_s and fav_s\n",
        "\n",
        "        # Adjust the comparison name to \"Other vs Other\" if applicable\n",
        "        comparison_name = f\"{group1} vs {group2}\"\n",
        "        if group1 == \"Other\" and group2 == \"Other\":\n",
        "            comparison_name = \"Other vs Other\"\n",
        "\n",
        "        table4_results.append({\n",
        "            \"Fairness Definition\": fairness_attr,\n",
        "            \"Comparison (Group 1 vs Group 2)\": comparison_name,\n",
        "            \"Recall Gap\": f\"{recall_sig} ({recall_fav / max(recall_sig, 1) * 100:.1f}%)\",\n",
        "            \"Parity Gap\": f\"{parity_sig} ({parity_fav / max(parity_sig, 1) * 100:.1f}%)\",\n",
        "            \"Specificity Gap\": f\"{spec_sig} ({spec_fav / max(spec_sig, 1) * 100:.1f}%)\"\n",
        "        })\n",
        "\n",
        "# Final output\n",
        "# Map the demographic columns to their more readable labels\n",
        "fairness_map = {\n",
        "    \"gender_mapped\": \"Gender\",\n",
        "    \"language_mapped\": \"Language\",\n",
        "    \"ethnicity_mapped\": \"Ethnicity\",\n",
        "    \"insurance_mapped\": \"Insurance\"\n",
        "}\n",
        "\n",
        "# Convert to DataFrame\n",
        "table4_df = pd.DataFrame(table4_results)\n",
        "\n",
        "# Update the first column in the results to show the new labels\n",
        "table4_df['Fairness Definition'] = table4_df['Fairness Definition'].map(fairness_map)\n",
        "\n",
        "# Add a MultiIndex header above the Gap columns\n",
        "table4_df.columns = pd.MultiIndex.from_tuples([\n",
        "    (\"Fairness Definition\", \"\"),\n",
        "    (\"Comparison (Group 1 vs Group 2)\", \"\"),\n",
        "    (\"Significant Differences by Fairness Definition\", \"Recall Gap\"),\n",
        "    (\"Significant Differences by Fairness Definition\", \"Parity Gap\"),\n",
        "    (\"Significant Differences by Fairness Definition\", \"Specificity Gap\")\n",
        "])\n",
        "\n",
        "# Style the DataFrame\n",
        "styled_table = (\n",
        "    table4_df.style\n",
        "    .set_table_styles(\n",
        "        [   {'selector': 'th', 'props': [('font-weight', 'bold'), ('border', '1px solid black')]},\n",
        "            {'selector': 'td', 'props': [('border', '1px solid black')]},\n",
        "            {'selector': 'table', 'props': [('border-collapse', 'collapse')]},\n",
        "        ]\n",
        "    )\n",
        "    .apply(lambda x: ['font-weight: bold' if x.name == 'Fairness Definition' else '' for _ in x], axis=1)\n",
        "    .set_properties(**{'text-align': 'center'})\n",
        "    .set_caption(\"Final Fairness Table 4 (Styled)\")\n",
        ")\n",
        "\n",
        "# Display in Jupyter/IPython\n",
        "display(styled_table)\n",
        "\n",
        "# Save as HTML\n",
        "styled_table.to_html(\"final_fairness_table4.html\", escape=False, index=False)\n"
      ],
      "metadata": {
        "colab": {
          "base_uri": "https://localhost:8080/",
          "height": 595
        },
        "id": "N8buVC6hRZj8",
        "outputId": "a556ffd1-d694-4ade-abb7-5a488448ab89"
      },
      "execution_count": null,
      "outputs": [
        {
          "output_type": "stream",
          "name": "stderr",
          "text": [
            "gender_mapped Male vs Female: 100%|██████████| 25/25 [00:14<00:00,  1.72it/s]\n",
            "language_mapped English vs Other: 100%|██████████| 25/25 [00:14<00:00,  1.71it/s]\n",
            "ethnicity_mapped White vs Other: 100%|██████████| 25/25 [00:14<00:00,  1.74it/s]\n",
            "ethnicity_mapped Black vs Other: 100%|██████████| 25/25 [00:14<00:00,  1.75it/s]\n",
            "ethnicity_mapped Hispanic vs Other: 100%|██████████| 25/25 [00:13<00:00,  1.83it/s]\n",
            "ethnicity_mapped Asian vs Other: 100%|██████████| 25/25 [00:14<00:00,  1.76it/s]\n",
            "ethnicity_mapped Other vs Other: 100%|██████████| 25/25 [00:14<00:00,  1.77it/s]\n",
            "insurance_mapped Medicare vs Other: 100%|██████████| 25/25 [00:14<00:00,  1.76it/s]\n",
            "insurance_mapped Private vs Other: 100%|██████████| 25/25 [00:14<00:00,  1.76it/s]\n",
            "insurance_mapped Medicaid vs Other: 100%|██████████| 25/25 [00:14<00:00,  1.76it/s]\n"
          ]
        },
        {
          "output_type": "display_data",
          "data": {
            "text/plain": [
              "<pandas.io.formats.style.Styler at 0x78c5a93ca510>"
            ],
            "text/html": [
              "<style type=\"text/css\">\n",
              "#T_e6724 th {\n",
              "  font-weight: bold;\n",
              "  border: 1px solid black;\n",
              "}\n",
              "#T_e6724 td {\n",
              "  border: 1px solid black;\n",
              "}\n",
              "#T_e6724 table {\n",
              "  border-collapse: collapse;\n",
              "}\n",
              "#T_e6724_row0_col0, #T_e6724_row0_col1, #T_e6724_row0_col2, #T_e6724_row0_col3, #T_e6724_row0_col4, #T_e6724_row1_col0, #T_e6724_row1_col1, #T_e6724_row1_col2, #T_e6724_row1_col3, #T_e6724_row1_col4, #T_e6724_row2_col0, #T_e6724_row2_col1, #T_e6724_row2_col2, #T_e6724_row2_col3, #T_e6724_row2_col4, #T_e6724_row3_col0, #T_e6724_row3_col1, #T_e6724_row3_col2, #T_e6724_row3_col3, #T_e6724_row3_col4, #T_e6724_row4_col0, #T_e6724_row4_col1, #T_e6724_row4_col2, #T_e6724_row4_col3, #T_e6724_row4_col4, #T_e6724_row5_col0, #T_e6724_row5_col1, #T_e6724_row5_col2, #T_e6724_row5_col3, #T_e6724_row5_col4, #T_e6724_row6_col0, #T_e6724_row6_col1, #T_e6724_row6_col2, #T_e6724_row6_col3, #T_e6724_row6_col4, #T_e6724_row7_col0, #T_e6724_row7_col1, #T_e6724_row7_col2, #T_e6724_row7_col3, #T_e6724_row7_col4, #T_e6724_row8_col0, #T_e6724_row8_col1, #T_e6724_row8_col2, #T_e6724_row8_col3, #T_e6724_row8_col4, #T_e6724_row9_col0, #T_e6724_row9_col1, #T_e6724_row9_col2, #T_e6724_row9_col3, #T_e6724_row9_col4 {\n",
              "  text-align: center;\n",
              "}\n",
              "</style>\n",
              "<table id=\"T_e6724\" class=\"dataframe\">\n",
              "  <caption>Final Fairness Table 4 (Styled)</caption>\n",
              "  <thead>\n",
              "    <tr>\n",
              "      <th class=\"blank level0\" >&nbsp;</th>\n",
              "      <th id=\"T_e6724_level0_col0\" class=\"col_heading level0 col0\" >Fairness Definition</th>\n",
              "      <th id=\"T_e6724_level0_col1\" class=\"col_heading level0 col1\" >Comparison (Group 1 vs Group 2)</th>\n",
              "      <th id=\"T_e6724_level0_col2\" class=\"col_heading level0 col2\" colspan=\"3\">Significant Differences by Fairness Definition</th>\n",
              "    </tr>\n",
              "    <tr>\n",
              "      <th class=\"blank level1\" >&nbsp;</th>\n",
              "      <th id=\"T_e6724_level1_col0\" class=\"col_heading level1 col0\" ></th>\n",
              "      <th id=\"T_e6724_level1_col1\" class=\"col_heading level1 col1\" ></th>\n",
              "      <th id=\"T_e6724_level1_col2\" class=\"col_heading level1 col2\" >Recall Gap</th>\n",
              "      <th id=\"T_e6724_level1_col3\" class=\"col_heading level1 col3\" >Parity Gap</th>\n",
              "      <th id=\"T_e6724_level1_col4\" class=\"col_heading level1 col4\" >Specificity Gap</th>\n",
              "    </tr>\n",
              "  </thead>\n",
              "  <tbody>\n",
              "    <tr>\n",
              "      <th id=\"T_e6724_level0_row0\" class=\"row_heading level0 row0\" >0</th>\n",
              "      <td id=\"T_e6724_row0_col0\" class=\"data row0 col0\" >Gender</td>\n",
              "      <td id=\"T_e6724_row0_col1\" class=\"data row0 col1\" >Male vs Female</td>\n",
              "      <td id=\"T_e6724_row0_col2\" class=\"data row0 col2\" >3 (66.7%)</td>\n",
              "      <td id=\"T_e6724_row0_col3\" class=\"data row0 col3\" >15 (53.3%)</td>\n",
              "      <td id=\"T_e6724_row0_col4\" class=\"data row0 col4\" >2 (0.0%)</td>\n",
              "    </tr>\n",
              "    <tr>\n",
              "      <th id=\"T_e6724_level0_row1\" class=\"row_heading level0 row1\" >1</th>\n",
              "      <td id=\"T_e6724_row1_col0\" class=\"data row1 col0\" >Language</td>\n",
              "      <td id=\"T_e6724_row1_col1\" class=\"data row1 col1\" >English vs Other</td>\n",
              "      <td id=\"T_e6724_row1_col2\" class=\"data row1 col2\" >4 (50.0%)</td>\n",
              "      <td id=\"T_e6724_row1_col3\" class=\"data row1 col3\" >20 (30.0%)</td>\n",
              "      <td id=\"T_e6724_row1_col4\" class=\"data row1 col4\" >4 (50.0%)</td>\n",
              "    </tr>\n",
              "    <tr>\n",
              "      <th id=\"T_e6724_level0_row2\" class=\"row_heading level0 row2\" >2</th>\n",
              "      <td id=\"T_e6724_row2_col0\" class=\"data row2 col0\" >Ethnicity</td>\n",
              "      <td id=\"T_e6724_row2_col1\" class=\"data row2 col1\" >White vs Other</td>\n",
              "      <td id=\"T_e6724_row2_col2\" class=\"data row2 col2\" >3 (66.7%)</td>\n",
              "      <td id=\"T_e6724_row2_col3\" class=\"data row2 col3\" >17 (29.4%)</td>\n",
              "      <td id=\"T_e6724_row2_col4\" class=\"data row2 col4\" >2 (50.0%)</td>\n",
              "    </tr>\n",
              "    <tr>\n",
              "      <th id=\"T_e6724_level0_row3\" class=\"row_heading level0 row3\" >3</th>\n",
              "      <td id=\"T_e6724_row3_col0\" class=\"data row3 col0\" >Ethnicity</td>\n",
              "      <td id=\"T_e6724_row3_col1\" class=\"data row3 col1\" >Black vs Other</td>\n",
              "      <td id=\"T_e6724_row3_col2\" class=\"data row3 col2\" >4 (50.0%)</td>\n",
              "      <td id=\"T_e6724_row3_col3\" class=\"data row3 col3\" >18 (61.1%)</td>\n",
              "      <td id=\"T_e6724_row3_col4\" class=\"data row3 col4\" >4 (75.0%)</td>\n",
              "    </tr>\n",
              "    <tr>\n",
              "      <th id=\"T_e6724_level0_row4\" class=\"row_heading level0 row4\" >4</th>\n",
              "      <td id=\"T_e6724_row4_col0\" class=\"data row4 col0\" >Ethnicity</td>\n",
              "      <td id=\"T_e6724_row4_col1\" class=\"data row4 col1\" >Hispanic vs Other</td>\n",
              "      <td id=\"T_e6724_row4_col2\" class=\"data row4 col2\" >5 (20.0%)</td>\n",
              "      <td id=\"T_e6724_row4_col3\" class=\"data row4 col3\" >12 (83.3%)</td>\n",
              "      <td id=\"T_e6724_row4_col4\" class=\"data row4 col4\" >3 (100.0%)</td>\n",
              "    </tr>\n",
              "    <tr>\n",
              "      <th id=\"T_e6724_level0_row5\" class=\"row_heading level0 row5\" >5</th>\n",
              "      <td id=\"T_e6724_row5_col0\" class=\"data row5 col0\" >Ethnicity</td>\n",
              "      <td id=\"T_e6724_row5_col1\" class=\"data row5 col1\" >Asian vs Other</td>\n",
              "      <td id=\"T_e6724_row5_col2\" class=\"data row5 col2\" >5 (60.0%)</td>\n",
              "      <td id=\"T_e6724_row5_col3\" class=\"data row5 col3\" >14 (78.6%)</td>\n",
              "      <td id=\"T_e6724_row5_col4\" class=\"data row5 col4\" >4 (50.0%)</td>\n",
              "    </tr>\n",
              "    <tr>\n",
              "      <th id=\"T_e6724_level0_row6\" class=\"row_heading level0 row6\" >6</th>\n",
              "      <td id=\"T_e6724_row6_col0\" class=\"data row6 col0\" >Ethnicity</td>\n",
              "      <td id=\"T_e6724_row6_col1\" class=\"data row6 col1\" >Other vs Other</td>\n",
              "      <td id=\"T_e6724_row6_col2\" class=\"data row6 col2\" >4 (0.0%)</td>\n",
              "      <td id=\"T_e6724_row6_col3\" class=\"data row6 col3\" >16 (68.8%)</td>\n",
              "      <td id=\"T_e6724_row6_col4\" class=\"data row6 col4\" >4 (25.0%)</td>\n",
              "    </tr>\n",
              "    <tr>\n",
              "      <th id=\"T_e6724_level0_row7\" class=\"row_heading level0 row7\" >7</th>\n",
              "      <td id=\"T_e6724_row7_col0\" class=\"data row7 col0\" >Insurance</td>\n",
              "      <td id=\"T_e6724_row7_col1\" class=\"data row7 col1\" >Medicare vs Other</td>\n",
              "      <td id=\"T_e6724_row7_col2\" class=\"data row7 col2\" >6 (66.7%)</td>\n",
              "      <td id=\"T_e6724_row7_col3\" class=\"data row7 col3\" >18 (5.6%)</td>\n",
              "      <td id=\"T_e6724_row7_col4\" class=\"data row7 col4\" >2 (0.0%)</td>\n",
              "    </tr>\n",
              "    <tr>\n",
              "      <th id=\"T_e6724_level0_row8\" class=\"row_heading level0 row8\" >8</th>\n",
              "      <td id=\"T_e6724_row8_col0\" class=\"data row8 col0\" >Insurance</td>\n",
              "      <td id=\"T_e6724_row8_col1\" class=\"data row8 col1\" >Private vs Other</td>\n",
              "      <td id=\"T_e6724_row8_col2\" class=\"data row8 col2\" >4 (25.0%)</td>\n",
              "      <td id=\"T_e6724_row8_col3\" class=\"data row8 col3\" >18 (88.9%)</td>\n",
              "      <td id=\"T_e6724_row8_col4\" class=\"data row8 col4\" >2 (100.0%)</td>\n",
              "    </tr>\n",
              "    <tr>\n",
              "      <th id=\"T_e6724_level0_row9\" class=\"row_heading level0 row9\" >9</th>\n",
              "      <td id=\"T_e6724_row9_col0\" class=\"data row9 col0\" >Insurance</td>\n",
              "      <td id=\"T_e6724_row9_col1\" class=\"data row9 col1\" >Medicaid vs Other</td>\n",
              "      <td id=\"T_e6724_row9_col2\" class=\"data row9 col2\" >5 (40.0%)</td>\n",
              "      <td id=\"T_e6724_row9_col3\" class=\"data row9 col3\" >15 (100.0%)</td>\n",
              "      <td id=\"T_e6724_row9_col4\" class=\"data row9 col4\" >2 (100.0%)</td>\n",
              "    </tr>\n",
              "  </tbody>\n",
              "</table>\n"
            ]
          },
          "metadata": {}
        }
      ]
    },
    {
      "cell_type": "code",
      "source": [
        "import random\n",
        "import numpy as np\n",
        "import torch\n",
        "\n",
        "# Set seeds for reproducibility\n",
        "np.random.seed(42)\n",
        "random.seed(42)\n",
        "torch.manual_seed(42)\n",
        "\n",
        "# Save files to Google Drive\n",
        "torch.save(train_dataset_phase2, \"/content/drive/MyDrive/Payel-DLH-related/DataFiles/Model files-save for future use-2/train_dataset_phase2.pt\")\n",
        "np.save(\"/content/drive/MyDrive/Payel-DLH-related/DataFiles/Model files-save for future use-2/y_pred.npy\", y_pred)\n",
        "np.save(\"/content/drive/MyDrive/Payel-DLH-related/DataFiles/Model files-save for future use-2/y_true.npy\", y_true)\n",
        "merged_df_copy.to_csv(\"/content/drive/MyDrive/Payel-DLH-related/DataFiles/Model files-save for future use-2/merged_df_copy.csv\", index=False)\n",
        "table4_df.to_csv(\"/content/drive/MyDrive/Payel-DLH-related/DataFiles/Model files-save for future use-2/table4_fairness_results.csv\", index=False)"
      ],
      "metadata": {
        "id": "p4t3do79tnfj"
      },
      "execution_count": null,
      "outputs": []
    },
    {
      "cell_type": "markdown",
      "source": [
        "# Trying the Pretrained Adversarially debiased model"
      ],
      "metadata": {
        "id": "ag8KESE6hfdJ"
      }
    },
    {
      "cell_type": "code",
      "source": [
        "SCIBERT_DIR = Path('/content/drive/MyDrive/Payel-DLH-related/HurtfulWords/pretrainedModels')\n",
        "debiased_model_path = SCIBERT_DIR / 'Adversarially_Debiased_Clinical_BERT/adv_clinical_BERT_1_epoch_512'\n",
        "print(debiased_model_path)"
      ],
      "metadata": {
        "colab": {
          "base_uri": "https://localhost:8080/"
        },
        "id": "rpbhlJeyhkfS",
        "outputId": "900577a2-309b-487b-96dd-c2e783e2ee18"
      },
      "execution_count": null,
      "outputs": [
        {
          "output_type": "stream",
          "name": "stdout",
          "text": [
            "/content/drive/MyDrive/Payel-DLH-related/HurtfulWords/pretrainedModels/Adversarially_Debiased_Clinical_BERT/adv_clinical_BERT_1_epoch_512\n"
          ]
        }
      ]
    },
    {
      "cell_type": "code",
      "source": [
        "for item in os.listdir(debiased_model_path):\n",
        "    print(item)"
      ],
      "metadata": {
        "colab": {
          "base_uri": "https://localhost:8080/"
        },
        "id": "xGtWzkkJn8Is",
        "outputId": "145fa6f3-1d99-497b-da42-c3e3b12128ec"
      },
      "execution_count": null,
      "outputs": [
        {
          "output_type": "stream",
          "name": "stdout",
          "text": [
            "config.json\n",
            "pytorch_model.bin\n",
            "vocab.txt\n"
          ]
        }
      ]
    },
    {
      "cell_type": "code",
      "source": [
        "merged_df.columns"
      ],
      "metadata": {
        "colab": {
          "base_uri": "https://localhost:8080/"
        },
        "id": "gDREtZVXi-v5",
        "outputId": "538fa437-d2ae-4335-aa8b-0b3a7bde8542"
      },
      "execution_count": null,
      "outputs": [
        {
          "output_type": "execute_result",
          "data": {
            "text/plain": [
              "Index(['note_id', 'subject_id', 'hadm_id', 'chartdate', 'charttime',\n",
              "       'storetime', 'category', 'description', 'cgid', 'iserror', 'text',\n",
              "       'row_id_x', 'gender', 'dob', 'dod', 'dod_hosp', 'dod_ssn',\n",
              "       'expire_flag', 'fold', 'row_id_y', 'admittime', 'dischtime',\n",
              "       'deathtime', 'admission_type', 'admission_location',\n",
              "       'discharge_location', 'insurance', 'language', 'religion',\n",
              "       'marital_status', 'ethnicity', 'edregtime', 'edouttime', 'diagnosis',\n",
              "       'hospital_expire_flag', 'has_chartevents_data', 'dod_merged',\n",
              "       'ethnicity_to_use', 'age', 'icd9_code', 'language_to_use', 'icustay_id',\n",
              "       'intime', 'hours_from_icu_admit', 'concat_notes', 'cleaned_sent',\n",
              "       'bert_input', 'stay', 'period_length',\n",
              "       'Acute and unspecified renal failure', 'Acute cerebrovascular disease',\n",
              "       'Acute myocardial infarction', 'Cardiac dysrhythmias',\n",
              "       'Chronic kidney disease',\n",
              "       'Chronic obstructive pulmonary disease and bronchiectasis',\n",
              "       'Complications of surgical procedures or medical care',\n",
              "       'Conduction disorders', 'Congestive heart failure; nonhypertensive',\n",
              "       'Coronary atherosclerosis and other heart disease',\n",
              "       'Diabetes mellitus with complications',\n",
              "       'Diabetes mellitus without complication',\n",
              "       'Disorders of lipid metabolism', 'Essential hypertension',\n",
              "       'Fluid and electrolyte disorders', 'Gastrointestinal hemorrhage',\n",
              "       'Hypertension with complications and secondary hypertension',\n",
              "       'Other liver diseases', 'Other lower respiratory disease',\n",
              "       'Other upper respiratory disease',\n",
              "       'Pleurisy; pneumothorax; pulmonary collapse',\n",
              "       'Pneumonia (except that caused by tuberculosis or sexually transmitted disease)',\n",
              "       'Respiratory failure; insufficiency; arrest (adult)',\n",
              "       'Septicemia (except in labor)', 'Shock', 'tokenized_notes'],\n",
              "      dtype='object')"
            ]
          },
          "metadata": {},
          "execution_count": 63
        }
      ]
    },
    {
      "cell_type": "code",
      "source": [
        "# # Load tokenizer and model\n",
        "# debiased_tokenizer = BertTokenizer.from_pretrained(debiased_model_path)\n",
        "# debiased_model = BertModel.from_pretrained(debiased_model_path)"
      ],
      "metadata": {
        "id": "cMz1WrmQnzgo"
      },
      "execution_count": null,
      "outputs": []
    },
    {
      "cell_type": "code",
      "source": [
        "from transformers import BertTokenizer\n",
        "from tqdm import tqdm\n",
        "import torch\n",
        "\n",
        "# Setup\n",
        "tqdm.pandas()\n",
        "tokenizer = BertTokenizer.from_pretrained(debiased_model_path, trust_remote_code=True)\n",
        "\n",
        "# Sliding Window Tokenization Function\n",
        "def sliding_window_tokenize(text, tokenizer, max_len=512, stride=64):\n",
        "    encoded = tokenizer(\n",
        "        text,\n",
        "        truncation=True,\n",
        "        padding='max_length',\n",
        "        max_length=max_len,\n",
        "        stride=stride,\n",
        "        return_overflowing_tokens=True,\n",
        "        return_tensors='pt'\n",
        "    )\n",
        "    return {\n",
        "        \"input_ids\": encoded[\"input_ids\"],              # Shape: [num_chunks, max_len]\n",
        "        \"attention_mask\": encoded[\"attention_mask\"]\n",
        "    }\n",
        "\n",
        "# Apply per note (from cleaned sentences)\n",
        "def process_note_with_sliding_window(row, tokenizer, max_len=512, stride=64):\n",
        "    note = \" \".join(row['cleaned_sent'])  # Join all cleaned sentences into one string\n",
        "    return sliding_window_tokenize(note, tokenizer, max_len=max_len, stride=stride)\n",
        "\n",
        "# Apply to the DataFrame\n",
        "merged_df['tokenized_notes'] = merged_df.progress_apply(\n",
        "    lambda row: process_note_with_sliding_window(row, tokenizer, max_len=512, stride=64),\n",
        "    axis=1\n",
        ")\n"
      ],
      "metadata": {
        "colab": {
          "base_uri": "https://localhost:8080/"
        },
        "id": "NNb5kx3gh-Iz",
        "outputId": "7db98895-cbc3-4707-93c9-ab8c4fb38161"
      },
      "execution_count": null,
      "outputs": [
        {
          "output_type": "stream",
          "name": "stderr",
          "text": [
            "The tokenizer class you load from this checkpoint is not the same type as the class this function is called from. It may result in unexpected tokenization. \n",
            "The tokenizer class you load from this checkpoint is 'LlamaTokenizer'. \n",
            "The class this function is called from is 'BertTokenizer'.\n",
            "100%|██████████| 4490/4490 [08:21<00:00,  8.95it/s]\n"
          ]
        }
      ]
    },
    {
      "cell_type": "code",
      "source": [
        "merged_df.columns"
      ],
      "metadata": {
        "colab": {
          "base_uri": "https://localhost:8080/"
        },
        "id": "sa8Hj-HgyC3s",
        "outputId": "e0bf66e5-c444-49cf-c1f9-e9244da876cd"
      },
      "execution_count": null,
      "outputs": [
        {
          "output_type": "execute_result",
          "data": {
            "text/plain": [
              "Index(['note_id', 'subject_id', 'hadm_id', 'chartdate', 'charttime',\n",
              "       'storetime', 'category', 'description', 'cgid', 'iserror', 'text',\n",
              "       'row_id_x', 'gender', 'dob', 'dod', 'dod_hosp', 'dod_ssn',\n",
              "       'expire_flag', 'fold', 'row_id_y', 'admittime', 'dischtime',\n",
              "       'deathtime', 'admission_type', 'admission_location',\n",
              "       'discharge_location', 'insurance', 'language', 'religion',\n",
              "       'marital_status', 'ethnicity', 'edregtime', 'edouttime', 'diagnosis',\n",
              "       'hospital_expire_flag', 'has_chartevents_data', 'dod_merged',\n",
              "       'ethnicity_to_use', 'age', 'icd9_code', 'language_to_use', 'icustay_id',\n",
              "       'intime', 'hours_from_icu_admit', 'concat_notes', 'cleaned_sent',\n",
              "       'bert_input', 'stay', 'period_length',\n",
              "       'Acute and unspecified renal failure', 'Acute cerebrovascular disease',\n",
              "       'Acute myocardial infarction', 'Cardiac dysrhythmias',\n",
              "       'Chronic kidney disease',\n",
              "       'Chronic obstructive pulmonary disease and bronchiectasis',\n",
              "       'Complications of surgical procedures or medical care',\n",
              "       'Conduction disorders', 'Congestive heart failure; nonhypertensive',\n",
              "       'Coronary atherosclerosis and other heart disease',\n",
              "       'Diabetes mellitus with complications',\n",
              "       'Diabetes mellitus without complication',\n",
              "       'Disorders of lipid metabolism', 'Essential hypertension',\n",
              "       'Fluid and electrolyte disorders', 'Gastrointestinal hemorrhage',\n",
              "       'Hypertension with complications and secondary hypertension',\n",
              "       'Other liver diseases', 'Other lower respiratory disease',\n",
              "       'Other upper respiratory disease',\n",
              "       'Pleurisy; pneumothorax; pulmonary collapse',\n",
              "       'Pneumonia (except that caused by tuberculosis or sexually transmitted disease)',\n",
              "       'Respiratory failure; insufficiency; arrest (adult)',\n",
              "       'Septicemia (except in labor)', 'Shock', 'tokenized_notes'],\n",
              "      dtype='object')"
            ]
          },
          "metadata": {},
          "execution_count": 65
        }
      ]
    },
    {
      "cell_type": "code",
      "source": [
        "merged_df['labels'] = merged_df[label_col].values.tolist()"
      ],
      "metadata": {
        "id": "c60yHXAXyFZR"
      },
      "execution_count": null,
      "outputs": []
    },
    {
      "cell_type": "code",
      "source": [
        "merged_df.columns"
      ],
      "metadata": {
        "colab": {
          "base_uri": "https://localhost:8080/"
        },
        "id": "pYQNosf0yJjQ",
        "outputId": "10136ef2-b063-47e4-ab7e-beb1995fd2be"
      },
      "execution_count": null,
      "outputs": [
        {
          "output_type": "execute_result",
          "data": {
            "text/plain": [
              "Index(['note_id', 'subject_id', 'hadm_id', 'chartdate', 'charttime',\n",
              "       'storetime', 'category', 'description', 'cgid', 'iserror', 'text',\n",
              "       'row_id_x', 'gender', 'dob', 'dod', 'dod_hosp', 'dod_ssn',\n",
              "       'expire_flag', 'fold', 'row_id_y', 'admittime', 'dischtime',\n",
              "       'deathtime', 'admission_type', 'admission_location',\n",
              "       'discharge_location', 'insurance', 'language', 'religion',\n",
              "       'marital_status', 'ethnicity', 'edregtime', 'edouttime', 'diagnosis',\n",
              "       'hospital_expire_flag', 'has_chartevents_data', 'dod_merged',\n",
              "       'ethnicity_to_use', 'age', 'icd9_code', 'language_to_use', 'icustay_id',\n",
              "       'intime', 'hours_from_icu_admit', 'concat_notes', 'cleaned_sent',\n",
              "       'bert_input', 'stay', 'period_length',\n",
              "       'Acute and unspecified renal failure', 'Acute cerebrovascular disease',\n",
              "       'Acute myocardial infarction', 'Cardiac dysrhythmias',\n",
              "       'Chronic kidney disease',\n",
              "       'Chronic obstructive pulmonary disease and bronchiectasis',\n",
              "       'Complications of surgical procedures or medical care',\n",
              "       'Conduction disorders', 'Congestive heart failure; nonhypertensive',\n",
              "       'Coronary atherosclerosis and other heart disease',\n",
              "       'Diabetes mellitus with complications',\n",
              "       'Diabetes mellitus without complication',\n",
              "       'Disorders of lipid metabolism', 'Essential hypertension',\n",
              "       'Fluid and electrolyte disorders', 'Gastrointestinal hemorrhage',\n",
              "       'Hypertension with complications and secondary hypertension',\n",
              "       'Other liver diseases', 'Other lower respiratory disease',\n",
              "       'Other upper respiratory disease',\n",
              "       'Pleurisy; pneumothorax; pulmonary collapse',\n",
              "       'Pneumonia (except that caused by tuberculosis or sexually transmitted disease)',\n",
              "       'Respiratory failure; insufficiency; arrest (adult)',\n",
              "       'Septicemia (except in labor)', 'Shock', 'tokenized_notes', 'labels'],\n",
              "      dtype='object')"
            ]
          },
          "metadata": {},
          "execution_count": 67
        }
      ]
    },
    {
      "cell_type": "code",
      "source": [
        "from torch.utils.data import Dataset\n",
        "import torch\n",
        "\n",
        "class ClinicalNotesDataset(Dataset):\n",
        "    def __init__(self, df, max_len=512):\n",
        "        self.samples = []\n",
        "\n",
        "        for _, row in df.iterrows():\n",
        "            # Get tokenized notes and labels\n",
        "            tokenized = row['tokenized_notes']\n",
        "            label = torch.tensor(row['labels'], dtype=torch.float)  # Assuming it's a multi-label tensor\n",
        "\n",
        "            # Extract chunks for each tokenized note\n",
        "            input_ids_chunks = tokenized['input_ids']  # Shape: [num_chunks, max_len]\n",
        "            attention_mask_chunks = tokenized['attention_mask']\n",
        "\n",
        "            # Create a sample for each chunk of the note\n",
        "            for input_ids, attention_mask in zip(input_ids_chunks, attention_mask_chunks):\n",
        "                # Repeat the label for every chunk (because label applies to the entire note)\n",
        "                self.samples.append({\n",
        "                    'input_ids': input_ids,\n",
        "                    'attention_mask': attention_mask,\n",
        "                    'labels': label\n",
        "                })\n",
        "\n",
        "    def __len__(self):\n",
        "        return len(self.samples)\n",
        "\n",
        "    def __getitem__(self, idx):\n",
        "        return {\n",
        "            'input_ids': self.samples[idx]['input_ids'],\n",
        "            'attention_mask': self.samples[idx]['attention_mask'],\n",
        "            'labels': self.samples[idx]['labels']\n",
        "        }\n"
      ],
      "metadata": {
        "id": "KvvtBqr4yYpm"
      },
      "execution_count": null,
      "outputs": []
    },
    {
      "cell_type": "code",
      "source": [
        "dataset = ClinicalNotesDataset(merged_df)\n",
        "sample = dataset[0]\n",
        "\n",
        "print(sample['input_ids'].shape)       # torch.Size([512])\n",
        "print(sample['attention_mask'].shape)  # torch.Size([512])\n",
        "print(sample['labels'].shape)\n"
      ],
      "metadata": {
        "colab": {
          "base_uri": "https://localhost:8080/"
        },
        "id": "07y3jf4yyuG8",
        "outputId": "0ecd57d3-16bf-4b7d-d0b1-611fdb441c4a"
      },
      "execution_count": null,
      "outputs": [
        {
          "output_type": "stream",
          "name": "stdout",
          "text": [
            "torch.Size([512])\n",
            "torch.Size([512])\n",
            "torch.Size([25])\n"
          ]
        }
      ]
    },
    {
      "cell_type": "code",
      "source": [
        "train_dataset_debiased = ClinicalNotesDataset(merged_df, max_len=512)"
      ],
      "metadata": {
        "id": "qkUUokGJyvjs"
      },
      "execution_count": null,
      "outputs": []
    },
    {
      "cell_type": "code",
      "source": [
        "\n",
        "from transformers import BertForSequenceClassification, Trainer, TrainingArguments\n",
        "from sklearn.metrics import recall_score, confusion_matrix, precision_score, f1_score, accuracy_score\n",
        "import numpy as np\n",
        "\n",
        "# Load the pretrained Phase 1 model\n",
        "model = BertForSequenceClassification.from_pretrained(debiased_model_path,num_labels=25)\n",
        "\n",
        "# Define training arguments for evaluation\n",
        "eval_args = TrainingArguments(\n",
        "    output_dir=\"./eval_results\",  # You can update this path\n",
        "    per_device_eval_batch_size=16,\n",
        "    logging_dir=\"./logs\",\n",
        "    do_train=False,\n",
        "    do_eval=True\n",
        ")\n",
        "\n",
        "# Custom metrics\n",
        "def compute_metrics(pred):\n",
        "    labels = pred.label_ids\n",
        "    preds = (pred.predictions > 0.5).astype(int)\n",
        "\n",
        "    recall = recall_score(labels, preds, average='micro')\n",
        "    precision = precision_score(labels, preds, average='micro')\n",
        "    f1 = f1_score(labels, preds, average='micro')\n",
        "    accuracy = accuracy_score(labels, preds)\n",
        "\n",
        "    return {\n",
        "        'recall': recall,\n",
        "        'precision': precision,\n",
        "        'f1': f1,\n",
        "        'accuracy': accuracy,\n",
        "    }\n",
        "\n",
        "# Initialize Trainer for evaluation\n",
        "trainer = Trainer(\n",
        "    model=model,\n",
        "    args=eval_args,\n",
        "    eval_dataset=train_dataset_debiased ,\n",
        "    compute_metrics=compute_metrics\n",
        ")\n",
        "\n",
        "# Run evaluation\n",
        "eval_results = trainer.evaluate()\n",
        "print(\"Evaluation Results:\", eval_results)\n",
        "\n",
        "# Optional: Get predictions\n",
        "predictions = trainer.predict(train_dataset_debiased)\n",
        "y_true = predictions.label_ids\n",
        "y_pred = (predictions.predictions > 0.5).astype(int)\n",
        "\n",
        "# Compute specificity\n",
        "specificities = []\n",
        "for i in range(y_true.shape[1]):\n",
        "    cm = confusion_matrix(y_true[:, i], y_pred[:, i])\n",
        "    if cm.shape == (2, 2):\n",
        "        tn, fp, fn, tp = cm.ravel()\n",
        "        specificity = tn / (tn + fp) if (tn + fp) > 0 else 0\n",
        "        specificities.append(specificity)\n",
        "    else:\n",
        "        specificities.append(np.nan)\n",
        "\n",
        "average_specificity = np.nanmean(specificities)\n",
        "print(f\"Average Specificity: {average_specificity:.2f}\")\n"
      ],
      "metadata": {
        "colab": {
          "base_uri": "https://localhost:8080/",
          "height": 106
        },
        "id": "NkKuCUppy4Ce",
        "outputId": "cab5810c-697f-4eae-e3e9-52a95c2746a9"
      },
      "execution_count": null,
      "outputs": [
        {
          "output_type": "stream",
          "name": "stderr",
          "text": [
            "Some weights of BertForSequenceClassification were not initialized from the model checkpoint at /content/drive/MyDrive/Payel-DLH-related/HurtfulWords/pretrainedModels/Adversarially_Debiased_Clinical_BERT/adv_clinical_BERT_1_epoch_512 and are newly initialized: ['classifier.bias', 'classifier.weight']\n",
            "You should probably TRAIN this model on a down-stream task to be able to use it for predictions and inference.\n"
          ]
        },
        {
          "output_type": "display_data",
          "data": {
            "text/plain": [
              "<IPython.core.display.HTML object>"
            ],
            "text/html": []
          },
          "metadata": {}
        },
        {
          "output_type": "stream",
          "name": "stdout",
          "text": [
            "Evaluation Results: {'eval_loss': 0.6916810274124146, 'eval_model_preparation_time': 0.0027, 'eval_recall': 0.09316466932978251, 'eval_precision': 0.2531966224366707, 'eval_f1': 0.13621025308241402, 'eval_accuracy': 0.0, 'eval_runtime': 140.1366, 'eval_samples_per_second': 32.04, 'eval_steps_per_second': 2.005}\n",
            "Average Specificity: 0.93\n"
          ]
        }
      ]
    },
    {
      "cell_type": "code",
      "source": [
        "gender_map = {\n",
        "    'F': 'Female',\n",
        "    'M': 'Male'\n",
        "}\n",
        "\n",
        "merged_df['gender_mapped'] = merged_df['gender'].map(gender_map)\n",
        "ethnicity_map = {\n",
        "    \"WHITE\": \"White\",\n",
        "    \"BLACK\": \"Black\",\n",
        "    \"ASIAN\": \"Asian\",\n",
        "    \"HISPANIC/LATINO\": \"Hispanic\",\n",
        "    \"OTHER\": \"Other\",\n",
        "    \"UNKNOWN/NOT SPECIFIED\": \"Other\"\n",
        "}\n",
        "\n",
        "merged_df['ethnicity_mapped'] = merged_df['ethnicity_to_use'].map(ethnicity_map)\n",
        "\n",
        "\n",
        "language_map = {\n",
        "    \"English\": \"English\",\n",
        "    \"Other\": \"Other\",\n",
        "    \"Missing\": \"Other\"  # You can also exclude Missing instead\n",
        "}\n",
        "\n",
        "merged_df['language_mapped'] = merged_df['language_to_use'].map(language_map)\n",
        "insurance_map = {\n",
        "    \"Medicare\": \"Medicare\",\n",
        "    \"Private\": \"Private\",\n",
        "    \"Medicaid\": \"Medicaid\",\n",
        "    \"Government\": \"Other\",\n",
        "    \"Self Pay\": \"Other\",\n",
        "    \"Other\": \"Other\"\n",
        "}\n",
        "\n",
        "merged_df['insurance_mapped'] = merged_df['insurance'].map(insurance_map)\n",
        "\n"
      ],
      "metadata": {
        "id": "hA_LzWR11LsI"
      },
      "execution_count": null,
      "outputs": []
    },
    {
      "cell_type": "code",
      "source": [
        "\n",
        "import pandas as pd\n",
        "import numpy as np\n",
        "from sklearn.metrics import recall_score, accuracy_score, confusion_matrix\n",
        "from tqdm import tqdm\n",
        "from IPython.display import display  # For rendering the table\n",
        "\n",
        "# np.random.seed(42)  # Any number works; just keep it fixed across runs\n",
        "# --- Config ---\n",
        "demographic_columns = {\n",
        "    \"gender_mapped\": [(\"Male\", \"Female\")],  # Ensuring Male vs Female\n",
        "    \"language_mapped\": [(\"English\", \"Other\")],\n",
        "    \"ethnicity_mapped\": [(\"White\", \"Other\"), (\"Black\", \"Other\"), (\"Hispanic\", \"Other\"), (\"Asian\", \"Other\"), (\"Other\", \"Other\")],  # Added \"Other\" vs \"Other\" here\n",
        "    \"insurance_mapped\": [(\"Medicare\", \"Other\"), (\"Private\", \"Other\"), (\"Medicaid\", \"Other\")]\n",
        "}\n",
        "n_bootstrap = 100\n",
        "alpha = 0.05\n",
        "\n",
        "# --- Results placeholder ---\n",
        "table4_results = []\n",
        "\n",
        "# Efficient specificity function\n",
        "def safe_specificity(y_true, y_pred):\n",
        "    cm = confusion_matrix(y_true, y_pred, labels=[0, 1])\n",
        "    if cm.shape == (2, 2):\n",
        "        tn, fp, _, _ = cm.ravel()\n",
        "        denom = tn + fp\n",
        "        return tn / denom if denom else 0.0\n",
        "    return 0.0\n",
        "\n",
        "# Safe recall\n",
        "def safe_recall(y_true, y_pred):\n",
        "    return recall_score(y_true, y_pred) if len(np.unique(y_true)) > 1 else 0.0\n",
        "\n",
        "# Bootstrap difference with numpy vectorization\n",
        "def bootstrap_metric_diff(y_true1, y_pred1, y_true2, y_pred2, metric_fn):\n",
        "    n1, n2 = len(y_true1), len(y_true2)\n",
        "    if n1 == 0 or n2 == 0:\n",
        "        return 0.0, False, False\n",
        "    diffs = []\n",
        "    for _ in range(n_bootstrap):\n",
        "        idx1 = np.random.randint(0, n1, n1)\n",
        "        idx2 = np.random.randint(0, n2, n2)\n",
        "        try:\n",
        "            m1 = metric_fn(y_true1[idx1], y_pred1[idx1])\n",
        "            m2 = metric_fn(y_true2[idx2], y_pred2[idx2])\n",
        "            diffs.append(m1 - m2)\n",
        "        except:\n",
        "            continue\n",
        "    if not diffs:\n",
        "        return 0.0, False, False\n",
        "    diffs = np.array(diffs)\n",
        "    ci_low, ci_high = np.percentile(diffs, [100 * alpha / 2, 100 * (1 - alpha / 2)])\n",
        "    significant = (ci_low > 0) or (ci_high < 0)\n",
        "    favors_group1 = diffs.mean() > 0\n",
        "    return diffs.mean(), significant, favors_group1\n",
        "\n",
        "# Main loop with tqdm\n",
        "for fairness_attr, group_pairs in demographic_columns.items():\n",
        "    for group1, group2 in group_pairs:\n",
        "        recall_sig = parity_sig = spec_sig = 0\n",
        "        recall_fav = parity_fav = spec_fav = 0\n",
        "\n",
        "        # Precompute masks\n",
        "        if group1 == \"Other\":\n",
        "            # When group1 is the literal string \"Other\", match only rows labeled \"Other\"\n",
        "            mask1 = (merged_df[fairness_attr] == \"Other\").values\n",
        "        else:\n",
        "            mask1 = (merged_df[fairness_attr] == group1).values\n",
        "\n",
        "        if group2 == \"Other\":\n",
        "            # When group2 is \"Other\", dynamically create mask2 as all rows NOT in group1\n",
        "            mask2 = (merged_df[fairness_attr] != group1).values\n",
        "        else:\n",
        "            mask2 = (merged_df[fairness_attr] == group2).values\n",
        "\n",
        "        for label_idx in tqdm(range(y_true.shape[1]), desc=f\"{fairness_attr} {group1} vs {group2}\"):\n",
        "            y_true1, y_pred1 = y_true[mask1, label_idx], y_pred[mask1, label_idx]\n",
        "            y_true2, y_pred2 = y_true[mask2, label_idx], y_pred[mask2, label_idx]\n",
        "\n",
        "            if len(y_true1) < 1 or len(y_true2) < 1:\n",
        "                continue\n",
        "\n",
        "            # Bootstrapping\n",
        "            _, sig_r, fav_r = bootstrap_metric_diff(y_true1, y_pred1, y_true2, y_pred2, safe_recall)\n",
        "            _, sig_p, fav_p = bootstrap_metric_diff(y_true1, y_pred1, y_true2, y_pred2, accuracy_score)\n",
        "            _, sig_s, fav_s = bootstrap_metric_diff(y_true1, y_pred1, y_true2, y_pred2, safe_specificity)\n",
        "\n",
        "            recall_sig += sig_r\n",
        "            parity_sig += sig_p\n",
        "            spec_sig += sig_s\n",
        "\n",
        "            recall_fav += sig_r and fav_r\n",
        "            parity_fav += sig_p and fav_p\n",
        "            spec_fav += sig_s and fav_s\n",
        "\n",
        "        # Adjust the comparison name to \"Other vs Other\" if applicable\n",
        "        comparison_name = f\"{group1} vs {group2}\"\n",
        "        if group1 == \"Other\" and group2 == \"Other\":\n",
        "            comparison_name = \"Other vs Other\"\n",
        "\n",
        "        table4_results.append({\n",
        "            \"Fairness Definition\": fairness_attr,\n",
        "            \"Comparison (Group 1 vs Group 2)\": comparison_name,\n",
        "            \"Recall Gap\": f\"{recall_sig} ({recall_fav / max(recall_sig, 1) * 100:.1f}%)\",\n",
        "            \"Parity Gap\": f\"{parity_sig} ({parity_fav / max(parity_sig, 1) * 100:.1f}%)\",\n",
        "            \"Specificity Gap\": f\"{spec_sig} ({spec_fav / max(spec_sig, 1) * 100:.1f}%)\"\n",
        "        })\n",
        "\n",
        "# Final output\n",
        "# Map the demographic columns to their more readable labels\n",
        "fairness_map = {\n",
        "    \"gender_mapped\": \"Gender\",\n",
        "    \"language_mapped\": \"Language\",\n",
        "    \"ethnicity_mapped\": \"Ethnicity\",\n",
        "    \"insurance_mapped\": \"Insurance\"\n",
        "}\n",
        "\n",
        "# Convert to DataFrame\n",
        "table4_df_adv = pd.DataFrame(table4_results)\n",
        "\n",
        "# Update the first column in the results to show the new labels\n",
        "table4_df_adv['Fairness Definition'] = table4_df_adv['Fairness Definition'].map(fairness_map)\n",
        "\n",
        "# Add a MultiIndex header above the Gap columns\n",
        "table4_df_adv.columns = pd.MultiIndex.from_tuples([\n",
        "    (\"Fairness Definition\", \"\"),\n",
        "    (\"Comparison (Group 1 vs Group 2)\", \"\"),\n",
        "    (\"Significant Differences by Fairness Definition\", \"Recall Gap\"),\n",
        "    (\"Significant Differences by Fairness Definition\", \"Parity Gap\"),\n",
        "    (\"Significant Differences by Fairness Definition\", \"Specificity Gap\")\n",
        "])\n",
        "\n",
        "# Style the DataFrame\n",
        "styled_table = (\n",
        "    table4_df_adv.style\n",
        "    .set_table_styles(\n",
        "        [   {'selector': 'th', 'props': [('font-weight', 'bold'), ('border', '1px solid black')]},\n",
        "            {'selector': 'td', 'props': [('border', '1px solid black')]},\n",
        "            {'selector': 'table', 'props': [('border-collapse', 'collapse')]},\n",
        "        ]\n",
        "    )\n",
        "    .apply(lambda x: ['font-weight: bold' if x.name == 'Fairness Definition' else '' for _ in x], axis=1)\n",
        "    .set_properties(**{'text-align': 'center'})\n",
        "    .set_caption(\"Final Fairness Table 4 (Styled)\")\n",
        ")\n",
        "\n",
        "# Display in Jupyter/IPython\n",
        "display(styled_table)\n",
        "\n",
        "# Save as HTML\n",
        "styled_table.to_html(\"final_fairness_table4.html\", escape=False, index=False)"
      ],
      "metadata": {
        "colab": {
          "base_uri": "https://localhost:8080/",
          "height": 595
        },
        "id": "-N5du21j1Ono",
        "outputId": "47958beb-d7fe-4074-a979-5a0277c5eaa3"
      },
      "execution_count": null,
      "outputs": [
        {
          "output_type": "stream",
          "name": "stderr",
          "text": [
            "gender_mapped Male vs Female: 100%|██████████| 25/25 [00:15<00:00,  1.66it/s]\n",
            "language_mapped English vs Other: 100%|██████████| 25/25 [00:15<00:00,  1.66it/s]\n",
            "ethnicity_mapped White vs Other: 100%|██████████| 25/25 [00:14<00:00,  1.69it/s]\n",
            "ethnicity_mapped Black vs Other: 100%|██████████| 25/25 [00:14<00:00,  1.71it/s]\n",
            "ethnicity_mapped Hispanic vs Other: 100%|██████████| 25/25 [00:14<00:00,  1.72it/s]\n",
            "ethnicity_mapped Asian vs Other: 100%|██████████| 25/25 [00:14<00:00,  1.71it/s]\n",
            "ethnicity_mapped Other vs Other: 100%|██████████| 25/25 [00:14<00:00,  1.74it/s]\n",
            "insurance_mapped Medicare vs Other: 100%|██████████| 25/25 [00:14<00:00,  1.69it/s]\n",
            "insurance_mapped Private vs Other: 100%|██████████| 25/25 [00:14<00:00,  1.72it/s]\n",
            "insurance_mapped Medicaid vs Other: 100%|██████████| 25/25 [00:14<00:00,  1.68it/s]\n"
          ]
        },
        {
          "output_type": "display_data",
          "data": {
            "text/plain": [
              "<pandas.io.formats.style.Styler at 0x78c5b2493890>"
            ],
            "text/html": [
              "<style type=\"text/css\">\n",
              "#T_3cbc9 th {\n",
              "  font-weight: bold;\n",
              "  border: 1px solid black;\n",
              "}\n",
              "#T_3cbc9 td {\n",
              "  border: 1px solid black;\n",
              "}\n",
              "#T_3cbc9 table {\n",
              "  border-collapse: collapse;\n",
              "}\n",
              "#T_3cbc9_row0_col0, #T_3cbc9_row0_col1, #T_3cbc9_row0_col2, #T_3cbc9_row0_col3, #T_3cbc9_row0_col4, #T_3cbc9_row1_col0, #T_3cbc9_row1_col1, #T_3cbc9_row1_col2, #T_3cbc9_row1_col3, #T_3cbc9_row1_col4, #T_3cbc9_row2_col0, #T_3cbc9_row2_col1, #T_3cbc9_row2_col2, #T_3cbc9_row2_col3, #T_3cbc9_row2_col4, #T_3cbc9_row3_col0, #T_3cbc9_row3_col1, #T_3cbc9_row3_col2, #T_3cbc9_row3_col3, #T_3cbc9_row3_col4, #T_3cbc9_row4_col0, #T_3cbc9_row4_col1, #T_3cbc9_row4_col2, #T_3cbc9_row4_col3, #T_3cbc9_row4_col4, #T_3cbc9_row5_col0, #T_3cbc9_row5_col1, #T_3cbc9_row5_col2, #T_3cbc9_row5_col3, #T_3cbc9_row5_col4, #T_3cbc9_row6_col0, #T_3cbc9_row6_col1, #T_3cbc9_row6_col2, #T_3cbc9_row6_col3, #T_3cbc9_row6_col4, #T_3cbc9_row7_col0, #T_3cbc9_row7_col1, #T_3cbc9_row7_col2, #T_3cbc9_row7_col3, #T_3cbc9_row7_col4, #T_3cbc9_row8_col0, #T_3cbc9_row8_col1, #T_3cbc9_row8_col2, #T_3cbc9_row8_col3, #T_3cbc9_row8_col4, #T_3cbc9_row9_col0, #T_3cbc9_row9_col1, #T_3cbc9_row9_col2, #T_3cbc9_row9_col3, #T_3cbc9_row9_col4 {\n",
              "  text-align: center;\n",
              "}\n",
              "</style>\n",
              "<table id=\"T_3cbc9\" class=\"dataframe\">\n",
              "  <caption>Final Fairness Table 4 (Styled)</caption>\n",
              "  <thead>\n",
              "    <tr>\n",
              "      <th class=\"blank level0\" >&nbsp;</th>\n",
              "      <th id=\"T_3cbc9_level0_col0\" class=\"col_heading level0 col0\" >Fairness Definition</th>\n",
              "      <th id=\"T_3cbc9_level0_col1\" class=\"col_heading level0 col1\" >Comparison (Group 1 vs Group 2)</th>\n",
              "      <th id=\"T_3cbc9_level0_col2\" class=\"col_heading level0 col2\" colspan=\"3\">Significant Differences by Fairness Definition</th>\n",
              "    </tr>\n",
              "    <tr>\n",
              "      <th class=\"blank level1\" >&nbsp;</th>\n",
              "      <th id=\"T_3cbc9_level1_col0\" class=\"col_heading level1 col0\" ></th>\n",
              "      <th id=\"T_3cbc9_level1_col1\" class=\"col_heading level1 col1\" ></th>\n",
              "      <th id=\"T_3cbc9_level1_col2\" class=\"col_heading level1 col2\" >Recall Gap</th>\n",
              "      <th id=\"T_3cbc9_level1_col3\" class=\"col_heading level1 col3\" >Parity Gap</th>\n",
              "      <th id=\"T_3cbc9_level1_col4\" class=\"col_heading level1 col4\" >Specificity Gap</th>\n",
              "    </tr>\n",
              "  </thead>\n",
              "  <tbody>\n",
              "    <tr>\n",
              "      <th id=\"T_3cbc9_level0_row0\" class=\"row_heading level0 row0\" >0</th>\n",
              "      <td id=\"T_3cbc9_row0_col0\" class=\"data row0 col0\" >Gender</td>\n",
              "      <td id=\"T_3cbc9_row0_col1\" class=\"data row0 col1\" >Male vs Female</td>\n",
              "      <td id=\"T_3cbc9_row0_col2\" class=\"data row0 col2\" >1 (100.0%)</td>\n",
              "      <td id=\"T_3cbc9_row0_col3\" class=\"data row0 col3\" >16 (37.5%)</td>\n",
              "      <td id=\"T_3cbc9_row0_col4\" class=\"data row0 col4\" >2 (100.0%)</td>\n",
              "    </tr>\n",
              "    <tr>\n",
              "      <th id=\"T_3cbc9_level0_row1\" class=\"row_heading level0 row1\" >1</th>\n",
              "      <td id=\"T_3cbc9_row1_col0\" class=\"data row1 col0\" >Language</td>\n",
              "      <td id=\"T_3cbc9_row1_col1\" class=\"data row1 col1\" >English vs Other</td>\n",
              "      <td id=\"T_3cbc9_row1_col2\" class=\"data row1 col2\" >2 (50.0%)</td>\n",
              "      <td id=\"T_3cbc9_row1_col3\" class=\"data row1 col3\" >19 (15.8%)</td>\n",
              "      <td id=\"T_3cbc9_row1_col4\" class=\"data row1 col4\" >1 (100.0%)</td>\n",
              "    </tr>\n",
              "    <tr>\n",
              "      <th id=\"T_3cbc9_level0_row2\" class=\"row_heading level0 row2\" >2</th>\n",
              "      <td id=\"T_3cbc9_row2_col0\" class=\"data row2 col0\" >Ethnicity</td>\n",
              "      <td id=\"T_3cbc9_row2_col1\" class=\"data row2 col1\" >White vs Other</td>\n",
              "      <td id=\"T_3cbc9_row2_col2\" class=\"data row2 col2\" >0 (0.0%)</td>\n",
              "      <td id=\"T_3cbc9_row2_col3\" class=\"data row2 col3\" >17 (29.4%)</td>\n",
              "      <td id=\"T_3cbc9_row2_col4\" class=\"data row2 col4\" >2 (50.0%)</td>\n",
              "    </tr>\n",
              "    <tr>\n",
              "      <th id=\"T_3cbc9_level0_row3\" class=\"row_heading level0 row3\" >3</th>\n",
              "      <td id=\"T_3cbc9_row3_col0\" class=\"data row3 col0\" >Ethnicity</td>\n",
              "      <td id=\"T_3cbc9_row3_col1\" class=\"data row3 col1\" >Black vs Other</td>\n",
              "      <td id=\"T_3cbc9_row3_col2\" class=\"data row3 col2\" >0 (0.0%)</td>\n",
              "      <td id=\"T_3cbc9_row3_col3\" class=\"data row3 col3\" >19 (68.4%)</td>\n",
              "      <td id=\"T_3cbc9_row3_col4\" class=\"data row3 col4\" >2 (0.0%)</td>\n",
              "    </tr>\n",
              "    <tr>\n",
              "      <th id=\"T_3cbc9_level0_row4\" class=\"row_heading level0 row4\" >4</th>\n",
              "      <td id=\"T_3cbc9_row4_col0\" class=\"data row4 col0\" >Ethnicity</td>\n",
              "      <td id=\"T_3cbc9_row4_col1\" class=\"data row4 col1\" >Hispanic vs Other</td>\n",
              "      <td id=\"T_3cbc9_row4_col2\" class=\"data row4 col2\" >1 (100.0%)</td>\n",
              "      <td id=\"T_3cbc9_row4_col3\" class=\"data row4 col3\" >13 (84.6%)</td>\n",
              "      <td id=\"T_3cbc9_row4_col4\" class=\"data row4 col4\" >1 (100.0%)</td>\n",
              "    </tr>\n",
              "    <tr>\n",
              "      <th id=\"T_3cbc9_level0_row5\" class=\"row_heading level0 row5\" >5</th>\n",
              "      <td id=\"T_3cbc9_row5_col0\" class=\"data row5 col0\" >Ethnicity</td>\n",
              "      <td id=\"T_3cbc9_row5_col1\" class=\"data row5 col1\" >Asian vs Other</td>\n",
              "      <td id=\"T_3cbc9_row5_col2\" class=\"data row5 col2\" >1 (0.0%)</td>\n",
              "      <td id=\"T_3cbc9_row5_col3\" class=\"data row5 col3\" >13 (61.5%)</td>\n",
              "      <td id=\"T_3cbc9_row5_col4\" class=\"data row5 col4\" >2 (0.0%)</td>\n",
              "    </tr>\n",
              "    <tr>\n",
              "      <th id=\"T_3cbc9_level0_row6\" class=\"row_heading level0 row6\" >6</th>\n",
              "      <td id=\"T_3cbc9_row6_col0\" class=\"data row6 col0\" >Ethnicity</td>\n",
              "      <td id=\"T_3cbc9_row6_col1\" class=\"data row6 col1\" >Other vs Other</td>\n",
              "      <td id=\"T_3cbc9_row6_col2\" class=\"data row6 col2\" >1 (100.0%)</td>\n",
              "      <td id=\"T_3cbc9_row6_col3\" class=\"data row6 col3\" >17 (76.5%)</td>\n",
              "      <td id=\"T_3cbc9_row6_col4\" class=\"data row6 col4\" >2 (50.0%)</td>\n",
              "    </tr>\n",
              "    <tr>\n",
              "      <th id=\"T_3cbc9_level0_row7\" class=\"row_heading level0 row7\" >7</th>\n",
              "      <td id=\"T_3cbc9_row7_col0\" class=\"data row7 col0\" >Insurance</td>\n",
              "      <td id=\"T_3cbc9_row7_col1\" class=\"data row7 col1\" >Medicare vs Other</td>\n",
              "      <td id=\"T_3cbc9_row7_col2\" class=\"data row7 col2\" >2 (50.0%)</td>\n",
              "      <td id=\"T_3cbc9_row7_col3\" class=\"data row7 col3\" >17 (11.8%)</td>\n",
              "      <td id=\"T_3cbc9_row7_col4\" class=\"data row7 col4\" >2 (0.0%)</td>\n",
              "    </tr>\n",
              "    <tr>\n",
              "      <th id=\"T_3cbc9_level0_row8\" class=\"row_heading level0 row8\" >8</th>\n",
              "      <td id=\"T_3cbc9_row8_col0\" class=\"data row8 col0\" >Insurance</td>\n",
              "      <td id=\"T_3cbc9_row8_col1\" class=\"data row8 col1\" >Private vs Other</td>\n",
              "      <td id=\"T_3cbc9_row8_col2\" class=\"data row8 col2\" >1 (100.0%)</td>\n",
              "      <td id=\"T_3cbc9_row8_col3\" class=\"data row8 col3\" >18 (83.3%)</td>\n",
              "      <td id=\"T_3cbc9_row8_col4\" class=\"data row8 col4\" >2 (100.0%)</td>\n",
              "    </tr>\n",
              "    <tr>\n",
              "      <th id=\"T_3cbc9_level0_row9\" class=\"row_heading level0 row9\" >9</th>\n",
              "      <td id=\"T_3cbc9_row9_col0\" class=\"data row9 col0\" >Insurance</td>\n",
              "      <td id=\"T_3cbc9_row9_col1\" class=\"data row9 col1\" >Medicaid vs Other</td>\n",
              "      <td id=\"T_3cbc9_row9_col2\" class=\"data row9 col2\" >2 (50.0%)</td>\n",
              "      <td id=\"T_3cbc9_row9_col3\" class=\"data row9 col3\" >15 (80.0%)</td>\n",
              "      <td id=\"T_3cbc9_row9_col4\" class=\"data row9 col4\" >1 (0.0%)</td>\n",
              "    </tr>\n",
              "  </tbody>\n",
              "</table>\n"
            ]
          },
          "metadata": {}
        }
      ]
    },
    {
      "cell_type": "markdown",
      "source": [
        "# Extract Gaps for Male and Female"
      ],
      "metadata": {
        "id": "-3hSadcX2ueD"
      }
    },
    {
      "cell_type": "code",
      "source": [
        "def extract_gender_gap_counts(df):\n",
        "    # Filter for Gender: Male vs Female only\n",
        "    df_gender = df[\n",
        "        (df[(\"Fairness Definition\", \"\")] == \"Gender\") &\n",
        "        (df[(\"Comparison (Group 1 vs Group 2)\", \"\")] == \"Male vs Female\")\n",
        "    ]\n",
        "\n",
        "    # Extract the (count, % favoring male) from each cell\n",
        "    def parse(val):\n",
        "        count, percent = val.split()\n",
        "        return int(count), float(percent.strip(\"()%\"))\n",
        "\n",
        "    results = {}\n",
        "    for metric in [\"Parity Gap\", \"Recall Gap\", \"Specificity Gap\"]:\n",
        "        count, favoring_male = parse(df_gender[(\"Significant Differences by Fairness Definition\", metric)].values[0])\n",
        "        results[metric] = (count, favoring_male)\n",
        "    return results"
      ],
      "metadata": {
        "id": "IS8S53lC2xtL"
      },
      "execution_count": null,
      "outputs": []
    },
    {
      "cell_type": "markdown",
      "source": [
        "# Get results for Baseline and Debiased- Only Gender"
      ],
      "metadata": {
        "id": "Z3yT8Frb25Wc"
      }
    },
    {
      "cell_type": "code",
      "source": [
        "baseline_gender_results = extract_gender_gap_counts(table4_df)\n",
        "debiased_gender_results = extract_gender_gap_counts(table4_df_adv)"
      ],
      "metadata": {
        "id": "RoLskBWw258N"
      },
      "execution_count": null,
      "outputs": []
    },
    {
      "cell_type": "markdown",
      "source": [
        "# Build Table 5"
      ],
      "metadata": {
        "id": "eMW9SuTG2_pD"
      }
    },
    {
      "cell_type": "code",
      "source": [
        "import pandas as pd\n",
        "\n",
        "table5 = pd.DataFrame({\n",
        "    \"Model\": [\"Baseline\", \"Debiased\"],\n",
        "    \"Recall Gap\": [\n",
        "        f\"{baseline_gender_results['Recall Gap'][0]} ({baseline_gender_results['Recall Gap'][1]:.1f}%)\",\n",
        "        f\"{debiased_gender_results['Recall Gap'][0]} ({debiased_gender_results['Recall Gap'][1]:.1f}%)\"\n",
        "    ],\n",
        "    \"Parity Gap\": [\n",
        "        f\"{baseline_gender_results['Parity Gap'][0]} ({baseline_gender_results['Parity Gap'][1]:.1f}%)\",\n",
        "        f\"{debiased_gender_results['Parity Gap'][0]} ({debiased_gender_results['Parity Gap'][1]:.1f}%)\"\n",
        "    ],\n",
        "    \"Specificity Gap\": [\n",
        "        f\"{baseline_gender_results['Specificity Gap'][0]} ({baseline_gender_results['Specificity Gap'][1]:.1f}%)\",\n",
        "        f\"{debiased_gender_results['Specificity Gap'][0]} ({debiased_gender_results['Specificity Gap'][1]:.1f}%)\"\n",
        "    ]\n",
        "})\n",
        "\n",
        "table5\n",
        "# Style the Table 5 DataFrame\n",
        "styled_table5 = (\n",
        "    table5.style\n",
        "    .set_table_styles(\n",
        "        [   {'selector': 'th', 'props': [('font-weight', 'bold'), ('border', '1px solid black')]},\n",
        "            {'selector': 'td', 'props': [('border', '1px solid black')]},\n",
        "            {'selector': 'table', 'props': [('border-collapse', 'collapse')]},\n",
        "        ]\n",
        "    )\n",
        "    .set_properties(**{'text-align': 'center'})\n",
        "    .set_caption(\"Table 5: Comparison of classifiers based on our original clinical BERT and the gender-debiased clinical BERT on 57 tasks (25 in our case)\")\n",
        ")\n",
        "\n",
        "# Display it in Jupyter/IPython\n",
        "display(styled_table5)\n",
        "\n",
        "# Optionally save as HTML\n",
        "styled_table5.to_html(\"final_fairness_table5.html\", escape=False, index=False)\n"
      ],
      "metadata": {
        "colab": {
          "base_uri": "https://localhost:8080/",
          "height": 166
        },
        "id": "K9jHuyDi2_36",
        "outputId": "e7b93405-753e-4431-ae00-b7027d50daaa"
      },
      "execution_count": null,
      "outputs": [
        {
          "output_type": "display_data",
          "data": {
            "text/plain": [
              "<pandas.io.formats.style.Styler at 0x78c5b4084050>"
            ],
            "text/html": [
              "<style type=\"text/css\">\n",
              "#T_2337f th {\n",
              "  font-weight: bold;\n",
              "  border: 1px solid black;\n",
              "}\n",
              "#T_2337f td {\n",
              "  border: 1px solid black;\n",
              "}\n",
              "#T_2337f table {\n",
              "  border-collapse: collapse;\n",
              "}\n",
              "#T_2337f_row0_col0, #T_2337f_row0_col1, #T_2337f_row0_col2, #T_2337f_row0_col3, #T_2337f_row1_col0, #T_2337f_row1_col1, #T_2337f_row1_col2, #T_2337f_row1_col3 {\n",
              "  text-align: center;\n",
              "}\n",
              "</style>\n",
              "<table id=\"T_2337f\" class=\"dataframe\">\n",
              "  <caption>Table 5: Comparison of classifiers based on our original clinical BERT and the gender-debiased clinical BERT on 57 tasks (25 in our case)</caption>\n",
              "  <thead>\n",
              "    <tr>\n",
              "      <th class=\"blank level0\" >&nbsp;</th>\n",
              "      <th id=\"T_2337f_level0_col0\" class=\"col_heading level0 col0\" >Model</th>\n",
              "      <th id=\"T_2337f_level0_col1\" class=\"col_heading level0 col1\" >Recall Gap</th>\n",
              "      <th id=\"T_2337f_level0_col2\" class=\"col_heading level0 col2\" >Parity Gap</th>\n",
              "      <th id=\"T_2337f_level0_col3\" class=\"col_heading level0 col3\" >Specificity Gap</th>\n",
              "    </tr>\n",
              "  </thead>\n",
              "  <tbody>\n",
              "    <tr>\n",
              "      <th id=\"T_2337f_level0_row0\" class=\"row_heading level0 row0\" >0</th>\n",
              "      <td id=\"T_2337f_row0_col0\" class=\"data row0 col0\" >Baseline</td>\n",
              "      <td id=\"T_2337f_row0_col1\" class=\"data row0 col1\" >3 (66.7%)</td>\n",
              "      <td id=\"T_2337f_row0_col2\" class=\"data row0 col2\" >15 (53.3%)</td>\n",
              "      <td id=\"T_2337f_row0_col3\" class=\"data row0 col3\" >2 (0.0%)</td>\n",
              "    </tr>\n",
              "    <tr>\n",
              "      <th id=\"T_2337f_level0_row1\" class=\"row_heading level0 row1\" >1</th>\n",
              "      <td id=\"T_2337f_row1_col0\" class=\"data row1 col0\" >Debiased</td>\n",
              "      <td id=\"T_2337f_row1_col1\" class=\"data row1 col1\" >1 (100.0%)</td>\n",
              "      <td id=\"T_2337f_row1_col2\" class=\"data row1 col2\" >16 (37.5%)</td>\n",
              "      <td id=\"T_2337f_row1_col3\" class=\"data row1 col3\" >2 (100.0%)</td>\n",
              "    </tr>\n",
              "  </tbody>\n",
              "</table>\n"
            ]
          },
          "metadata": {}
        }
      ]
    },
    {
      "cell_type": "markdown",
      "source": [
        "These tables above summarize performance disparities across different demographic subgroups (gender, language, ethnicity, insurance) for clinical prediction tasks. For each group comparison, it reports how often there were statistically significant gaps in model performance, measured across:\n",
        "\n",
        "Recall Gap (True Positive Rate)\n",
        "\n",
        "Parity Gap (Accuracy)\n",
        "\n",
        "Specificity Gap (True Negative Rate)\n",
        "\n",
        "Example from the Baseline model evaluation: 3 (66.7%) as Recall Gap shows:\n",
        "\n",
        "The number of tasks where a significant gap was found, and\n",
        "\n",
        "The percentage of those tasks where the gap favored the first group (e.g., Male, English, White, etc.)\n",
        "\n"
      ],
      "metadata": {
        "id": "Yjlk1QeErNRG"
      }
    },
    {
      "cell_type": "code",
      "source": [],
      "metadata": {
        "id": "CW6zGxzGgskO"
      },
      "execution_count": null,
      "outputs": []
    }
  ],
  "metadata": {
    "colab": {
      "machine_shape": "hm",
      "provenance": [],
      "gpuType": "T4",
      "include_colab_link": true
    },
    "kernelspec": {
      "display_name": "Python 3",
      "name": "python3"
    },
    "language_info": {
      "name": "python"
    },
    "accelerator": "GPU"
  },
  "nbformat": 4,
  "nbformat_minor": 0
}
